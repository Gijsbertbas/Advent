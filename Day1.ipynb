{
 "cells": [
  {
   "cell_type": "markdown",
   "metadata": {},
   "source": [
    "# My solutions to the [Advent of Code 2018](https://adventofcode.com/)"
   ]
  },
  {
   "cell_type": "markdown",
   "metadata": {},
   "source": [
    "## --- Day 1: Chronal Calibration ---"
   ]
  },
  {
   "cell_type": "raw",
   "metadata": {},
   "source": [
    "\"We've detected some temporal anomalies,\" one of Santa's Elves at the Temporal Anomaly Research and Detection Instrument Station tells you. She sounded pretty worried when she called you down here. \"At 500-year intervals into the past, someone has been changing Santa's history!\"\n",
    "\n",
    "\"The good news is that the changes won't propagate to our time stream for another 25 days, and we have a device\" - she attaches something to your wrist - \"that will let you fix the changes with no such propagation delay. It's configured to send you 500 years further into the past every few days; that was the best we could do on such short notice.\"\n",
    "\n",
    "\"The bad news is that we are detecting roughly fifty anomalies throughout time; the device will indicate fixed anomalies with stars. The other bad news is that we only have one device and you're the best person for the job! Good lu--\" She taps a button on the device and you suddenly feel like you're falling. To save Christmas, you need to get all fifty stars by December 25th.\n",
    "\n",
    "Collect stars by solving puzzles. Two puzzles will be made available on each day in the advent calendar; the second puzzle is unlocked when you complete the first. Each puzzle grants one star. Good luck!\n",
    "\n",
    "After feeling like you've been falling for a few minutes, you look at the device's tiny screen. \"Error: Device must be calibrated before first use. Frequency drift detected. Cannot maintain destination lock.\" Below the message, the device shows a sequence of changes in frequency (your puzzle input). A value like +6 means the current frequency increases by 6; a value like -3 means the current frequency decreases by 3.\n",
    "\n",
    "For example, if the device displays frequency changes of +1, -2, +3, +1, then starting from a frequency of zero, the following changes would occur:\n",
    "\n",
    "    Current frequency  0, change of +1; resulting frequency  1.\n",
    "    Current frequency  1, change of -2; resulting frequency -1.\n",
    "    Current frequency -1, change of +3; resulting frequency  2.\n",
    "    Current frequency  2, change of +1; resulting frequency  3.\n",
    "\n",
    "In this example, the resulting frequency is 3.\n",
    "\n",
    "Here are other example situations:\n",
    "\n",
    "    +1, +1, +1 results in  3\n",
    "    +1, +1, -2 results in  0\n",
    "    -1, -2, -3 results in -6\n",
    "\n",
    "Starting with a frequency of zero, what is the resulting frequency after all of the changes in frequency have been applied?"
   ]
  },
  {
   "cell_type": "code",
   "execution_count": 1,
   "metadata": {},
   "outputs": [],
   "source": [
    "import numpy as np"
   ]
  },
  {
   "cell_type": "code",
   "execution_count": 2,
   "metadata": {},
   "outputs": [],
   "source": [
    "changes = np.loadtxt('input/day1.txt',dtype='int')"
   ]
  },
  {
   "cell_type": "code",
   "execution_count": 3,
   "metadata": {},
   "outputs": [
    {
     "name": "stdout",
     "output_type": "stream",
     "text": [
      "Solution to puzzle 1 = 423\n"
     ]
    }
   ],
   "source": [
    "print('Solution to puzzle 1 = {}'.format(sum(changes)))"
   ]
  },
  {
   "cell_type": "markdown",
   "metadata": {},
   "source": [
    "## --- Part Two ---"
   ]
  },
  {
   "cell_type": "raw",
   "metadata": {},
   "source": [
    "You notice that the device repeats the same frequency change list over and over. To calibrate the device, you need to find the first frequency it reaches twice.\n",
    "\n",
    "For example, using the same list of changes above, the device would loop as follows:\n",
    "\n",
    "    Current frequency  0, change of +1; resulting frequency  1.\n",
    "    Current frequency  1, change of -2; resulting frequency -1.\n",
    "    Current frequency -1, change of +3; resulting frequency  2.\n",
    "    Current frequency  2, change of +1; resulting frequency  3.\n",
    "    (At this point, the device continues from the start of the list.)\n",
    "    Current frequency  3, change of +1; resulting frequency  4.\n",
    "    Current frequency  4, change of -2; resulting frequency  2, which has already been seen.\n",
    "\n",
    "In this example, the first frequency reached twice is 2. Note that your device might need to repeat its list of frequency changes many times before a duplicate frequency is found, and that duplicates might be found while in the middle of processing the list.\n",
    "\n",
    "Here are other examples:\n",
    "\n",
    "    +1, -1 first reaches 0 twice.\n",
    "    +3, +3, +4, -2, -4 first reaches 10 twice.\n",
    "    -6, +3, +8, +5, -6 first reaches 5 twice.\n",
    "    +7, +7, -2, -7, -4 first reaches 14 twice.\n",
    "\n",
    "What is the first frequency your device reaches twice?\n"
   ]
  },
  {
   "cell_type": "code",
   "execution_count": 4,
   "metadata": {},
   "outputs": [
    {
     "name": "stdout",
     "output_type": "stream",
     "text": [
      "Number of unique frequencies = 1022\n",
      "Number of unique frequencies = 2043\n",
      "Number of unique frequencies = 3064\n",
      "Number of unique frequencies = 4085\n",
      "Number of unique frequencies = 5106\n",
      "Number of unique frequencies = 6127\n",
      "Number of unique frequencies = 7148\n",
      "Number of unique frequencies = 8169\n",
      "Number of unique frequencies = 9190\n",
      "Number of unique frequencies = 10211\n",
      "Number of unique frequencies = 11232\n",
      "Number of unique frequencies = 12253\n",
      "Number of unique frequencies = 13274\n",
      "Number of unique frequencies = 14295\n",
      "Number of unique frequencies = 15316\n",
      "Number of unique frequencies = 16337\n",
      "Number of unique frequencies = 17358\n",
      "Number of unique frequencies = 18379\n",
      "Number of unique frequencies = 19400\n",
      "Number of unique frequencies = 20421\n",
      "Number of unique frequencies = 21442\n",
      "Number of unique frequencies = 22463\n",
      "Number of unique frequencies = 23484\n",
      "Number of unique frequencies = 24505\n",
      "Number of unique frequencies = 25526\n",
      "Number of unique frequencies = 26547\n",
      "Number of unique frequencies = 27568\n",
      "Number of unique frequencies = 28589\n",
      "Number of unique frequencies = 29610\n",
      "Number of unique frequencies = 30631\n",
      "Number of unique frequencies = 31652\n"
     ]
    },
    {
     "ename": "KeyboardInterrupt",
     "evalue": "",
     "output_type": "error",
     "traceback": [
      "\u001b[0;31m---------------------------------------------------------------------------\u001b[0m",
      "\u001b[0;31mKeyboardInterrupt\u001b[0m                         Traceback (most recent call last)",
      "\u001b[0;32m<ipython-input-4-106665c5f386>\u001b[0m in \u001b[0;36m<module>\u001b[0;34m\u001b[0m\n\u001b[1;32m      4\u001b[0m     \u001b[0;32mfor\u001b[0m \u001b[0mchange\u001b[0m \u001b[0;32min\u001b[0m \u001b[0mchanges\u001b[0m\u001b[0;34m:\u001b[0m\u001b[0;34m\u001b[0m\u001b[0m\n\u001b[1;32m      5\u001b[0m         \u001b[0mfreq\u001b[0m \u001b[0;34m=\u001b[0m \u001b[0mfreqs\u001b[0m\u001b[0;34m[\u001b[0m\u001b[0;34m-\u001b[0m\u001b[0;36m1\u001b[0m\u001b[0;34m]\u001b[0m\u001b[0;34m+\u001b[0m\u001b[0mchange\u001b[0m\u001b[0;34m\u001b[0m\u001b[0m\n\u001b[0;32m----> 6\u001b[0;31m         \u001b[0;32mif\u001b[0m \u001b[0mfreq\u001b[0m \u001b[0;32min\u001b[0m \u001b[0mfreqs\u001b[0m\u001b[0;34m:\u001b[0m\u001b[0;34m\u001b[0m\u001b[0m\n\u001b[0m\u001b[1;32m      7\u001b[0m             \u001b[0msolution\u001b[0m \u001b[0;34m=\u001b[0m \u001b[0mfreq\u001b[0m\u001b[0;34m\u001b[0m\u001b[0m\n\u001b[1;32m      8\u001b[0m             \u001b[0;32mbreak\u001b[0m\u001b[0;34m\u001b[0m\u001b[0m\n",
      "\u001b[0;31mKeyboardInterrupt\u001b[0m: "
     ]
    }
   ],
   "source": [
    "freqs = [0]\n",
    "solution = None\n",
    "while not solution:\n",
    "    for change in changes:\n",
    "        freq = freqs[-1]+change\n",
    "        if freq in freqs:\n",
    "            solution = freq\n",
    "            break\n",
    "        else:\n",
    "            freqs.append(freq)\n",
    "    print('Number of unique frequencies = {}'.format(len(freqs)))\n",
    "\n",
    "print('First frequency that appears twice = {}'.format(freq))"
   ]
  },
  {
   "cell_type": "markdown",
   "metadata": {},
   "source": [
    "hmmm, that took too long, lists are slow...\n",
    "\n",
    "I looked at [Filippo's solution](https://github.com/filippo82/aoc2018/blob/master/day1/aoc_day1.ipynb) (thanks Filippo!) and learned about the collections.counter which is lightning fast"
   ]
  },
  {
   "cell_type": "code",
   "execution_count": 5,
   "metadata": {},
   "outputs": [],
   "source": [
    "from collections import Counter"
   ]
  },
  {
   "cell_type": "code",
   "execution_count": 6,
   "metadata": {},
   "outputs": [],
   "source": [
    "cntr = Counter()"
   ]
  },
  {
   "cell_type": "code",
   "execution_count": 7,
   "metadata": {},
   "outputs": [
    {
     "name": "stdout",
     "output_type": "stream",
     "text": [
      "Number of unique frequencies = 147184\n",
      "First frequency that appears twice = 61126\n"
     ]
    }
   ],
   "source": [
    "twice = None\n",
    "total = 0\n",
    "found = False\n",
    "while not found:\n",
    "    for f in changes:\n",
    "        total += f\n",
    "        cntr[total] += 1\n",
    "        if cntr[total] == 2:\n",
    "            found = True\n",
    "            twice = total\n",
    "            break\n",
    "\n",
    "print('Number of unique frequencies = {}'.format(len(cntr)))\n",
    "print('First frequency that appears twice = {}'.format(twice))"
   ]
  },
  {
   "cell_type": "code",
   "execution_count": null,
   "metadata": {
    "collapsed": true
   },
   "outputs": [],
   "source": []
  }
 ],
 "metadata": {
  "kernelspec": {
   "display_name": "Python 3",
   "language": "python",
   "name": "python3"
  },
  "language_info": {
   "codemirror_mode": {
    "name": "ipython",
    "version": 3
   },
   "file_extension": ".py",
   "mimetype": "text/x-python",
   "name": "python",
   "nbconvert_exporter": "python",
   "pygments_lexer": "ipython3",
   "version": "3.6.6"
  },
  "toc": {
   "nav_menu": {},
   "number_sections": true,
   "sideBar": true,
   "skip_h1_title": false,
   "toc_cell": false,
   "toc_position": {},
   "toc_section_display": "block",
   "toc_window_display": false
  }
 },
 "nbformat": 4,
 "nbformat_minor": 2
}
