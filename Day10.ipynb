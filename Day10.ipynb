{
 "cells": [
  {
   "cell_type": "markdown",
   "metadata": {},
   "source": [
    "# --- Day 10: The Stars Align ---"
   ]
  },
  {
   "cell_type": "raw",
   "metadata": {},
   "source": [
    "It's no use; your navigation system simply isn't capable of providing walking directions in the arctic circle, and certainly not in 1018.\n",
    "\n",
    "The Elves suggest an alternative. In times like these, North Pole rescue operations will arrange points of light in the sky to guide missing Elves back to base. Unfortunately, the message is easy to miss: the points move slowly enough that it takes hours to align them, but have so much momentum that they only stay aligned for a second. If you blink at the wrong time, it might be hours before another message appears.\n",
    "\n",
    "You can see these points of light floating in the distance, and record their position in the sky and their velocity, the relative change in position per second (your puzzle input). The coordinates are all given from your perspective; given enough time, those positions and velocities will move the points into a cohesive message!\n",
    "\n",
    "Rather than wait, you decide to fast-forward the process and calculate what the points will eventually spell.\n",
    "\n",
    "For example, suppose you note the following points:\n",
    "\n",
    "position=< 9,  1> velocity=< 0,  2>\n",
    "position=< 7,  0> velocity=<-1,  0>\n",
    "position=< 3, -2> velocity=<-1,  1>\n",
    "position=< 6, 10> velocity=<-2, -1>\n",
    "position=< 2, -4> velocity=< 2,  2>\n",
    "position=<-6, 10> velocity=< 2, -2>\n",
    "position=< 1,  8> velocity=< 1, -1>\n",
    "position=< 1,  7> velocity=< 1,  0>\n",
    "position=<-3, 11> velocity=< 1, -2>\n",
    "position=< 7,  6> velocity=<-1, -1>\n",
    "position=<-2,  3> velocity=< 1,  0>\n",
    "position=<-4,  3> velocity=< 2,  0>\n",
    "position=<10, -3> velocity=<-1,  1>\n",
    "position=< 5, 11> velocity=< 1, -2>\n",
    "position=< 4,  7> velocity=< 0, -1>\n",
    "position=< 8, -2> velocity=< 0,  1>\n",
    "position=<15,  0> velocity=<-2,  0>\n",
    "position=< 1,  6> velocity=< 1,  0>\n",
    "position=< 8,  9> velocity=< 0, -1>\n",
    "position=< 3,  3> velocity=<-1,  1>\n",
    "position=< 0,  5> velocity=< 0, -1>\n",
    "position=<-2,  2> velocity=< 2,  0>\n",
    "position=< 5, -2> velocity=< 1,  2>\n",
    "position=< 1,  4> velocity=< 2,  1>\n",
    "position=<-2,  7> velocity=< 2, -2>\n",
    "position=< 3,  6> velocity=<-1, -1>\n",
    "position=< 5,  0> velocity=< 1,  0>\n",
    "position=<-6,  0> velocity=< 2,  0>\n",
    "position=< 5,  9> velocity=< 1, -2>\n",
    "position=<14,  7> velocity=<-2,  0>\n",
    "position=<-3,  6> velocity=< 2, -1>\n",
    "Each line represents one point. Positions are given as <X, Y> pairs: X represents how far left (negative) or right (positive) the point appears, while Y represents how far up (negative) or down (positive) the point appears.\n",
    "\n",
    "At 0 seconds, each point has the position given. Each second, each point's velocity is added to its position. So, a point with velocity <1, -2> is moving to the right, but is moving upward twice as quickly. If this point's initial position were <3, 9>, after 3 seconds, its position would become <6, 3>.\n",
    "\n",
    "Over time, the points listed above would move like this:\n",
    "\n",
    "Initially:\n",
    "........#.............\n",
    "................#.....\n",
    ".........#.#..#.......\n",
    "......................\n",
    "#..........#.#.......#\n",
    "...............#......\n",
    "....#.................\n",
    "..#.#....#............\n",
    ".......#..............\n",
    "......#...............\n",
    "...#...#.#...#........\n",
    "....#..#..#.........#.\n",
    ".......#..............\n",
    "...........#..#.......\n",
    "#...........#.........\n",
    "...#.......#..........\n",
    "\n",
    "After 1 second:\n",
    "......................\n",
    "......................\n",
    "..........#....#......\n",
    "........#.....#.......\n",
    "..#.........#......#..\n",
    "......................\n",
    "......#...............\n",
    "....##.........#......\n",
    "......#.#.............\n",
    ".....##.##..#.........\n",
    "........#.#...........\n",
    "........#...#.....#...\n",
    "..#...........#.......\n",
    "....#.....#.#.........\n",
    "......................\n",
    "......................\n",
    "\n",
    "After 2 seconds:\n",
    "......................\n",
    "......................\n",
    "......................\n",
    "..............#.......\n",
    "....#..#...####..#....\n",
    "......................\n",
    "........#....#........\n",
    "......#.#.............\n",
    ".......#...#..........\n",
    ".......#..#..#.#......\n",
    "....#....#.#..........\n",
    ".....#...#...##.#.....\n",
    "........#.............\n",
    "......................\n",
    "......................\n",
    "......................\n",
    "\n",
    "After 3 seconds:\n",
    "......................\n",
    "......................\n",
    "......................\n",
    "......................\n",
    "......#...#..###......\n",
    "......#...#...#.......\n",
    "......#...#...#.......\n",
    "......#####...#.......\n",
    "......#...#...#.......\n",
    "......#...#...#.......\n",
    "......#...#...#.......\n",
    "......#...#..###......\n",
    "......................\n",
    "......................\n",
    "......................\n",
    "......................\n",
    "\n",
    "After 4 seconds:\n",
    "......................\n",
    "......................\n",
    "......................\n",
    "............#.........\n",
    "........##...#.#......\n",
    "......#.....#..#......\n",
    ".....#..##.##.#.......\n",
    ".......##.#....#......\n",
    "...........#....#.....\n",
    "..............#.......\n",
    "....#......#...#......\n",
    ".....#.....##.........\n",
    "...............#......\n",
    "...............#......\n",
    "......................\n",
    "......................\n",
    "After 3 seconds, the message appeared briefly: HI. Of course, your message will be much longer and will take many more seconds to appear.\n",
    "\n",
    "What message will eventually appear in the sky?"
   ]
  },
  {
   "cell_type": "code",
   "execution_count": 39,
   "metadata": {},
   "outputs": [],
   "source": [
    "import re\n",
    "import matplotlib.pyplot as plt\n",
    "from operator import itemgetter\n",
    "import numpy as np"
   ]
  },
  {
   "cell_type": "code",
   "execution_count": 57,
   "metadata": {},
   "outputs": [],
   "source": [
    "points = []\n",
    "with open('input/day10.txt') as f:\n",
    "    for line in f.readlines():\n",
    "        point = [int(p) for p in itemgetter(*[1,2,4,5])(re.split(r'[\\<\\>,]',line))]\n",
    "        points.append(point)\n",
    "points = np.array(points)"
   ]
  },
  {
   "cell_type": "code",
   "execution_count": 139,
   "metadata": {},
   "outputs": [],
   "source": [
    "from time import sleep"
   ]
  },
  {
   "cell_type": "code",
   "execution_count": 160,
   "metadata": {},
   "outputs": [],
   "source": [
    "def message(points, duration=60, step=100):\n",
    "    time = 0\n",
    "    moved = points[:,:2]#\n",
    "    for i in range(duration):\n",
    "        moved = moved + points[:,2:]*step\n",
    "        time += step\n",
    "    \n",
    "        fig, (ax1, ax2) = plt.subplots(1,2, figsize=(16,8))\n",
    "        ax1.scatter(points[:,0], points[:,1])\n",
    "        ax1.set_title('time 0')\n",
    "        ax2.scatter(moved[:,0], moved[:,1])\n",
    "        ax2.set_title('time {}'.format(time))\n",
    "        plt.show()\n",
    "        sleep(i/4)\n",
    "        plt.close()"
   ]
  },
  {
   "cell_type": "code",
   "execution_count": 161,
   "metadata": {},
   "outputs": [
    {
     "data": {
      "image/png": "[encoded data removed]",
      "text/plain": [
       "<Figure size 1152x576 with 2 Axes>"
      ]
     },
     "metadata": {
      "needs_background": "light"
     },
     "output_type": "display_data"
    },
    {
     "data": {
      "image/png": "[encoded data removed]",
      "text/plain": [
       "<Figure size 1152x576 with 2 Axes>"
      ]
     },
     "metadata": {
      "needs_background": "light"
     },
     "output_type": "display_data"
    },
    {
     "data": {
      "image/png": "[encoded data removed]",
      "text/plain": [
       "<Figure size 1152x576 with 2 Axes>"
      ]
     },
     "metadata": {
      "needs_background": "light"
     },
     "output_type": "display_data"
    }
   ],
   "source": [
    "message(points, duration=3, step=1)"
   ]
  },
  {
   "cell_type": "code",
   "execution_count": 154,
   "metadata": {},
   "outputs": [],
   "source": [
    "test = '''position=< 9,  1> velocity=< 0,  2>\n",
    "position=< 7,  0> velocity=<-1,  0>\n",
    "position=< 3, -2> velocity=<-1,  1>\n",
    "position=< 6, 10> velocity=<-2, -1>\n",
    "position=< 2, -4> velocity=< 2,  2>\n",
    "position=<-6, 10> velocity=< 2, -2>\n",
    "position=< 1,  8> velocity=< 1, -1>\n",
    "position=< 1,  7> velocity=< 1,  0>\n",
    "position=<-3, 11> velocity=< 1, -2>\n",
    "position=< 7,  6> velocity=<-1, -1>\n",
    "position=<-2,  3> velocity=< 1,  0>\n",
    "position=<-4,  3> velocity=< 2,  0>\n",
    "position=<10, -3> velocity=<-1,  1>\n",
    "position=< 5, 11> velocity=< 1, -2>\n",
    "position=< 4,  7> velocity=< 0, -1>\n",
    "position=< 8, -2> velocity=< 0,  1>\n",
    "position=<15,  0> velocity=<-2,  0>\n",
    "position=< 1,  6> velocity=< 1,  0>\n",
    "position=< 8,  9> velocity=< 0, -1>\n",
    "position=< 3,  3> velocity=<-1,  1>\n",
    "position=< 0,  5> velocity=< 0, -1>\n",
    "position=<-2,  2> velocity=< 2,  0>\n",
    "position=< 5, -2> velocity=< 1,  2>\n",
    "position=< 1,  4> velocity=< 2,  1>\n",
    "position=<-2,  7> velocity=< 2, -2>\n",
    "position=< 3,  6> velocity=<-1, -1>\n",
    "position=< 5,  0> velocity=< 1,  0>\n",
    "position=<-6,  0> velocity=< 2,  0>\n",
    "position=< 5,  9> velocity=< 1, -2>\n",
    "position=<14,  7> velocity=<-2,  0>\n",
    "position=<-3,  6> velocity=< 2, -1>'''"
   ]
  },
  {
   "cell_type": "code",
   "execution_count": 157,
   "metadata": {},
   "outputs": [],
   "source": [
    "points=[]\n",
    "for line in test.splitlines():\n",
    "        point = [int(p) for p in itemgetter(*[1,2,4,5])(re.split(r'[\\<\\>,]',line))]\n",
    "        points.append(point)\n",
    "points = np.array(points)"
   ]
  },
  {
   "cell_type": "code",
   "execution_count": null,
   "metadata": {},
   "outputs": [],
   "source": []
  }
 ],
 "metadata": {
  "kernelspec": {
   "display_name": "advent",
   "language": "python",
   "name": "advent"
  },
  "language_info": {
   "codemirror_mode": {
    "name": "ipython",
    "version": 3
   },
   "file_extension": ".py",
   "mimetype": "text/x-python",
   "name": "python",
   "nbconvert_exporter": "python",
   "pygments_lexer": "ipython3",
   "version": "3.6.7"
  }
 },
 "nbformat": 4,
 "nbformat_minor": 2
}
