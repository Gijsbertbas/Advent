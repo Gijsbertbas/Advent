{
 "cells": [
  {
   "cell_type": "markdown",
   "metadata": {},
   "source": [
    "# --- Day 10: The Stars Align ---"
   ]
  },
  {
   "cell_type": "raw",
   "metadata": {},
   "source": [
    "It's no use; your navigation system simply isn't capable of providing walking directions in the arctic circle, and certainly not in 1018.\n",
    "\n",
    "The Elves suggest an alternative. In times like these, North Pole rescue operations will arrange points of light in the sky to guide missing Elves back to base. Unfortunately, the message is easy to miss: the points move slowly enough that it takes hours to align them, but have so much momentum that they only stay aligned for a second. If you blink at the wrong time, it might be hours before another message appears.\n",
    "\n",
    "You can see these points of light floating in the distance, and record their position in the sky and their velocity, the relative change in position per second (your puzzle input). The coordinates are all given from your perspective; given enough time, those positions and velocities will move the points into a cohesive message!\n",
    "\n",
    "Rather than wait, you decide to fast-forward the process and calculate what the points will eventually spell.\n",
    "\n",
    "For example, suppose you note the following points:\n",
    "\n",
    "position=< 9,  1> velocity=< 0,  2>\n",
    "position=< 7,  0> velocity=<-1,  0>\n",
    "position=< 3, -2> velocity=<-1,  1>\n",
    "position=< 6, 10> velocity=<-2, -1>\n",
    "position=< 2, -4> velocity=< 2,  2>\n",
    "position=<-6, 10> velocity=< 2, -2>\n",
    "position=< 1,  8> velocity=< 1, -1>\n",
    "position=< 1,  7> velocity=< 1,  0>\n",
    "position=<-3, 11> velocity=< 1, -2>\n",
    "position=< 7,  6> velocity=<-1, -1>\n",
    "position=<-2,  3> velocity=< 1,  0>\n",
    "position=<-4,  3> velocity=< 2,  0>\n",
    "position=<10, -3> velocity=<-1,  1>\n",
    "position=< 5, 11> velocity=< 1, -2>\n",
    "position=< 4,  7> velocity=< 0, -1>\n",
    "position=< 8, -2> velocity=< 0,  1>\n",
    "position=<15,  0> velocity=<-2,  0>\n",
    "position=< 1,  6> velocity=< 1,  0>\n",
    "position=< 8,  9> velocity=< 0, -1>\n",
    "position=< 3,  3> velocity=<-1,  1>\n",
    "position=< 0,  5> velocity=< 0, -1>\n",
    "position=<-2,  2> velocity=< 2,  0>\n",
    "position=< 5, -2> velocity=< 1,  2>\n",
    "position=< 1,  4> velocity=< 2,  1>\n",
    "position=<-2,  7> velocity=< 2, -2>\n",
    "position=< 3,  6> velocity=<-1, -1>\n",
    "position=< 5,  0> velocity=< 1,  0>\n",
    "position=<-6,  0> velocity=< 2,  0>\n",
    "position=< 5,  9> velocity=< 1, -2>\n",
    "position=<14,  7> velocity=<-2,  0>\n",
    "position=<-3,  6> velocity=< 2, -1>\n",
    "Each line represents one point. Positions are given as <X, Y> pairs: X represents how far left (negative) or right (positive) the point appears, while Y represents how far up (negative) or down (positive) the point appears.\n",
    "\n",
    "At 0 seconds, each point has the position given. Each second, each point's velocity is added to its position. So, a point with velocity <1, -2> is moving to the right, but is moving upward twice as quickly. If this point's initial position were <3, 9>, after 3 seconds, its position would become <6, 3>.\n",
    "\n",
    "Over time, the points listed above would move like this:\n",
    "\n",
    "Initially:\n",
    "........#.............\n",
    "................#.....\n",
    ".........#.#..#.......\n",
    "......................\n",
    "#..........#.#.......#\n",
    "...............#......\n",
    "....#.................\n",
    "..#.#....#............\n",
    ".......#..............\n",
    "......#...............\n",
    "...#...#.#...#........\n",
    "....#..#..#.........#.\n",
    ".......#..............\n",
    "...........#..#.......\n",
    "#...........#.........\n",
    "...#.......#..........\n",
    "\n",
    "After 1 second:\n",
    "......................\n",
    "......................\n",
    "..........#....#......\n",
    "........#.....#.......\n",
    "..#.........#......#..\n",
    "......................\n",
    "......#...............\n",
    "....##.........#......\n",
    "......#.#.............\n",
    ".....##.##..#.........\n",
    "........#.#...........\n",
    "........#...#.....#...\n",
    "..#...........#.......\n",
    "....#.....#.#.........\n",
    "......................\n",
    "......................\n",
    "\n",
    "After 2 seconds:\n",
    "......................\n",
    "......................\n",
    "......................\n",
    "..............#.......\n",
    "....#..#...####..#....\n",
    "......................\n",
    "........#....#........\n",
    "......#.#.............\n",
    ".......#...#..........\n",
    ".......#..#..#.#......\n",
    "....#....#.#..........\n",
    ".....#...#...##.#.....\n",
    "........#.............\n",
    "......................\n",
    "......................\n",
    "......................\n",
    "\n",
    "After 3 seconds:\n",
    "......................\n",
    "......................\n",
    "......................\n",
    "......................\n",
    "......#...#..###......\n",
    "......#...#...#.......\n",
    "......#...#...#.......\n",
    "......#####...#.......\n",
    "......#...#...#.......\n",
    "......#...#...#.......\n",
    "......#...#...#.......\n",
    "......#...#..###......\n",
    "......................\n",
    "......................\n",
    "......................\n",
    "......................\n",
    "\n",
    "After 4 seconds:\n",
    "......................\n",
    "......................\n",
    "......................\n",
    "............#.........\n",
    "........##...#.#......\n",
    "......#.....#..#......\n",
    ".....#..##.##.#.......\n",
    ".......##.#....#......\n",
    "...........#....#.....\n",
    "..............#.......\n",
    "....#......#...#......\n",
    ".....#.....##.........\n",
    "...............#......\n",
    "...............#......\n",
    "......................\n",
    "......................\n",
    "After 3 seconds, the message appeared briefly: HI. Of course, your message will be much longer and will take many more seconds to appear.\n",
    "\n",
    "What message will eventually appear in the sky?"
   ]
  },
  {
   "cell_type": "code",
   "execution_count": 162,
   "metadata": {
    "collapsed": true
   },
   "outputs": [],
   "source": [
    "%matplotlib inline\n",
    "\n",
    "import re\n",
    "import matplotlib.pyplot as plt\n",
    "from operator import itemgetter\n",
    "import numpy as np"
   ]
  },
  {
   "cell_type": "code",
   "execution_count": 2,
   "metadata": {
    "collapsed": true
   },
   "outputs": [],
   "source": [
    "points = []\n",
    "with open('input/day10.txt') as f:\n",
    "    for line in f.readlines():\n",
    "        point = [int(p) for p in itemgetter(*[1,2,4,5])(re.split(r'[\\<\\>,]',line))]\n",
    "        points.append(point)\n",
    "points = np.array(points)"
   ]
  },
  {
   "cell_type": "code",
   "execution_count": 3,
   "metadata": {
    "collapsed": true
   },
   "outputs": [],
   "source": [
    "from time import sleep"
   ]
  },
  {
   "cell_type": "code",
   "execution_count": 154,
   "metadata": {
    "collapsed": true
   },
   "outputs": [],
   "source": [
    "test = '''position=< 9,  1> velocity=< 0,  2>\n",
    "position=< 7,  0> velocity=<-1,  0>\n",
    "position=< 3, -2> velocity=<-1,  1>\n",
    "position=< 6, 10> velocity=<-2, -1>\n",
    "position=< 2, -4> velocity=< 2,  2>\n",
    "position=<-6, 10> velocity=< 2, -2>\n",
    "position=< 1,  8> velocity=< 1, -1>\n",
    "position=< 1,  7> velocity=< 1,  0>\n",
    "position=<-3, 11> velocity=< 1, -2>\n",
    "position=< 7,  6> velocity=<-1, -1>\n",
    "position=<-2,  3> velocity=< 1,  0>\n",
    "position=<-4,  3> velocity=< 2,  0>\n",
    "position=<10, -3> velocity=<-1,  1>\n",
    "position=< 5, 11> velocity=< 1, -2>\n",
    "position=< 4,  7> velocity=< 0, -1>\n",
    "position=< 8, -2> velocity=< 0,  1>\n",
    "position=<15,  0> velocity=<-2,  0>\n",
    "position=< 1,  6> velocity=< 1,  0>\n",
    "position=< 8,  9> velocity=< 0, -1>\n",
    "position=< 3,  3> velocity=<-1,  1>\n",
    "position=< 0,  5> velocity=< 0, -1>\n",
    "position=<-2,  2> velocity=< 2,  0>\n",
    "position=< 5, -2> velocity=< 1,  2>\n",
    "position=< 1,  4> velocity=< 2,  1>\n",
    "position=<-2,  7> velocity=< 2, -2>\n",
    "position=< 3,  6> velocity=<-1, -1>\n",
    "position=< 5,  0> velocity=< 1,  0>\n",
    "position=<-6,  0> velocity=< 2,  0>\n",
    "position=< 5,  9> velocity=< 1, -2>\n",
    "position=<14,  7> velocity=<-2,  0>\n",
    "position=<-3,  6> velocity=< 2, -1>'''"
   ]
  },
  {
   "cell_type": "code",
   "execution_count": 4,
   "metadata": {},
   "outputs": [
    {
     "name": "stdout",
     "output_type": "stream",
     "text": [
      "not testing now\n"
     ]
    }
   ],
   "source": [
    "# test works fine\n",
    "'''\n",
    "points=[]\n",
    "for line in test.splitlines():\n",
    "        point = [int(p) for p in itemgetter(*[1,2,4,5])(re.split(r'[\\<\\>,]',line))]\n",
    "        points.append(point)\n",
    "points = np.array(points)\n",
    "message(points, 3, 1)\n",
    "'''\n",
    "print('not testing now')"
   ]
  },
  {
   "cell_type": "code",
   "execution_count": 156,
   "metadata": {},
   "outputs": [
    {
     "name": "stdout",
     "output_type": "stream",
     "text": [
      "minimal height of points after 10227 seconds\n"
     ]
    }
   ],
   "source": [
    "time = 0\n",
    "moved = points[:,:2]\n",
    "height = points[:,1].max()-points[:,1].min()+1\n",
    "while moved[:,1].max()-moved[:,1].min() < height:\n",
    "    height = moved[:,1].max()-moved[:,1].min()\n",
    "    time+=1\n",
    "    moved = points[:,:2]+points[:,2:]*time\n",
    "print('minimal height of points after {} seconds'.format(time-1))"
   ]
  },
  {
   "cell_type": "code",
   "execution_count": 160,
   "metadata": {},
   "outputs": [
    {
     "data": {
      "text/plain": [
       "<matplotlib.collections.PathCollection at 0x1c0dc588>"
      ]
     },
     "execution_count": 160,
     "metadata": {},
     "output_type": "execute_result"
    },
    {
     "data": {
      "image/png": "[encoded data removed]",
      "text/plain": [
       "<matplotlib.figure.Figure at 0x1c2efba8>"
      ]
     },
     "metadata": {},
     "output_type": "display_data"
    }
   ],
   "source": [
    "# image when points are closest together:\n",
    "moved = points[:,:2] + points[:,2:]*(time-1)\n",
    "plt.scatter(moved[:,0], -moved[:,1], c='b')"
   ]
  },
  {
   "cell_type": "code",
   "execution_count": 163,
   "metadata": {},
   "outputs": [
    {
     "name": "stdout",
     "output_type": "stream",
     "text": [
      "right! answer = EKALLKLB after 10227 seconds\n"
     ]
    }
   ],
   "source": [
    "print('right! answer = EKALLKLB after {} seconds'.format(time-1))"
   ]
  },
  {
   "cell_type": "code",
   "execution_count": null,
   "metadata": {
    "collapsed": true
   },
   "outputs": [],
   "source": []
  }
 ],
 "metadata": {
  "kernelspec": {
   "display_name": "Python 3",
   "language": "python",
   "name": "python3"
  },
  "language_info": {
   "codemirror_mode": {
    "name": "ipython",
    "version": 3
   },
   "file_extension": ".py",
   "mimetype": "text/x-python",
   "name": "python",
   "nbconvert_exporter": "python",
   "pygments_lexer": "ipython3",
   "version": "3.4.5"
  },
  "toc": {
   "nav_menu": {},
   "number_sections": true,
   "sideBar": true,
   "skip_h1_title": false,
   "toc_cell": false,
   "toc_position": {},
   "toc_section_display": "block",
   "toc_window_display": false
  }
 },
 "nbformat": 4,
 "nbformat_minor": 2
}
