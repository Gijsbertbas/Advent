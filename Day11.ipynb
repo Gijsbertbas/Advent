{
 "cells": [
  {
   "cell_type": "markdown",
   "metadata": {},
   "source": [
    "# --- Day 11: Chronal Charge ---"
   ]
  },
  {
   "cell_type": "raw",
   "metadata": {},
   "source": [
    "You watch the Elves and their sleigh fade into the distance as they head toward the North Pole.\n",
    "\n",
    "Actually, you're the one fading. The falling sensation returns.\n",
    "\n",
    "The low fuel warning light is illuminated on your wrist-mounted device. Tapping it once causes it to project a hologram of the situation: a 300x300 grid of fuel cells and their current power levels, some negative. You're not sure what negative power means in the context of time travel, but it can't be good.\n",
    "\n",
    "Each fuel cell has a coordinate ranging from 1 to 300 in both the X (horizontal) and Y (vertical) direction. In X,Y notation, the top-left cell is 1,1, and the top-right cell is 300,1.\n",
    "\n",
    "The interface lets you select any 3x3 square of fuel cells. To increase your chances of getting to your destination, you decide to choose the 3x3 square with the largest total power.\n",
    "\n",
    "The power level in a given fuel cell can be found through the following process:\n",
    "\n",
    "Find the fuel cell's rack ID, which is its X coordinate plus 10.\n",
    "Begin with a power level of the rack ID times the Y coordinate.\n",
    "Increase the power level by the value of the grid serial number (your puzzle input).\n",
    "Set the power level to itself multiplied by the rack ID.\n",
    "Keep only the hundreds digit of the power level (so 12345 becomes 3; numbers with no hundreds digit become 0).\n",
    "Subtract 5 from the power level.\n",
    "For example, to find the power level of the fuel cell at 3,5 in a grid with serial number 8:\n",
    "\n",
    "The rack ID is 3 + 10 = 13.\n",
    "The power level starts at 13 * 5 = 65.\n",
    "Adding the serial number produces 65 + 8 = 73.\n",
    "Multiplying by the rack ID produces 73 * 13 = 949.\n",
    "The hundreds digit of 949 is 9.\n",
    "Subtracting 5 produces 9 - 5 = 4.\n",
    "So, the power level of this fuel cell is 4.\n",
    "\n",
    "Here are some more example power levels:\n",
    "\n",
    "Fuel cell at  122,79, grid serial number 57: power level -5.\n",
    "Fuel cell at 217,196, grid serial number 39: power level  0.\n",
    "Fuel cell at 101,153, grid serial number 71: power level  4.\n",
    "Your goal is to find the 3x3 square which has the largest total power. The square must be entirely within the 300x300 grid. Identify this square using the X,Y coordinate of its top-left fuel cell. For example:\n",
    "\n",
    "For grid serial number 18, the largest total 3x3 square has a top-left corner of 33,45 (with a total power of 29); these fuel cells appear in the middle of this 5x5 region:\n",
    "\n",
    "-2  -4   4   4   4\n",
    "-4   4   4   4  -5\n",
    " 4   3   3   4  -4\n",
    " 1   1   2   4  -3\n",
    "-1   0   2  -5  -2\n",
    "For grid serial number 42, the largest 3x3 square's top-left is 21,61 (with a total power of 30); they are in the middle of this region:\n",
    "\n",
    "-3   4   2   2   2\n",
    "-4   4   3   3   4\n",
    "-5   3   3   4  -4\n",
    " 4   3   3   4  -3\n",
    " 3   3   3  -5  -1\n",
    "What is the X,Y coordinate of the top-left fuel cell of the 3x3 square with the largest total power?\n",
    "\n",
    "Your puzzle input is 1309."
   ]
  },
  {
   "cell_type": "code",
   "execution_count": 5,
   "metadata": {
    "collapsed": true
   },
   "outputs": [],
   "source": [
    "def powerlevel(x, y, serial):\n",
    "    return int(str(((x+10)*y+serial)*(x+10)).zfill(4)[-3])-5"
   ]
  },
  {
   "cell_type": "code",
   "execution_count": 9,
   "metadata": {},
   "outputs": [
    {
     "name": "stdout",
     "output_type": "stream",
     "text": [
      "True\n",
      "True\n",
      "True\n",
      "True\n"
     ]
    }
   ],
   "source": [
    "test = [(3,5,8,4),(122,79,57,-5),(217,196,39,0),(101,153,71,4)]\n",
    "for x,y,s,p in test:\n",
    "    print(powerlevel(x,y,s) == p)"
   ]
  },
  {
   "cell_type": "code",
   "execution_count": 25,
   "metadata": {
    "collapsed": true
   },
   "outputs": [],
   "source": [
    "serial = 1309\n",
    "totalpower = 0\n",
    "coordinates = [(1,1),(1,2),(1,3),(2,1),(2,2),(2,3),(3,1),(3,2),(3,3)]\n",
    "for x in range(197):\n",
    "    for y in range(197):\n",
    "        total = 0\n",
    "        for a,b in coordinates:\n",
    "            total += powerlevel(a+x,b+y,serial)\n",
    "        if total > totalpower:\n",
    "            totalpower = total\n",
    "            X = x+1\n",
    "            Y = y+1"
   ]
  },
  {
   "cell_type": "code",
   "execution_count": 30,
   "metadata": {},
   "outputs": [
    {
     "data": {
      "text/plain": [
       "(20, 43)"
      ]
     },
     "execution_count": 30,
     "metadata": {},
     "output_type": "execute_result"
    }
   ],
   "source": [
    "X,Y"
   ]
  },
  {
   "cell_type": "markdown",
   "metadata": {},
   "source": [
    "## --- Part Two ---"
   ]
  },
  {
   "cell_type": "raw",
   "metadata": {},
   "source": [
    "You discover a dial on the side of the device; it seems to let you select a square of any size, not just 3x3. Sizes from 1x1 to 300x300 are supported.\n",
    "\n",
    "Realizing this, you now must find the square of any size with the largest total power. Identify this square by including its size as a third parameter after the top-left coordinate: a 9x9 square with a top-left corner of 3,5 is identified as 3,5,9.\n",
    "\n",
    "For example:\n",
    "\n",
    "For grid serial number 18, the largest total square (with a total power of 113) is 16x16 and has a top-left corner of 90,269, so its identifier is 90,269,16.\n",
    "For grid serial number 42, the largest total square (with a total power of 119) is 12x12 and has a top-left corner of 232,251, so its identifier is 232,251,12.\n",
    "What is the X,Y,size identifier of the square with the largest total power?\n",
    "\n",
    "Your puzzle input is still 1309."
   ]
  },
  {
   "cell_type": "code",
   "execution_count": 31,
   "metadata": {
    "collapsed": true
   },
   "outputs": [],
   "source": [
    "import numpy as np"
   ]
  },
  {
   "cell_type": "code",
   "execution_count": 32,
   "metadata": {
    "collapsed": true
   },
   "outputs": [],
   "source": [
    "powermatrix = np.zeros((300,300))"
   ]
  },
  {
   "cell_type": "code",
   "execution_count": 34,
   "metadata": {},
   "outputs": [],
   "source": [
    "for x in range(300):\n",
    "    for y in range(300):\n",
    "        powermatrix[x,y] = powerlevel(x,y,serial)"
   ]
  },
  {
   "cell_type": "code",
   "execution_count": 53,
   "metadata": {},
   "outputs": [
    {
     "ename": "KeyboardInterrupt",
     "evalue": "",
     "output_type": "error",
     "traceback": [
      "\u001b[1;31m---------------------------------------------------------------------------\u001b[0m",
      "\u001b[1;31mKeyboardInterrupt\u001b[0m                         Traceback (most recent call last)",
      "\u001b[1;32m<ipython-input-53-40599f4b0427>\u001b[0m in \u001b[0;36m<module>\u001b[1;34m()\u001b[0m\n\u001b[0;32m      8\u001b[0m             \u001b[1;32mfor\u001b[0m \u001b[0ma\u001b[0m \u001b[1;32min\u001b[0m \u001b[0mrange\u001b[0m\u001b[1;33m(\u001b[0m\u001b[0msize\u001b[0m\u001b[1;33m)\u001b[0m\u001b[1;33m:\u001b[0m\u001b[1;33m\u001b[0m\u001b[0m\n\u001b[0;32m      9\u001b[0m                 \u001b[1;32mfor\u001b[0m \u001b[0mb\u001b[0m \u001b[1;32min\u001b[0m \u001b[0mrange\u001b[0m\u001b[1;33m(\u001b[0m\u001b[0msize\u001b[0m\u001b[1;33m)\u001b[0m\u001b[1;33m:\u001b[0m\u001b[1;33m\u001b[0m\u001b[0m\n\u001b[1;32m---> 10\u001b[1;33m                     \u001b[0mtotalpower\u001b[0m \u001b[1;33m+=\u001b[0m \u001b[0mpowermatrix\u001b[0m\u001b[1;33m[\u001b[0m\u001b[0mx\u001b[0m\u001b[1;33m+\u001b[0m\u001b[0ma\u001b[0m\u001b[1;33m,\u001b[0m\u001b[0my\u001b[0m\u001b[1;33m+\u001b[0m\u001b[0mb\u001b[0m\u001b[1;33m]\u001b[0m\u001b[1;33m\u001b[0m\u001b[0m\n\u001b[0m\u001b[0;32m     11\u001b[0m             \u001b[0mtotalpowermatrix\u001b[0m\u001b[1;33m[\u001b[0m\u001b[0mx\u001b[0m\u001b[1;33m,\u001b[0m\u001b[0my\u001b[0m\u001b[1;33m]\u001b[0m \u001b[1;33m=\u001b[0m \u001b[0mtotalpower\u001b[0m\u001b[1;33m\u001b[0m\u001b[0m\n\u001b[0;32m     12\u001b[0m     \u001b[1;32mif\u001b[0m \u001b[0mmax\u001b[0m\u001b[1;33m(\u001b[0m\u001b[0mtotalpowermatrix\u001b[0m\u001b[1;33m.\u001b[0m\u001b[0mflatten\u001b[0m\u001b[1;33m(\u001b[0m\u001b[1;33m)\u001b[0m\u001b[1;33m)\u001b[0m \u001b[1;33m>\u001b[0m \u001b[0mmaxtotalpower\u001b[0m\u001b[1;33m:\u001b[0m\u001b[1;33m\u001b[0m\u001b[0m\n",
      "\u001b[1;31mKeyboardInterrupt\u001b[0m: "
     ]
    }
   ],
   "source": [
    "maxtotalpower = 0\n",
    "maxsize = 0\n",
    "for size in range(300):\n",
    "    totalpowermatrix = np.zeros((300-size,300-size))\n",
    "    for x in range(300-size):\n",
    "        for y in range(300-size):\n",
    "            totalpower = 0\n",
    "            for a in range(size):\n",
    "                for b in range(size):\n",
    "                    totalpower += powermatrix[x+a,y+b]\n",
    "            totalpowermatrix[x,y] = totalpower\n",
    "    if max(totalpowermatrix.flatten()) > maxtotalpower:\n",
    "        maxtotalpower = max(totalpowermatrix.flatten())\n",
    "        maxsize = size"
   ]
  },
  {
   "cell_type": "code",
   "execution_count": 49,
   "metadata": {
    "collapsed": true
   },
   "outputs": [],
   "source": [
    "def findanswer(size, serial):\n",
    "    maxtotalpower = 0\n",
    "    for x in range(300-size):\n",
    "        for y in range(300-size):\n",
    "            totalpower = 0\n",
    "            for a in range(size):\n",
    "                for b in range(size):\n",
    "                    totalpower += powerlevel(x+a+1,y+b+1,serial)\n",
    "            if totalpower > maxtotalpower:\n",
    "                maxtotalpower = totalpower\n",
    "                X = x+1\n",
    "                Y = y+1\n",
    "    return X, Y, maxtotalpower"
   ]
  },
  {
   "cell_type": "code",
   "execution_count": 56,
   "metadata": {},
   "outputs": [
    {
     "data": {
      "text/plain": [
       "(233, 271, 108)"
      ]
     },
     "execution_count": 56,
     "metadata": {},
     "output_type": "execute_result"
    }
   ],
   "source": [
    "findanswer(maxsize, serial)"
   ]
  },
  {
   "cell_type": "code",
   "execution_count": null,
   "metadata": {
    "collapsed": true
   },
   "outputs": [],
   "source": []
  }
 ],
 "metadata": {
  "kernelspec": {
   "display_name": "Python 3",
   "language": "python",
   "name": "python3"
  },
  "language_info": {
   "codemirror_mode": {
    "name": "ipython",
    "version": 3
   },
   "file_extension": ".py",
   "mimetype": "text/x-python",
   "name": "python",
   "nbconvert_exporter": "python",
   "pygments_lexer": "ipython3",
   "version": "3.4.5"
  },
  "toc": {
   "nav_menu": {},
   "number_sections": true,
   "sideBar": true,
   "skip_h1_title": false,
   "toc_cell": false,
   "toc_position": {},
   "toc_section_display": "block",
   "toc_window_display": false
  }
 },
 "nbformat": 4,
 "nbformat_minor": 2
}
