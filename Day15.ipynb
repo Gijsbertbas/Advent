{
 "cells": [
  {
   "cell_type": "markdown",
   "metadata": {},
   "source": [
    "# --- Day 15: Beverage Bandits ---"
   ]
  },
  {
   "cell_type": "raw",
   "metadata": {},
   "source": [
    "Having perfected their hot chocolate, the Elves have a new problem: the Goblins that live in these caves will do anything to steal it. Looks like they're here for a fight.\n",
    "\n",
    "You scan the area, generating a map of the walls (#), open cavern (.), and starting position of every Goblin (G) and Elf (E) (your puzzle input).\n",
    "\n",
    "Combat proceeds in rounds; in each round, each unit that is still alive takes a turn, resolving all of its actions before the next unit's turn begins. On each unit's turn, it tries to move into range of an enemy (if it isn't already) and then attack (if it is in range).\n",
    "\n",
    "All units are very disciplined and always follow very strict combat rules. Units never move or attack diagonally, as doing so would be dishonorable. When multiple choices are equally valid, ties are broken in reading order: top-to-bottom, then left-to-right. For instance, the order in which units take their turns within a round is the reading order of their starting positions in that round, regardless of the type of unit or whether other units have moved after the round started. For example:\n",
    "\n",
    "                 would take their\n",
    "These units:   turns in this order:\n",
    "  #######           #######\n",
    "  #.G.E.#           #.1.2.#\n",
    "  #E.G.E#           #3.4.5#\n",
    "  #.G.E.#           #.6.7.#\n",
    "  #######           #######\n",
    "Each unit begins its turn by identifying all possible targets (enemy units). If no targets remain, combat ends.\n",
    "\n",
    "Then, the unit identifies all of the open squares (.) that are in range of each target; these are the squares which are adjacent (immediately up, down, left, or right) to any target and which aren't already occupied by a wall or another unit. Alternatively, the unit might already be in range of a target. If the unit is not already in range of a target, and there are no open squares which are in range of a target, the unit ends its turn.\n",
    "\n",
    "If the unit is already in range of a target, it does not move, but continues its turn with an attack. Otherwise, since it is not in range of a target, it moves.\n",
    "\n",
    "To move, the unit first considers the squares that are in range and determines which of those squares it could reach in the fewest steps. A step is a single movement to any adjacent (immediately up, down, left, or right) open (.) square. Units cannot move into walls or other units. The unit does this while considering the current positions of units and does not do any prediction about where units will be later. If the unit cannot reach (find an open path to) any of the squares that are in range, it ends its turn. If multiple squares are in range and tied for being reachable in the fewest steps, the step which is first in reading order is chosen. For example:\n",
    "\n",
    "Targets:      In range:     Reachable:    Nearest:      Chosen:\n",
    "#######       #######       #######       #######       #######\n",
    "#E..G.#       #E.?G?#       #E.@G.#       #E.!G.#       #E.+G.#\n",
    "#...#.#  -->  #.?.#?#  -->  #.@.#.#  -->  #.!.#.#  -->  #...#.#\n",
    "#.G.#G#       #?G?#G#       #@G@#G#       #!G.#G#       #.G.#G#\n",
    "#######       #######       #######       #######       #######\n",
    "In the above scenario, the Elf has three targets (the three Goblins):\n",
    "\n",
    "Each of the Goblins has open, adjacent squares which are in range (marked with a ? on the map).\n",
    "Of those squares, four are reachable (marked @); the other two (on the right) would require moving through a wall or unit to reach.\n",
    "Three of these reachable squares are nearest, requiring the fewest steps (only 2) to reach (marked !).\n",
    "Of those, the square which is first in reading order is chosen (+).\n",
    "The unit then takes a single step toward the chosen square along the shortest path to that square. If multiple steps would put the unit equally closer to its destination, the unit chooses the step which is first in reading order. (This requires knowing when there is more than one shortest path so that you can consider the first step of each such path.) For example:\n",
    "\n",
    "In range:     Nearest:      Chosen:       Distance:     Step:\n",
    "#######       #######       #######       #######       #######\n",
    "#.E...#       #.E...#       #.E...#       #4E212#       #..E..#\n",
    "#...?.#  -->  #...!.#  -->  #...+.#  -->  #32101#  -->  #.....#\n",
    "#..?G?#       #..!G.#       #...G.#       #432G2#       #...G.#\n",
    "#######       #######       #######       #######       #######\n",
    "The Elf sees three squares in range of a target (?), two of which are nearest (!), and so the first in reading order is chosen (+). Under \"Distance\", each open square is marked with its distance from the destination square; the two squares to which the Elf could move on this turn (down and to the right) are both equally good moves and would leave the Elf 2 steps from being in range of the Goblin. Because the step which is first in reading order is chosen, the Elf moves right one square.\n",
    "\n",
    "Here's a larger example of movement:\n",
    "\n",
    "Initially:\n",
    "#########\n",
    "#G..G..G#\n",
    "#.......#\n",
    "#.......#\n",
    "#G..E..G#\n",
    "#.......#\n",
    "#.......#\n",
    "#G..G..G#\n",
    "#########\n",
    "\n",
    "After 1 round:\n",
    "#########\n",
    "#.G...G.#\n",
    "#...G...#\n",
    "#...E..G#\n",
    "#.G.....#\n",
    "#.......#\n",
    "#G..G..G#\n",
    "#.......#\n",
    "#########\n",
    "\n",
    "After 2 rounds:\n",
    "#########\n",
    "#..G.G..#\n",
    "#...G...#\n",
    "#.G.E.G.#\n",
    "#.......#\n",
    "#G..G..G#\n",
    "#.......#\n",
    "#.......#\n",
    "#########\n",
    "\n",
    "After 3 rounds:\n",
    "#########\n",
    "#.......#\n",
    "#..GGG..#\n",
    "#..GEG..#\n",
    "#G..G...#\n",
    "#......G#\n",
    "#.......#\n",
    "#.......#\n",
    "#########\n",
    "Once the Goblins and Elf reach the positions above, they all are either in range of a target or cannot find any square in range of a target, and so none of the units can move until a unit dies.\n",
    "\n",
    "After moving (or if the unit began its turn in range of a target), the unit attacks.\n",
    "\n",
    "To attack, the unit first determines all of the targets that are in range of it by being immediately adjacent to it. If there are no such targets, the unit ends its turn. Otherwise, the adjacent target with the fewest hit points is selected; in a tie, the adjacent target with the fewest hit points which is first in reading order is selected.\n",
    "\n",
    "The unit deals damage equal to its attack power to the selected target, reducing its hit points by that amount. If this reduces its hit points to 0 or fewer, the selected target dies: its square becomes . and it takes no further turns.\n",
    "\n",
    "Each unit, either Goblin or Elf, has 3 attack power and starts with 200 hit points.\n",
    "\n",
    "For example, suppose the only Elf is about to attack:\n",
    "\n",
    "       HP:            HP:\n",
    "G....  9       G....  9  \n",
    "..G..  4       ..G..  4  \n",
    "..EG.  2  -->  ..E..     \n",
    "..G..  2       ..G..  2  \n",
    "...G.  1       ...G.  1  \n",
    "The \"HP\" column shows the hit points of the Goblin to the left in the corresponding row. The Elf is in range of three targets: the Goblin above it (with 4 hit points), the Goblin to its right (with 2 hit points), and the Goblin below it (also with 2 hit points). Because three targets are in range, the ones with the lowest hit points are selected: the two Goblins with 2 hit points each (one to the right of the Elf and one below the Elf). Of those, the Goblin first in reading order (the one to the right of the Elf) is selected. The selected Goblin's hit points (2) are reduced by the Elf's attack power (3), reducing its hit points to -1, killing it.\n",
    "\n",
    "After attacking, the unit's turn ends. Regardless of how the unit's turn ends, the next unit in the round takes its turn. If all units have taken turns in this round, the round ends, and a new round begins.\n",
    "\n",
    "The Elves look quite outnumbered. You need to determine the outcome of the battle: the number of full rounds that were completed (not counting the round in which combat ends) multiplied by the sum of the hit points of all remaining units at the moment combat ends. (Combat only ends when a unit finds no targets during its turn.)\n",
    "\n",
    "Below is an entire sample combat. Next to each map, each row's units' hit points are listed from left to right.\n",
    "\n",
    "Initially:\n",
    "#######   \n",
    "#.G...#   G(200)\n",
    "#...EG#   E(200), G(200)\n",
    "#.#.#G#   G(200)\n",
    "#..G#E#   G(200), E(200)\n",
    "#.....#   \n",
    "#######   \n",
    "\n",
    "After 1 round:\n",
    "#######   \n",
    "#..G..#   G(200)\n",
    "#...EG#   E(197), G(197)\n",
    "#.#G#G#   G(200), G(197)\n",
    "#...#E#   E(197)\n",
    "#.....#   \n",
    "#######   \n",
    "\n",
    "After 2 rounds:\n",
    "#######   \n",
    "#...G.#   G(200)\n",
    "#..GEG#   G(200), E(188), G(194)\n",
    "#.#.#G#   G(194)\n",
    "#...#E#   E(194)\n",
    "#.....#   \n",
    "#######   \n",
    "\n",
    "Combat ensues; eventually, the top Elf dies:\n",
    "\n",
    "After 23 rounds:\n",
    "#######   \n",
    "#...G.#   G(200)\n",
    "#..G.G#   G(200), G(131)\n",
    "#.#.#G#   G(131)\n",
    "#...#E#   E(131)\n",
    "#.....#   \n",
    "#######   \n",
    "\n",
    "After 24 rounds:\n",
    "#######   \n",
    "#..G..#   G(200)\n",
    "#...G.#   G(131)\n",
    "#.#G#G#   G(200), G(128)\n",
    "#...#E#   E(128)\n",
    "#.....#   \n",
    "#######   \n",
    "\n",
    "After 25 rounds:\n",
    "#######   \n",
    "#.G...#   G(200)\n",
    "#..G..#   G(131)\n",
    "#.#.#G#   G(125)\n",
    "#..G#E#   G(200), E(125)\n",
    "#.....#   \n",
    "#######   \n",
    "\n",
    "After 26 rounds:\n",
    "#######   \n",
    "#G....#   G(200)\n",
    "#.G...#   G(131)\n",
    "#.#.#G#   G(122)\n",
    "#...#E#   E(122)\n",
    "#..G..#   G(200)\n",
    "#######   \n",
    "\n",
    "After 27 rounds:\n",
    "#######   \n",
    "#G....#   G(200)\n",
    "#.G...#   G(131)\n",
    "#.#.#G#   G(119)\n",
    "#...#E#   E(119)\n",
    "#...G.#   G(200)\n",
    "#######   \n",
    "\n",
    "After 28 rounds:\n",
    "#######   \n",
    "#G....#   G(200)\n",
    "#.G...#   G(131)\n",
    "#.#.#G#   G(116)\n",
    "#...#E#   E(113)\n",
    "#....G#   G(200)\n",
    "#######   \n",
    "\n",
    "More combat ensues; eventually, the bottom Elf dies:\n",
    "\n",
    "After 47 rounds:\n",
    "#######   \n",
    "#G....#   G(200)\n",
    "#.G...#   G(131)\n",
    "#.#.#G#   G(59)\n",
    "#...#.#   \n",
    "#....G#   G(200)\n",
    "#######   \n",
    "Before the 48th round can finish, the top-left Goblin finds that there are no targets remaining, and so combat ends. So, the number of full rounds that were completed is 47, and the sum of the hit points of all remaining units is 200+131+59+200 = 590. From these, the outcome of the battle is 47 * 590 = 27730.\n",
    "\n",
    "Here are a few example summarized combats:\n",
    "\n",
    "#######       #######\n",
    "#G..#E#       #...#E#   E(200)\n",
    "#E#E.E#       #E#...#   E(197)\n",
    "#G.##.#  -->  #.E##.#   E(185)\n",
    "#...#E#       #E..#E#   E(200), E(200)\n",
    "#...E.#       #.....#\n",
    "#######       #######\n",
    "\n",
    "Combat ends after 37 full rounds\n",
    "Elves win with 982 total hit points left\n",
    "Outcome: 37 * 982 = 36334\n",
    "#######       #######   \n",
    "#E..EG#       #.E.E.#   E(164), E(197)\n",
    "#.#G.E#       #.#E..#   E(200)\n",
    "#E.##E#  -->  #E.##.#   E(98)\n",
    "#G..#.#       #.E.#.#   E(200)\n",
    "#..E#.#       #...#.#   \n",
    "#######       #######   \n",
    "\n",
    "Combat ends after 46 full rounds\n",
    "Elves win with 859 total hit points left\n",
    "Outcome: 46 * 859 = 39514\n",
    "#######       #######   \n",
    "#E.G#.#       #G.G#.#   G(200), G(98)\n",
    "#.#G..#       #.#G..#   G(200)\n",
    "#G.#.G#  -->  #..#..#   \n",
    "#G..#.#       #...#G#   G(95)\n",
    "#...E.#       #...G.#   G(200)\n",
    "#######       #######   \n",
    "\n",
    "Combat ends after 35 full rounds\n",
    "Goblins win with 793 total hit points left\n",
    "Outcome: 35 * 793 = 27755\n",
    "#######       #######   \n",
    "#.E...#       #.....#   \n",
    "#.#..G#       #.#G..#   G(200)\n",
    "#.###.#  -->  #.###.#   \n",
    "#E#G#G#       #.#.#.#   \n",
    "#...#G#       #G.G#G#   G(98), G(38), G(200)\n",
    "#######       #######   \n",
    "\n",
    "Combat ends after 54 full rounds\n",
    "Goblins win with 536 total hit points left\n",
    "Outcome: 54 * 536 = 28944\n",
    "#########       #########   \n",
    "#G......#       #.G.....#   G(137)\n",
    "#.E.#...#       #G.G#...#   G(200), G(200)\n",
    "#..##..G#       #.G##...#   G(200)\n",
    "#...##..#  -->  #...##..#   \n",
    "#...#...#       #.G.#...#   G(200)\n",
    "#.G...G.#       #.......#   \n",
    "#.....G.#       #.......#   \n",
    "#########       #########   \n",
    "\n",
    "Combat ends after 20 full rounds\n",
    "Goblins win with 937 total hit points left\n",
    "Outcome: 20 * 937 = 18740\n",
    "What is the outcome of the combat described in your puzzle input?"
   ]
  },
  {
   "cell_type": "code",
   "execution_count": 3,
   "metadata": {},
   "outputs": [],
   "source": [
    "t1 = '''#######\n",
    "#.G...#\n",
    "#...EG#\n",
    "#.#.#G#\n",
    "#..G#E#\n",
    "#.....#\n",
    "#######'''"
   ]
  },
  {
   "cell_type": "code",
   "execution_count": 4,
   "metadata": {},
   "outputs": [],
   "source": [
    "from collections import defaultdict"
   ]
  },
  {
   "cell_type": "code",
   "execution_count": 82,
   "metadata": {},
   "outputs": [],
   "source": [
    "class Grid():\n",
    "    \n",
    "    def __init__(self, initialmap):\n",
    "        \"\"\"\n",
    "        \"\"\"\n",
    "        self.opencells = []\n",
    "        self.g_loc = {}\n",
    "        self.e_loc = {} \n",
    "        g=0; e=0\n",
    "        for y, row in enumerate(initialmap):\n",
    "            for x, c in enumerate(row):\n",
    "                if c != '#':\n",
    "                    self.opencells.append((y,x)) \n",
    "                else:\n",
    "                    pass\n",
    "                if c == 'G':\n",
    "                    g += 1\n",
    "                    self.g_loc['G{}'.format(g)] = (y,x)\n",
    "                elif c == 'E':\n",
    "                    e += 1\n",
    "                    self.e_loc['E{}'.format(e)] = (y,x)\n",
    "                else:\n",
    "                    pass\n",
    "\n",
    "        self.g_points = {}\n",
    "        self.e_points = {}\n",
    "        for g in self.g_loc.keys():\n",
    "            self.g_points[g] = 200\n",
    "        for e in self.e_loc.keys():\n",
    "            self.e_points[e] = 200\n",
    "        \n",
    "        self.rangecells = defaultdict(list)\n",
    "        for cell in self.opencells:\n",
    "            x,y = cell\n",
    "            rng = [(x-1,y),(x+1,y),(x,y-1),(x,y+1)]\n",
    "            _ = [self.rangecells[cell].append(r) for r in rng if r in self.opencells]\n",
    "    \n",
    "    def targets(self, unit):\n",
    "        targets = []\n",
    "        if unit[0] == 'G':\n",
    "            for e in self.e_loc.values():\n",
    "                targets.extend(self.rangecells[e])\n",
    "        elif unit[0] == 'E':\n",
    "            for g in self.g_loc.values():\n",
    "                targets.extend(self.rangecells[g])\n",
    "        targets = [x for x in targets if not (x in self.g_loc.values() or x in self.e_loc.values())]\n",
    "        return targets\n",
    "    \n",
    "    def nextstep(self, unit, routes = []):\n",
    "        cellstovisit = self.freecells\n",
    "        targets = self.targets(unit)\n",
    "        routes = [[self.g_loc[unit]]] if not routes else routes\n",
    "        solutions = []\n",
    "        newroutes = []\n",
    "        for route in sorted(routes):\n",
    "            rangecells = [cell for cell in self.rangecells[route[-1]] if cell in cellstovisit]\n",
    "            if rangecells:\n",
    "                for rc in rangecells:\n",
    "                    newroute = route.copy()\n",
    "                    newroute.append(rc)\n",
    "                    cellstovisit.remove(rc)\n",
    "                    if rc in targets:\n",
    "                        print('found shortest route to {}'.format(rc))\n",
    "                        solutions.append(newroute)\n",
    "                    else:\n",
    "                        newroutes.append(newroute)\n",
    "        if solutions:\n",
    "            return [solution[1] for solution in sorted(solutions)][0]\n",
    "        else:\n",
    "            return self.nextstep(unit, newroutes)\n",
    "    \n",
    "    def _to_attack(self, coords, enemies): # enemies need to be sorted??\n",
    "        rng = self.rangecells[coords]\n",
    "        for key, value in enemies.items():\n",
    "            if value in rng:\n",
    "                return key\n",
    "        return None\n",
    "    \n",
    "    def turn(self, unit):\n",
    "        if unit[0] == 'G':\n",
    "            coords = self.g_loc[unit]\n",
    "            willattack = self._to_attack(coords, self.e_loc)\n",
    "            if willattack:\n",
    "                print('Unit {} will attack {}!'.format(unit, willattack))\n",
    "            else:\n",
    "                self.g_loc[unit] = self.nextstep(unit)\n",
    "        elif unit[0] == 'E':\n",
    "            coords = self.g_loc[unit]\n",
    "            willattack = self._to_attack(coords, self.g_loc)\n",
    "            if willattack:\n",
    "                print('Unit {} will attack {}!'.format(unit, willattack))\n",
    "            else:\n",
    "                self.e_loc[unit] = self.nextstep(unit)\n",
    "    \n",
    "    @property\n",
    "    def free(self):\n",
    "        return len(self.freecells)\n",
    "    \n",
    "    @property\n",
    "    def goblins(self):\n",
    "        return len(self.g_loc)\n",
    "\n",
    "    @property\n",
    "    def elves(self):\n",
    "        return len(self.e_loc)\n",
    "    \n",
    "    @property\n",
    "    def freecells(self):\n",
    "        return [e for e in self.opencells if not (e in self.g_loc.values() or e in self.e_loc.values())]\n"
   ]
  },
  {
   "cell_type": "code",
   "execution_count": 83,
   "metadata": {},
   "outputs": [],
   "source": [
    "grid = Grid(t1.splitlines())"
   ]
  },
  {
   "cell_type": "code",
   "execution_count": 84,
   "metadata": {},
   "outputs": [
    {
     "name": "stdout",
     "output_type": "stream",
     "text": [
      "Unit G3 will attack E2!\n"
     ]
    }
   ],
   "source": [
    "grid.turn('G3')"
   ]
  },
  {
   "cell_type": "code",
   "execution_count": 71,
   "metadata": {},
   "outputs": [
    {
     "data": {
      "text/plain": [
       "{'E1': (2, 4), 'E2': (4, 5)}"
      ]
     },
     "execution_count": 71,
     "metadata": {},
     "output_type": "execute_result"
    }
   ],
   "source": [
    "grid.e_loc"
   ]
  },
  {
   "cell_type": "code",
   "execution_count": 78,
   "metadata": {},
   "outputs": [
    {
     "name": "stdout",
     "output_type": "stream",
     "text": [
      "(2, 4)\n",
      "(4, 5)\n",
      "E2\n"
     ]
    }
   ],
   "source": [
    "r = grid.rangecells[grid.g_loc['G3']]\n",
    "for key, value in grid.e_loc.items():\n",
    "    print(value)\n",
    "    if value in r:\n",
    "        print(key)"
   ]
  },
  {
   "cell_type": "code",
   "execution_count": 77,
   "metadata": {},
   "outputs": [],
   "source": [
    "c = grid.g_loc['G3']\n",
    "grid._to_attack(c, grid.e_loc)"
   ]
  },
  {
   "cell_type": "code",
   "execution_count": 50,
   "metadata": {},
   "outputs": [
    {
     "data": {
      "text/plain": [
       "{'G1': (1, 3), 'G2': (2, 5), 'G3': (3, 5), 'G4': (4, 3)}"
      ]
     },
     "execution_count": 50,
     "metadata": {},
     "output_type": "execute_result"
    }
   ],
   "source": [
    "grid.g_loc"
   ]
  },
  {
   "cell_type": "code",
   "execution_count": 10,
   "metadata": {},
   "outputs": [],
   "source": [
    "def findshortestroute(grid, unit, routes = []):\n",
    "    cellstovisit = grid.freecells\n",
    "    targets = grid.targets(unit)\n",
    "    routes = [[grid.g_loc[unit]]] if not routes else routes\n",
    "    solutions = []\n",
    "    newroutes = []\n",
    "    for route in sorted(routes):\n",
    "        rangecells = [cell for cell in grid.rangecells[route[-1]] if cell in cellstovisit]\n",
    "        if rangecells:\n",
    "            for rc in rangecells:\n",
    "                newroute = route.copy()\n",
    "                newroute.append(rc)\n",
    "                cellstovisit.remove(rc)\n",
    "                if rc in targets:\n",
    "                    print('found shortest route to {}'.format(rc))\n",
    "                    solutions.append(newroute)\n",
    "                else:\n",
    "                    newroutes.append(newroute)\n",
    "    if solutions:\n",
    "        return sorted(solutions)\n",
    "    else:\n",
    "        return findshortestroute(grid, unit, newroutes)"
   ]
  },
  {
   "cell_type": "code",
   "execution_count": 22,
   "metadata": {
    "scrolled": true
   },
   "outputs": [
    {
     "name": "stdout",
     "output_type": "stream",
     "text": [
      "found shortest route to (2, 3)\n",
      "found shortest route to (1, 4)\n"
     ]
    },
    {
     "data": {
      "text/plain": [
       "[[(1, 2), (1, 3), (1, 4)], [(1, 2), (1, 3), (2, 3)]]"
      ]
     },
     "execution_count": 22,
     "metadata": {},
     "output_type": "execute_result"
    }
   ],
   "source": [
    "findshortestroute(grid, 'G1')"
   ]
  },
  {
   "cell_type": "code",
   "execution_count": 14,
   "metadata": {},
   "outputs": [
    {
     "data": {
      "text/plain": [
       "[(1, 4), (2, 3), (5, 5)]"
      ]
     },
     "execution_count": 14,
     "metadata": {},
     "output_type": "execute_result"
    }
   ],
   "source": [
    "grid.targets('G2')"
   ]
  },
  {
   "cell_type": "code",
   "execution_count": 9,
   "metadata": {},
   "outputs": [
    {
     "data": {
      "text/plain": [
       "[[(1, 2), (1, 3), (1, 4)], [(1, 2), (2, 2), (2, 3)]]"
      ]
     },
     "execution_count": 9,
     "metadata": {},
     "output_type": "execute_result"
    }
   ],
   "source": [
    "sorted(sol)"
   ]
  },
  {
   "cell_type": "markdown",
   "metadata": {},
   "source": [
    "## Backup code..."
   ]
  },
  {
   "cell_type": "code",
   "execution_count": 185,
   "metadata": {},
   "outputs": [
    {
     "name": "stdout",
     "output_type": "stream",
     "text": [
      "found shortest route to (2, 3)\n",
      "found shortest route to (1, 4)\n",
      "Solution(s) : [[(1, 2), (2, 2), (2, 3)], [(1, 2), (1, 3), (1, 4)]]\n"
     ]
    }
   ],
   "source": [
    "# the non-recursive option if needed:\n",
    "cellstovisit = grid.freecells\n",
    "targets = grid.targets('G1')\n",
    "routes = [[grid.g_loc['G1']]]\n",
    "solutions = []\n",
    "while not solutions:\n",
    "    newroutes = []\n",
    "    for route in routes:\n",
    "        rangecells = [cell for cell in grid.rangecells[route[-1]] if cell in cellstovisit]\n",
    "        if rangecells:\n",
    "            for rc in rangecells:\n",
    "                newroute = route.copy()\n",
    "                newroute.append(rc)\n",
    "                cellstovisit.remove(rc)\n",
    "                if rc in targets:\n",
    "                    print('found shortest route to {}'.format(rc))\n",
    "                    solutions.append(newroute)\n",
    "                else:\n",
    "                    newroutes.append(newroute)\n",
    "    routes = newroutes\n",
    "print('Solution(s) : {}'.format(solutions))"
   ]
  },
  {
   "cell_type": "code",
   "execution_count": 171,
   "metadata": {},
   "outputs": [
    {
     "name": "stdout",
     "output_type": "stream",
     "text": [
      "continue to attack\n"
     ]
    }
   ],
   "source": [
    "# flow:\n",
    "if set(grid.rangecells[grid.e_loc['E1']]).intersection(set(grid.g_loc.values())):\n",
    "    print('continue to attack')\n",
    "else:\n",
    "    targets = grid.targets('E1')"
   ]
  },
  {
   "cell_type": "code",
   "execution_count": null,
   "metadata": {},
   "outputs": [],
   "source": []
  }
 ],
 "metadata": {
  "kernelspec": {
   "display_name": "advent",
   "language": "python",
   "name": "advent"
  },
  "language_info": {
   "codemirror_mode": {
    "name": "ipython",
    "version": 3
   },
   "file_extension": ".py",
   "mimetype": "text/x-python",
   "name": "python",
   "nbconvert_exporter": "python",
   "pygments_lexer": "ipython3",
   "version": "3.6.7"
  }
 },
 "nbformat": 4,
 "nbformat_minor": 2
}
