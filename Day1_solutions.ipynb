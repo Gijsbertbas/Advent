{
 "cells": [
  {
   "cell_type": "markdown",
   "metadata": {},
   "source": [
    "# My solutions to the [Advent of Code 2018](https://adventofcode.com/)"
   ]
  },
  {
   "cell_type": "markdown",
   "metadata": {},
   "source": [
    "## --- Day 1: Chronal Calibration ---\n",
    "\n",
    "\"We've detected some temporal anomalies,\" one of Santa's Elves at the Temporal Anomaly Research and Detection Instrument Station tells you. She sounded pretty worried when she called you down here. \"At 500-year intervals into the past, someone has been changing Santa's history!\"\n",
    "\n",
    "\"The good news is that the changes won't propagate to our time stream for another 25 days, and we have a device\" - she attaches something to your wrist - \"that will let you fix the changes with no such propagation delay. It's configured to send you 500 years further into the past every few days; that was the best we could do on such short notice.\"\n",
    "\n",
    "\"The bad news is that we are detecting roughly fifty anomalies throughout time; the device will indicate fixed anomalies with stars. The other bad news is that we only have one device and you're the best person for the job! Good lu--\" She taps a button on the device and you suddenly feel like you're falling. To save Christmas, you need to get all fifty stars by December 25th.\n",
    "\n",
    "Collect stars by solving puzzles. Two puzzles will be made available on each day in the advent calendar; the second puzzle is unlocked when you complete the first. Each puzzle grants one star. Good luck!\n",
    "\n",
    "After feeling like you've been falling for a few minutes, you look at the device's tiny screen. \"Error: Device must be calibrated before first use. Frequency drift detected. Cannot maintain destination lock.\" Below the message, the device shows a sequence of changes in frequency (your puzzle input). A value like +6 means the current frequency increases by 6; a value like -3 means the current frequency decreases by 3.\n",
    "\n",
    "For example, if the device displays frequency changes of +1, -2, +3, +1, then starting from a frequency of zero, the following changes would occur:\n",
    "\n",
    "    Current frequency  0, change of +1; resulting frequency  1.\n",
    "    Current frequency  1, change of -2; resulting frequency -1.\n",
    "    Current frequency -1, change of +3; resulting frequency  2.\n",
    "    Current frequency  2, change of +1; resulting frequency  3.\n",
    "\n",
    "In this example, the resulting frequency is 3.\n",
    "\n",
    "Here are other example situations:\n",
    "\n",
    "    +1, +1, +1 results in  3\n",
    "    +1, +1, -2 results in  0\n",
    "    -1, -2, -3 results in -6\n",
    "\n",
    "Starting with a frequency of zero, what is the resulting frequency after all of the changes in frequency have been applied?"
   ]
  },
  {
   "cell_type": "code",
   "execution_count": 1,
   "metadata": {
    "collapsed": true
   },
   "outputs": [],
   "source": [
    "import numpy as np\n",
    "inp = '1_input.txt'"
   ]
  },
  {
   "cell_type": "code",
   "execution_count": 2,
   "metadata": {
    "collapsed": true
   },
   "outputs": [],
   "source": [
    "changes = np.loadtxt(inp,dtype='int')"
   ]
  },
  {
   "cell_type": "code",
   "execution_count": 3,
   "metadata": {},
   "outputs": [
    {
     "name": "stdout",
     "output_type": "stream",
     "text": [
      "Solution to puzzle 1 = 423\n"
     ]
    }
   ],
   "source": [
    "print('Solution to puzzle 1 = {}'.format(sum(changes)))"
   ]
  },
  {
   "cell_type": "markdown",
   "metadata": {},
   "source": [
    "## --- Part Two ---\n",
    "\n",
    "You notice that the device repeats the same frequency change list over and over. To calibrate the device, you need to find the first frequency it reaches twice.\n",
    "\n",
    "For example, using the same list of changes above, the device would loop as follows:\n",
    "\n",
    "    Current frequency  0, change of +1; resulting frequency  1.\n",
    "    Current frequency  1, change of -2; resulting frequency -1.\n",
    "    Current frequency -1, change of +3; resulting frequency  2.\n",
    "    Current frequency  2, change of +1; resulting frequency  3.\n",
    "    (At this point, the device continues from the start of the list.)\n",
    "    Current frequency  3, change of +1; resulting frequency  4.\n",
    "    Current frequency  4, change of -2; resulting frequency  2, which has already been seen.\n",
    "\n",
    "In this example, the first frequency reached twice is 2. Note that your device might need to repeat its list of frequency changes many times before a duplicate frequency is found, and that duplicates might be found while in the middle of processing the list.\n",
    "\n",
    "Here are other examples:\n",
    "\n",
    "    +1, -1 first reaches 0 twice.\n",
    "    +3, +3, +4, -2, -4 first reaches 10 twice.\n",
    "    -6, +3, +8, +5, -6 first reaches 5 twice.\n",
    "    +7, +7, -2, -7, -4 first reaches 14 twice.\n",
    "\n",
    "What is the first frequency your device reaches twice?\n"
   ]
  },
  {
   "cell_type": "code",
   "execution_count": 4,
   "metadata": {},
   "outputs": [
    {
     "name": "stdout",
     "output_type": "stream",
     "text": [
      "Number of unique frequencies = 1022\n",
      "Number of unique frequencies = 2043\n",
      "Number of unique frequencies = 3064\n",
      "Number of unique frequencies = 4085\n",
      "Number of unique frequencies = 5106\n",
      "Number of unique frequencies = 6127\n",
      "Number of unique frequencies = 7148\n",
      "Number of unique frequencies = 8169\n",
      "Number of unique frequencies = 9190\n",
      "Number of unique frequencies = 10211\n",
      "Number of unique frequencies = 11232\n",
      "Number of unique frequencies = 12253\n",
      "Number of unique frequencies = 13274\n",
      "Number of unique frequencies = 14295\n",
      "Number of unique frequencies = 15316\n",
      "Number of unique frequencies = 16337\n",
      "Number of unique frequencies = 17358\n",
      "Number of unique frequencies = 18379\n",
      "Number of unique frequencies = 19400\n",
      "Number of unique frequencies = 20421\n",
      "Number of unique frequencies = 21442\n",
      "Number of unique frequencies = 22463\n",
      "Number of unique frequencies = 23484\n",
      "Number of unique frequencies = 24505\n",
      "Number of unique frequencies = 25526\n",
      "Number of unique frequencies = 26547\n",
      "Number of unique frequencies = 27568\n",
      "Number of unique frequencies = 28589\n",
      "Number of unique frequencies = 29610\n",
      "Number of unique frequencies = 30631\n",
      "Number of unique frequencies = 31652\n",
      "Number of unique frequencies = 32673\n",
      "Number of unique frequencies = 33694\n",
      "Number of unique frequencies = 34715\n",
      "Number of unique frequencies = 35736\n",
      "Number of unique frequencies = 36757\n",
      "Number of unique frequencies = 37778\n",
      "Number of unique frequencies = 38799\n",
      "Number of unique frequencies = 39820\n",
      "Number of unique frequencies = 40841\n",
      "Number of unique frequencies = 41862\n",
      "Number of unique frequencies = 42883\n",
      "Number of unique frequencies = 43904\n",
      "Number of unique frequencies = 44925\n",
      "Number of unique frequencies = 45946\n",
      "Number of unique frequencies = 46967\n",
      "Number of unique frequencies = 47988\n",
      "Number of unique frequencies = 49009\n",
      "Number of unique frequencies = 50030\n",
      "Number of unique frequencies = 51051\n",
      "Number of unique frequencies = 52072\n",
      "Number of unique frequencies = 53093\n",
      "Number of unique frequencies = 54114\n",
      "Number of unique frequencies = 55135\n",
      "Number of unique frequencies = 56156\n",
      "Number of unique frequencies = 57177\n",
      "Number of unique frequencies = 58198\n",
      "Number of unique frequencies = 59219\n",
      "Number of unique frequencies = 60240\n",
      "Number of unique frequencies = 61261\n",
      "Number of unique frequencies = 62282\n",
      "Number of unique frequencies = 63303\n",
      "Number of unique frequencies = 64324\n",
      "Number of unique frequencies = 65345\n",
      "Number of unique frequencies = 66366\n",
      "Number of unique frequencies = 67387\n",
      "Number of unique frequencies = 68408\n",
      "Number of unique frequencies = 69429\n",
      "Number of unique frequencies = 70450\n",
      "Number of unique frequencies = 71471\n",
      "Number of unique frequencies = 72492\n",
      "Number of unique frequencies = 73513\n",
      "Number of unique frequencies = 74534\n",
      "Number of unique frequencies = 75555\n",
      "Number of unique frequencies = 76576\n",
      "Number of unique frequencies = 77597\n",
      "Number of unique frequencies = 78618\n",
      "Number of unique frequencies = 79639\n",
      "Number of unique frequencies = 80660\n",
      "Number of unique frequencies = 81681\n",
      "Number of unique frequencies = 82702\n",
      "Number of unique frequencies = 83723\n",
      "Number of unique frequencies = 84744\n",
      "Number of unique frequencies = 85765\n",
      "Number of unique frequencies = 86786\n",
      "Number of unique frequencies = 87807\n",
      "Number of unique frequencies = 88828\n",
      "Number of unique frequencies = 89849\n",
      "Number of unique frequencies = 90870\n",
      "Number of unique frequencies = 91891\n",
      "Number of unique frequencies = 92912\n",
      "Number of unique frequencies = 93933\n",
      "Number of unique frequencies = 94954\n",
      "Number of unique frequencies = 95975\n",
      "Number of unique frequencies = 96996\n",
      "Number of unique frequencies = 98017\n",
      "Number of unique frequencies = 99038\n",
      "Number of unique frequencies = 100059\n",
      "Number of unique frequencies = 101080\n",
      "Number of unique frequencies = 102101\n",
      "Number of unique frequencies = 103122\n",
      "Number of unique frequencies = 104143\n",
      "Number of unique frequencies = 105164\n",
      "Number of unique frequencies = 106185\n",
      "Number of unique frequencies = 107206\n",
      "Number of unique frequencies = 108227\n",
      "Number of unique frequencies = 109248\n",
      "Number of unique frequencies = 110269\n",
      "Number of unique frequencies = 111290\n",
      "Number of unique frequencies = 112311\n",
      "Number of unique frequencies = 113332\n",
      "Number of unique frequencies = 114353\n",
      "Number of unique frequencies = 115374\n",
      "Number of unique frequencies = 116395\n",
      "Number of unique frequencies = 117416\n",
      "Number of unique frequencies = 118437\n",
      "Number of unique frequencies = 119458\n",
      "Number of unique frequencies = 120479\n",
      "Number of unique frequencies = 121500\n",
      "Number of unique frequencies = 122521\n",
      "Number of unique frequencies = 123542\n",
      "Number of unique frequencies = 124563\n",
      "Number of unique frequencies = 125584\n",
      "Number of unique frequencies = 126605\n",
      "Number of unique frequencies = 127626\n",
      "Number of unique frequencies = 128647\n",
      "Number of unique frequencies = 129668\n",
      "Number of unique frequencies = 130689\n",
      "Number of unique frequencies = 131710\n",
      "Number of unique frequencies = 132731\n",
      "Number of unique frequencies = 133752\n",
      "Number of unique frequencies = 134773\n",
      "Number of unique frequencies = 135794\n",
      "Number of unique frequencies = 136815\n",
      "Number of unique frequencies = 137836\n",
      "Number of unique frequencies = 138857\n",
      "Number of unique frequencies = 139878\n",
      "Number of unique frequencies = 140899\n",
      "Number of unique frequencies = 141920\n",
      "Number of unique frequencies = 142941\n",
      "Number of unique frequencies = 143962\n",
      "Number of unique frequencies = 144983\n",
      "Number of unique frequencies = 146004\n",
      "Number of unique frequencies = 147025\n",
      "Number of unique frequencies = 147185\n",
      "First frequency that appears twice = 61126\n"
     ]
    }
   ],
   "source": [
    "freqs = [0]\n",
    "solution = None\n",
    "while not solution:\n",
    "    for change in changes:\n",
    "        freq = freqs[-1]+change\n",
    "        if freq in freqs:\n",
    "            solution = freq\n",
    "            break\n",
    "        else:\n",
    "            freqs.append(freq)\n",
    "    print('Number of unique frequencies = {}'.format(len(freqs)))\n",
    "\n",
    "print('First frequency that appears twice = {}'.format(freq))"
   ]
  },
  {
   "cell_type": "markdown",
   "metadata": {},
   "source": [
    "hmmm, that took too long, lists are slow...\n",
    "\n",
    "I looked at [Filippo's solution](https://github.com/filippo82/aoc2018/blob/master/day1/aoc_day1.ipynb) (thanks Filippo!) and learned about the collections.counter which is lightning fast"
   ]
  },
  {
   "cell_type": "code",
   "execution_count": 5,
   "metadata": {
    "collapsed": true
   },
   "outputs": [],
   "source": [
    "from collections import Counter"
   ]
  },
  {
   "cell_type": "code",
   "execution_count": 11,
   "metadata": {
    "collapsed": true
   },
   "outputs": [],
   "source": [
    "cntr = Counter()"
   ]
  },
  {
   "cell_type": "code",
   "execution_count": 12,
   "metadata": {},
   "outputs": [
    {
     "name": "stdout",
     "output_type": "stream",
     "text": [
      "Number of unique frequencies = 147184\n",
      "First frequency that appears twice = 61126\n"
     ]
    }
   ],
   "source": [
    "twice = None\n",
    "total = 0\n",
    "found = False\n",
    "while not found:\n",
    "    for f in changes:\n",
    "        total += f\n",
    "        cntr[total] += 1\n",
    "        if cntr[total] == 2:\n",
    "            found = True\n",
    "            twice = total\n",
    "            break\n",
    "\n",
    "print('Number of unique frequencies = {}'.format(len(cntr)))\n",
    "print('First frequency that appears twice = {}'.format(twice))"
   ]
  },
  {
   "cell_type": "code",
   "execution_count": null,
   "metadata": {
    "collapsed": true
   },
   "outputs": [],
   "source": []
  }
 ],
 "metadata": {
  "kernelspec": {
   "display_name": "Python 3",
   "language": "python",
   "name": "python3"
  },
  "language_info": {
   "codemirror_mode": {
    "name": "ipython",
    "version": 3
   },
   "file_extension": ".py",
   "mimetype": "text/x-python",
   "name": "python",
   "nbconvert_exporter": "python",
   "pygments_lexer": "ipython3",
   "version": "3.4.5"
  },
  "toc": {
   "nav_menu": {},
   "number_sections": true,
   "sideBar": true,
   "skip_h1_title": false,
   "toc_cell": false,
   "toc_position": {},
   "toc_section_display": "block",
   "toc_window_display": false
  }
 },
 "nbformat": 4,
 "nbformat_minor": 2
}
