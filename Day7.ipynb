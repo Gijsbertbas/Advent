{
 "cells": [
  {
   "cell_type": "markdown",
   "metadata": {},
   "source": [
    "# --- Day 7: The Sum of Its Parts ---"
   ]
  },
  {
   "cell_type": "raw",
   "metadata": {},
   "source": [
    "You find yourself standing on a snow-covered coastline; apparently, you landed a little off course. The region is too hilly to see the North Pole from here, but you do spot some Elves that seem to be trying to unpack something that washed ashore. It's quite cold out, so you decide to risk creating a paradox by asking them for directions.\n",
    "\n",
    "\"Oh, are you the search party?\" Somehow, you can understand whatever Elves from the year 1018 speak; you assume it's Ancient Nordic Elvish. Could the device on your wrist also be a translator? \"Those clothes don't look very warm; take this.\" They hand you a heavy coat.\n",
    "\n",
    "\"We do need to find our way back to the North Pole, but we have higher priorities at the moment. You see, believe it or not, this box contains something that will solve all of Santa's transportation problems - at least, that's what it looks like from the pictures in the instructions.\" It doesn't seem like they can read whatever language it's in, but you can: \"Sleigh kit. Some assembly required.\"\n",
    "\n",
    "\"'Sleigh'? What a wonderful name! You must help us assemble this 'sleigh' at once!\" They start excitedly pulling more parts out of the box.\n",
    "\n",
    "The instructions specify a series of steps and requirements about which steps must be finished before others can begin (your puzzle input). Each step is designated by a single letter. For example, suppose you have the following instructions:\n",
    "\n",
    "Step C must be finished before step A can begin.\n",
    "Step C must be finished before step F can begin.\n",
    "Step A must be finished before step B can begin.\n",
    "Step A must be finished before step D can begin.\n",
    "Step B must be finished before step E can begin.\n",
    "Step D must be finished before step E can begin.\n",
    "Step F must be finished before step E can begin.\n",
    "Visually, these requirements look like this:\n",
    "\n",
    "\n",
    "  -->A--->B--\n",
    " /    \\      \\\n",
    "C      -->D----->E\n",
    " \\           /\n",
    "  ---->F-----\n",
    "Your first goal is to determine the order in which the steps should be completed. If more than one step is ready, choose the step which is first alphabetically. In this example, the steps would be completed as follows:\n",
    "\n",
    "Only C is available, and so it is done first.\n",
    "Next, both A and F are available. A is first alphabetically, so it is done next.\n",
    "Then, even though F was available earlier, steps B and D are now also available, and B is the first alphabetically of the three.\n",
    "After that, only D and F are available. E is not available because only some of its prerequisites are complete. Therefore, D is completed next.\n",
    "F is the only choice, so it is done next.\n",
    "Finally, E is completed.\n",
    "So, in this example, the correct order is CABDFE.\n",
    "\n",
    "In what order should the steps in your instructions be completed?"
   ]
  },
  {
   "cell_type": "code",
   "execution_count": 1,
   "metadata": {},
   "outputs": [
    {
     "name": "stdout",
     "output_type": "stream",
     "text": [
      "Step S must be finished before step V can begin.\n",
      "\n"
     ]
    }
   ],
   "source": [
    "with open('input/day7.txt') as f:\n",
    "    instructions = f.readlines()\n",
    "print(instructions[0])"
   ]
  },
  {
   "cell_type": "code",
   "execution_count": 2,
   "metadata": {},
   "outputs": [],
   "source": [
    "import re\n",
    "from collections import defaultdict"
   ]
  },
  {
   "cell_type": "code",
   "execution_count": 3,
   "metadata": {},
   "outputs": [],
   "source": [
    "def build_pairs(instructions):\n",
    "    inst = defaultdict(list)\n",
    "    for i in instructions:\n",
    "        pairs = re.findall(r'\\s([A-Z])\\s', i)\n",
    "        inst[pairs[1]].append(pairs[0])\n",
    "    return(inst)"
   ]
  },
  {
   "cell_type": "code",
   "execution_count": 4,
   "metadata": {},
   "outputs": [],
   "source": [
    "# list of all steps:\n",
    "def get_steps(inst):\n",
    "    l = list(inst.keys())\n",
    "    for v in inst.values():\n",
    "        l.extend(v)\n",
    "    return set(l)"
   ]
  },
  {
   "cell_type": "code",
   "execution_count": 5,
   "metadata": {},
   "outputs": [],
   "source": [
    "def build_sequence(steps, inst, done):\n",
    "    for s in sorted(steps):\n",
    "        if s in done:\n",
    "            pass\n",
    "        else:\n",
    "            if not s in inst.keys():\n",
    "                done.append(s)\n",
    "                build_sequence(steps, inst, done)\n",
    "            else:\n",
    "                test = [c for c in inst[s] if c in done]\n",
    "                if test == inst[s]:\n",
    "                    done.append(s)\n",
    "                    build_sequence(steps, inst, done)\n",
    "                else:\n",
    "                    pass\n",
    "    return ''.join(done)"
   ]
  },
  {
   "cell_type": "code",
   "execution_count": 6,
   "metadata": {},
   "outputs": [],
   "source": [
    "test = ['Step C must be finished before step A can begin.',\n",
    "        'Step C must be finished before step F can begin.',\n",
    "        'Step A must be finished before step B can begin.',\n",
    "        'Step A must be finished before step D can begin.',\n",
    "        'Step B must be finished before step E can begin.',\n",
    "        'Step D must be finished before step E can begin.',\n",
    "        'Step F must be finished before step E can begin.']"
   ]
  },
  {
   "cell_type": "code",
   "execution_count": 13,
   "metadata": {},
   "outputs": [
    {
     "name": "stdout",
     "output_type": "stream",
     "text": [
      "not testing...\n"
     ]
    }
   ],
   "source": [
    "# test\n",
    "'''\n",
    "inst = build_pairs(test)\n",
    "steps = get_steps(inst)\n",
    "'''\n",
    "print('not testing...')"
   ]
  },
  {
   "cell_type": "code",
   "execution_count": 14,
   "metadata": {},
   "outputs": [],
   "source": [
    "inst = build_pairs(instructions)\n",
    "steps = get_steps(inst)\n",
    "done = []"
   ]
  },
  {
   "cell_type": "code",
   "execution_count": 15,
   "metadata": {},
   "outputs": [
    {
     "data": {
      "text/plain": [
       "'JNOIKSYABEQRUVWXGTZFDMHLPC'"
      ]
     },
     "execution_count": 15,
     "metadata": {},
     "output_type": "execute_result"
    }
   ],
   "source": [
    "build_sequence(steps, inst, done=[])"
   ]
  },
  {
   "cell_type": "markdown",
   "metadata": {},
   "source": [
    "## --- Part Two ---"
   ]
  },
  {
   "cell_type": "raw",
   "metadata": {},
   "source": [
    "As you're about to begin construction, four of the Elves offer to help. \"The sun will set soon; it'll go faster if we work together.\" Now, you need to account for multiple people working on steps simultaneously. If multiple steps are available, workers should still begin them in alphabetical order.\n",
    "\n",
    "Each step takes 60 seconds plus an amount corresponding to its letter: A=1, B=2, C=3, and so on. So, step A takes 60+1=61 seconds, while step Z takes 60+26=86 seconds. No time is required between steps.\n",
    "\n",
    "To simplify things for the example, however, suppose you only have help from one Elf (a total of two workers) and that each step takes 60 fewer seconds (so that step A takes 1 second and step Z takes 26 seconds). Then, using the same instructions as above, this is how each second would be spent:\n",
    "\n",
    "Second   Worker 1   Worker 2   Done\n",
    "   0        C          .        \n",
    "   1        C          .        \n",
    "   2        C          .        \n",
    "   3        A          F       C\n",
    "   4        B          F       CA\n",
    "   5        B          F       CA\n",
    "   6        D          F       CAB\n",
    "   7        D          F       CAB\n",
    "   8        D          F       CAB\n",
    "   9        D          .       CABF\n",
    "  10        E          .       CABFD\n",
    "  11        E          .       CABFD\n",
    "  12        E          .       CABFD\n",
    "  13        E          .       CABFD\n",
    "  14        E          .       CABFD\n",
    "  15        .          .       CABFDE\n",
    "Each row represents one second of time. The Second column identifies how many seconds have passed as of the beginning of that second. Each worker column shows the step that worker is currently doing (or . if they are idle). The Done column shows completed steps.\n",
    "\n",
    "Note that the order of the steps has changed; this is because steps now take time to finish and multiple workers can begin multiple steps simultaneously.\n",
    "\n",
    "In this example, it would take 15 seconds for two workers to complete these steps.\n",
    "\n",
    "With 5 workers and the 60+ second step durations described above, how long will it take to complete all of the steps?"
   ]
  },
  {
   "cell_type": "code",
   "execution_count": 16,
   "metadata": {},
   "outputs": [],
   "source": [
    "import pandas as pd"
   ]
  },
  {
   "cell_type": "code",
   "execution_count": 17,
   "metadata": {},
   "outputs": [],
   "source": [
    "import string\n",
    "def create_duration(time=60):\n",
    "    dur = {}\n",
    "    for i, l in enumerate(string.ascii_uppercase):\n",
    "        dur[l] = i+time+1\n",
    "    return dur"
   ]
  },
  {
   "cell_type": "code",
   "execution_count": 18,
   "metadata": {},
   "outputs": [],
   "source": [
    "def ready(steps, inst, done):\n",
    "    ready = ''\n",
    "    for s in steps:\n",
    "        conditions = [c for c in inst[s] if c in done] == inst[s]\n",
    "        if (not s in done) & conditions:\n",
    "            ready += s\n",
    "        else:\n",
    "            pass\n",
    "    return ''.join(sorted(ready))    "
   ]
  },
  {
   "cell_type": "code",
   "execution_count": 19,
   "metadata": {},
   "outputs": [],
   "source": [
    "def initiate_workers(nr):\n",
    "    wrkrs = []\n",
    "    for i in range(nr):\n",
    "        wrkrs.append((i,'',0))\n",
    "    return pd.DataFrame(data=wrkrs, columns=['worker','step','time_rem'])"
   ]
  },
  {
   "cell_type": "code",
   "execution_count": 20,
   "metadata": {},
   "outputs": [],
   "source": [
    "def time_sequence(allsteps, inst, duration, done, workers, elapsed):\n",
    "    available_workers = workers[workers['time_rem']==0]\n",
    "    steps_ready = ready(allsteps, inst, done)\n",
    "    assign = min(len(available_workers), len(steps_ready))\n",
    "    if assign > 0:\n",
    "        for i in range(assign):\n",
    "            worker = available_workers.iloc[i,0]\n",
    "            workers.loc[worker, 'step'] = steps_ready[i]\n",
    "            workers.loc[worker, 'time_rem'] = duration[steps_ready[i]]\n",
    "            allsteps.remove(steps_ready[i])\n",
    "    else:\n",
    "        pass\n",
    "    \n",
    "    working = workers[workers['time_rem']>0] # anybody working?\n",
    "\n",
    "    if len(working) > 0:\n",
    "        worker = working[working['time_rem']==min(working['time_rem'])]['worker']\n",
    "        elapse = workers.loc[worker, 'time_rem'].item()\n",
    "        elapsed += elapse\n",
    "        done += workers.loc[worker, 'step'].item()\n",
    "        workers.loc[worker, 'step'] = ''\n",
    "        workers['time_rem'] = workers['time_rem'].apply(lambda x: max(x-elapse, 0))\n",
    "    else:\n",
    "        pass\n",
    "    \n",
    "    if len(allsteps) == 0:\n",
    "        print('done = {}'.format(done))\n",
    "        print('elapsed time = {}'.format(elapsed))\n",
    "        return done, elapsed\n",
    "    else:        \n",
    "        return time_sequence(allsteps, inst, duration, done, workers, elapsed)\n"
   ]
  },
  {
   "cell_type": "code",
   "execution_count": 21,
   "metadata": {},
   "outputs": [
    {
     "name": "stdout",
     "output_type": "stream",
     "text": [
      "done = CABFDE\n",
      "elapsed time = 15\n"
     ]
    }
   ],
   "source": [
    "inst = build_pairs(test)\n",
    "steps = get_steps(inst)\n",
    "dur = create_duration(time=0)\n",
    "d, e = time_sequence(steps.copy(), inst, dur, '', initiate_workers(2), 0)"
   ]
  },
  {
   "cell_type": "code",
   "execution_count": 22,
   "metadata": {},
   "outputs": [
    {
     "name": "stdout",
     "output_type": "stream",
     "text": [
      "done = JNOSIKYAQUWBREVXGTZFMDHLPC\n",
      "elapsed time = 1099\n"
     ]
    }
   ],
   "source": [
    "inst = build_pairs(instructions)\n",
    "steps = get_steps(inst)\n",
    "dur = create_duration()\n",
    "d, e = time_sequence(steps, inst, dur, '', initiate_workers(5), 0)"
   ]
  },
  {
   "cell_type": "code",
   "execution_count": null,
   "metadata": {
    "collapsed": true
   },
   "outputs": [],
   "source": []
  }
 ],
 "metadata": {
  "kernelspec": {
   "display_name": "nedmag",
   "language": "python",
   "name": "nedmag"
  },
  "language_info": {
   "codemirror_mode": {
    "name": "ipython",
    "version": 2
   },
   "file_extension": ".py",
   "mimetype": "text/x-python",
   "name": "python",
   "nbconvert_exporter": "python",
   "pygments_lexer": "ipython2",
   "version": "2.7.15"
  },
  "toc": {
   "nav_menu": {},
   "number_sections": true,
   "sideBar": true,
   "skip_h1_title": false,
   "toc_cell": false,
   "toc_position": {},
   "toc_section_display": "block",
   "toc_window_display": false
  }
 },
 "nbformat": 4,
 "nbformat_minor": 2
}
