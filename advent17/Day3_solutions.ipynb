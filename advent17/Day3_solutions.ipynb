{
 "cells": [
  {
   "cell_type": "markdown",
   "metadata": {},
   "source": [
    "# --- Day 3: Spiral Memory ---\n",
    "You come across an experimental new kind of memory stored on an infinite two-dimensional grid.\n",
    "\n",
    "Each square on the grid is allocated in a spiral pattern starting at a location marked 1 and then counting up while spiraling outward. For example, the first few squares are allocated like this:\n",
    "\n",
    "17  16  15  14  13<br>\n",
    "18   5   4   3  12<br>\n",
    "19   6   1   2  11<br>\n",
    "20   7   8   9  10<br>\n",
    "21  22  23---> ...<br>\n",
    "While this is very space-efficient (no squares are skipped), requested data must be carried back to square 1 (the location of the only access port for this memory system) by programs that can only move up, down, left, or right. They always take the shortest path: the Manhattan Distance between the location of the data and square 1.\n",
    "\n",
    "For example:\n",
    "\n",
    "Data from square 1 is carried 0 steps, since it's at the access port.\n",
    "Data from square 12 is carried 3 steps, such as: down, left, left.\n",
    "Data from square 23 is carried only 2 steps: up twice.\n",
    "Data from square 1024 must be carried 31 steps.\n",
    "How many steps are required to carry the data from the square identified in your puzzle input all the way to the access port?"
   ]
  },
  {
   "cell_type": "code",
   "execution_count": 50,
   "metadata": {},
   "outputs": [],
   "source": [
    "nr = 312051"
   ]
  },
  {
   "cell_type": "code",
   "execution_count": 3,
   "metadata": {},
   "outputs": [],
   "source": [
    "import numpy as np"
   ]
  },
  {
   "cell_type": "code",
   "execution_count": 49,
   "metadata": {},
   "outputs": [
    {
     "data": {
      "text/plain": [
       "array([ 0,  8, 16, 24, 32, 40, 48, 56, 64])"
      ]
     },
     "execution_count": 49,
     "metadata": {},
     "output_type": "execute_result"
    }
   ],
   "source": [
    "np.arange(9)*2*4"
   ]
  },
  {
   "cell_type": "code",
   "execution_count": 59,
   "metadata": {},
   "outputs": [],
   "source": [
    "# calculate number of squares up until this ring:\n",
    "def nos(ring):\n",
    "    return np.sum(np.arange(ring)*8)+1"
   ]
  },
  {
   "cell_type": "code",
   "execution_count": 74,
   "metadata": {},
   "outputs": [
    {
     "name": "stdout",
     "output_type": "stream",
     "text": [
      "square 312051 is on ring 279\n"
     ]
    }
   ],
   "source": [
    "def determinering(nr):\n",
    "    ring, sm = 0, 0\n",
    "    while sm < nr:\n",
    "        ring += 1\n",
    "        sm = nos(ring)\n",
    "    return ring - 1 # because when the loop stops it has already crossed the condition\n",
    "print('square {} is on ring {}'.format(nr, determinering(nr)))"
   ]
  },
  {
   "cell_type": "markdown",
   "metadata": {},
   "source": [
    "Geometry thoughts...\n",
    "* a ring is devided into 8 stretches, each stretch has length 'ring'\n",
    "* uneven stretches run from (1-)cornerpoints towards the middle, even stretches from the middle towards the cornerpoints\n",
    "* at the middle the minimum distance == ring number\n",
    "* at the cornerpoint the distance is twice the ring number\n",
    "\n",
    "--> next steps: determine if it is on an odd or even stretch, calculate the remainder and then the distance"
   ]
  },
  {
   "cell_type": "code",
   "execution_count": 78,
   "metadata": {
    "scrolled": true
   },
   "outputs": [
    {
     "name": "stdout",
     "output_type": "stream",
     "text": [
      "the distance of square 1024 to square 1 = 31\n"
     ]
    }
   ],
   "source": [
    "def determinedist(nr):\n",
    "    ring = determinering(nr)\n",
    "    stretch = np.floor_divide(nr-nos(ring),ring)+1\n",
    "    remainder = (nr-nos(ring)) % ring\n",
    "    if stretch%2 == 0:\n",
    "        distance = ring + remainder\n",
    "    else:\n",
    "        distance = 2*ring - remainder\n",
    "    return distance\n",
    "    \n",
    "\n",
    "print('the distance of square {} to square 1 = {}'.format(1024, determinedist(1024)))"
   ]
  },
  {
   "cell_type": "markdown",
   "metadata": {},
   "source": [
    "## --- Part Two ---\n",
    "As a stress test on the system, the programs here clear the grid and then store the value 1 in square 1. Then, in the same allocation order as shown above, they store the sum of the values in all adjacent squares, including diagonals.\n",
    "\n",
    "So, the first few squares' values are chosen as follows:\n",
    "\n",
    "Square 1 starts with the value 1.\n",
    "Square 2 has only one adjacent filled square (with value 1), so it also stores 1.\n",
    "Square 3 has both of the above squares as neighbors and stores the sum of their values, 2.\n",
    "Square 4 has all three of the aforementioned squares as neighbors and stores the sum of their values, 4.\n",
    "Square 5 only has the first and fourth squares as neighbors, so it gets the value 5.\n",
    "Once a square is written, its value does not change. Therefore, the first few squares would receive the following values:\n",
    "\n",
    "147  142  133  122   59\n",
    "304    5    4    2   57\n",
    "330   10    1    1   54\n",
    "351   11   23   25   26\n",
    "362  747  806--->   ...\n",
    "What is the first value written that is larger than your puzzle input?\n",
    "\n"
   ]
  },
  {
   "cell_type": "markdown",
   "metadata": {},
   "source": [
    "\n",
    "(0,1)\n",
    "(-1,1)\n",
    "(-1,0)\n",
    "(-1,-1)\n",
    "(0,-1)\n",
    "(1,-1)\n",
    "(1,0)\n",
    "(1,1)\n",
    "\n",
    "(1,2)\n",
    "(0,2)\n",
    "(-1,2)\n",
    "(-2,2)\n",
    "(-2,1)\n",
    "(-2,0)\n",
    "(-2,-1)\n"
   ]
  },
  {
   "cell_type": "code",
   "execution_count": 31,
   "metadata": {},
   "outputs": [],
   "source": [
    "def ringcoords(ring):\n",
    "    i = ring-1\n",
    "    j = ring\n",
    "    coords = [(i,j)]\n",
    "    while -i < j:\n",
    "        i -= 1\n",
    "        coords.append((i,j))\n",
    "    while j > i:\n",
    "        j -= 1\n",
    "        coords.append((i,j))\n",
    "    while i < -j:\n",
    "        i += 1\n",
    "        coords.append((i,j))\n",
    "    while j < i:\n",
    "        j += 1\n",
    "        coords.append((i,j))\n",
    "    return coords"
   ]
  },
  {
   "cell_type": "code",
   "execution_count": 36,
   "metadata": {},
   "outputs": [],
   "source": [
    "def surrounding(coords):\n",
    "    i, j = coords\n",
    "    surrounding = []\n",
    "    for point in ringcoords(1):\n",
    "        a, b = point\n",
    "        surrounding.append((a+i, b+j))\n",
    "    return surrounding"
   ]
  },
  {
   "cell_type": "code",
   "execution_count": 47,
   "metadata": {},
   "outputs": [],
   "source": [
    "def find_next_largest(nr):\n",
    "    squares = {(0,0): 1}\n",
    "    ring = 1\n",
    "    while ring < nr:\n",
    "        coords = ringcoords(ring)\n",
    "        for coord in coords:\n",
    "            sur = surrounding(coord)\n",
    "            value = 0\n",
    "            for s in sur:\n",
    "                if s in squares.keys():\n",
    "                    value += squares[s]\n",
    "            if value > nr:\n",
    "                return value\n",
    "            squares[coord] = value\n",
    "        ring += 1\n",
    "    return squares"
   ]
  },
  {
   "cell_type": "code",
   "execution_count": 52,
   "metadata": {},
   "outputs": [
    {
     "data": {
      "text/plain": [
       "312453"
      ]
     },
     "execution_count": 52,
     "metadata": {},
     "output_type": "execute_result"
    }
   ],
   "source": [
    "find_next_largest(nr)"
   ]
  }
 ],
 "metadata": {
  "kernelspec": {
   "display_name": "advent",
   "language": "python",
   "name": "advent"
  },
  "language_info": {
   "codemirror_mode": {
    "name": "ipython",
    "version": 3
   },
   "file_extension": ".py",
   "mimetype": "text/x-python",
   "name": "python",
   "nbconvert_exporter": "python",
   "pygments_lexer": "ipython3",
   "version": "3.6.7"
  }
 },
 "nbformat": 4,
 "nbformat_minor": 2
}
