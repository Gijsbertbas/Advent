{
 "cells": [
  {
   "cell_type": "markdown",
   "metadata": {},
   "source": [
    "# --- Day 14: Chocolate Charts ---"
   ]
  },
  {
   "cell_type": "raw",
   "metadata": {},
   "source": [
    "You finally have a chance to look at all of the produce moving around. Chocolate, cinnamon, mint, chili peppers, nutmeg, vanilla... the Elves must be growing these plants to make hot chocolate! As you realize this, you hear a conversation in the distance. When you go to investigate, you discover two Elves in what appears to be a makeshift underground kitchen/laboratory.\n",
    "\n",
    "The Elves are trying to come up with the ultimate hot chocolate recipe; they're even maintaining a scoreboard which tracks the quality score (0-9) of each recipe.\n",
    "\n",
    "Only two recipes are on the board: the first recipe got a score of 3, the second, 7. Each of the two Elves has a current recipe: the first Elf starts with the first recipe, and the second Elf starts with the second recipe.\n",
    "\n",
    "To create new recipes, the two Elves combine their current recipes. This creates new recipes from the digits of the sum of the current recipes' scores. With the current recipes' scores of 3 and 7, their sum is 10, and so two new recipes would be created: the first with score 1 and the second with score 0. If the current recipes' scores were 2 and 3, the sum, 5, would only create one recipe (with a score of 5) with its single digit.\n",
    "\n",
    "The new recipes are added to the end of the scoreboard in the order they are created. So, after the first round, the scoreboard is 3, 7, 1, 0.\n",
    "\n",
    "After all new recipes are added to the scoreboard, each Elf picks a new current recipe. To do this, the Elf steps forward through the scoreboard a number of recipes equal to 1 plus the score of their current recipe. So, after the first round, the first Elf moves forward 1 + 3 = 4 times, while the second Elf moves forward 1 + 7 = 8 times. If they run out of recipes, they loop back around to the beginning. After the first round, both Elves happen to loop around until they land on the same recipe that they had in the beginning; in general, they will move to different recipes.\n",
    "\n",
    "Drawing the first Elf as parentheses and the second Elf as square brackets, they continue this process:\n",
    "\n",
    "(3)[7]\n",
    "(3)[7] 1  0 \n",
    " 3  7  1 [0](1) 0 \n",
    " 3  7  1  0 [1] 0 (1)\n",
    "(3) 7  1  0  1  0 [1] 2 \n",
    " 3  7  1  0 (1) 0  1  2 [4]\n",
    " 3  7  1 [0] 1  0 (1) 2  4  5 \n",
    " 3  7  1  0 [1] 0  1  2 (4) 5  1 \n",
    " 3 (7) 1  0  1  0 [1] 2  4  5  1  5 \n",
    " 3  7  1  0  1  0  1  2 [4](5) 1  5  8 \n",
    " 3 (7) 1  0  1  0  1  2  4  5  1  5  8 [9]\n",
    " 3  7  1  0  1  0  1 [2] 4 (5) 1  5  8  9  1  6 \n",
    " 3  7  1  0  1  0  1  2  4  5 [1] 5  8  9  1 (6) 7 \n",
    " 3  7  1  0 (1) 0  1  2  4  5  1  5 [8] 9  1  6  7  7 \n",
    " 3  7 [1] 0  1  0 (1) 2  4  5  1  5  8  9  1  6  7  7  9 \n",
    " 3  7  1  0 [1] 0  1  2 (4) 5  1  5  8  9  1  6  7  7  9  2 \n",
    "The Elves think their skill will improve after making a few recipes (your puzzle input). However, that could take ages; you can speed this up considerably by identifying the scores of the ten recipes after that. For example:\n",
    "\n",
    "If the Elves think their skill will improve after making 9 recipes, the scores of the ten recipes after the first nine on the scoreboard would be 5158916779 (highlighted in the last line of the diagram).\n",
    "After 5 recipes, the scores of the next ten would be 0124515891.\n",
    "After 18 recipes, the scores of the next ten would be 9251071085.\n",
    "After 2018 recipes, the scores of the next ten would be 5941429882.\n",
    "What are the scores of the ten recipes immediately after the number of recipes in your puzzle input?"
   ]
  },
  {
   "cell_type": "code",
   "execution_count": 1,
   "metadata": {},
   "outputs": [],
   "source": [
    "inp = 704321"
   ]
  },
  {
   "cell_type": "code",
   "execution_count": 2,
   "metadata": {},
   "outputs": [],
   "source": [
    "def recipescore(number):\n",
    "    elf1 = 0; elf2 = 1\n",
    "    recipes = [3,7]\n",
    "    while len(recipes) < (number+10):\n",
    "        _ = [recipes.append(int(r)) for r in str(recipes[elf1]+recipes[elf2])]\n",
    "        elf1 = (elf1 + recipes[elf1] + 1) % len(recipes)\n",
    "        elf2 = (elf2 + recipes[elf2] + 1) % len(recipes)\n",
    "    return ''.join((str(r) for r in recipes[number:number+10]))"
   ]
  },
  {
   "cell_type": "code",
   "execution_count": 3,
   "metadata": {
    "scrolled": true
   },
   "outputs": [
    {
     "name": "stdout",
     "output_type": "stream",
     "text": [
      "True\n",
      "True\n",
      "True\n"
     ]
    }
   ],
   "source": [
    "# testing\n",
    "print(recipescore(5) == '0124515891')\n",
    "print(recipescore(18) == '9251071085')\n",
    "print(recipescore(2018) == '5941429882')"
   ]
  },
  {
   "cell_type": "code",
   "execution_count": 4,
   "metadata": {},
   "outputs": [
    {
     "data": {
      "text/plain": [
       "'1741551073'"
      ]
     },
     "execution_count": 4,
     "metadata": {},
     "output_type": "execute_result"
    }
   ],
   "source": [
    "recipescore(inp)"
   ]
  },
  {
   "cell_type": "markdown",
   "metadata": {},
   "source": [
    "## --- Part Two ---"
   ]
  },
  {
   "cell_type": "raw",
   "metadata": {},
   "source": [
    "As it turns out, you got the Elves' plan backwards. They actually want to know how many recipes appear on the scoreboard to the left of the first recipes whose scores are the digits from your puzzle input.\n",
    "\n",
    "51589 first appears after 9 recipes.\n",
    "01245 first appears after 5 recipes.\n",
    "92510 first appears after 18 recipes.\n",
    "59414 first appears after 2018 recipes.\n",
    "How many recipes appear on the scoreboard to the left of the score sequence in your puzzle input?"
   ]
  },
  {
   "cell_type": "code",
   "execution_count": 61,
   "metadata": {},
   "outputs": [],
   "source": [
    "def leftscoreold(inp):\n",
    "    elf1 = 0; elf2 = 1\n",
    "    recipes = blist([3,7])\n",
    "    while not inp in ''.join((str(r) for r in recipes)):\n",
    "        _ = [recipes.append(int(r)) for r in str(recipes[elf1]+recipes[elf2])]\n",
    "        elf1 = (elf1 + recipes[elf1] + 1) % len(recipes)\n",
    "        elf2 = (elf2 + recipes[elf2] + 1) % len(recipes)\n",
    "    return len(recipes)-len(inp)"
   ]
  },
  {
   "cell_type": "code",
   "execution_count": 23,
   "metadata": {},
   "outputs": [],
   "source": [
    "def leftscore(inp):\n",
    "    l = len(inp)\n",
    "    elf1 = 0; elf2 = 1\n",
    "    recipes = '37'\n",
    "    while not inp in recipes[-2*l:]:\n",
    "        e1 = int(recipes[elf1])\n",
    "        e2 = int(recipes[elf2])\n",
    "        recipes += str(e1 + e2)\n",
    "        elf1 = (elf1 + e1 + 1) % len(recipes)\n",
    "        elf2 = (elf2 + e2 + 1) % len(recipes)\n",
    "    return recipes.find(inp)"
   ]
  },
  {
   "cell_type": "code",
   "execution_count": 24,
   "metadata": {},
   "outputs": [
    {
     "name": "stdout",
     "output_type": "stream",
     "text": [
      "True\n",
      "True\n",
      "True\n",
      "True\n"
     ]
    }
   ],
   "source": [
    "# test\n",
    "print(leftscore('51589') == 9)\n",
    "print(leftscore('01245') == 5)\n",
    "print(leftscore('92510') == 18)\n",
    "print(leftscore('59414') == 2018)"
   ]
  },
  {
   "cell_type": "code",
   "execution_count": 25,
   "metadata": {},
   "outputs": [
    {
     "data": {
      "text/plain": [
       "20322683"
      ]
     },
     "execution_count": 25,
     "metadata": {},
     "output_type": "execute_result"
    }
   ],
   "source": [
    "leftscore(str(inp))"
   ]
  },
  {
   "cell_type": "code",
   "execution_count": 51,
   "metadata": {},
   "outputs": [],
   "source": [
    "from timeit import timeit"
   ]
  },
  {
   "cell_type": "code",
   "execution_count": 65,
   "metadata": {},
   "outputs": [],
   "source": [
    "def timeleftscore():\n",
    "    return leftscore('59414')\n",
    "def timeleftscoreold():\n",
    "    return leftscoreold('59414')"
   ]
  },
  {
   "cell_type": "code",
   "execution_count": 74,
   "metadata": {},
   "outputs": [
    {
     "data": {
      "text/plain": [
       "0.03999214400027995"
      ]
     },
     "execution_count": 74,
     "metadata": {},
     "output_type": "execute_result"
    }
   ],
   "source": [
    "timeit(timeleftscore, number=10)"
   ]
  },
  {
   "cell_type": "code",
   "execution_count": 73,
   "metadata": {},
   "outputs": [
    {
     "data": {
      "text/plain": [
       "3.5053074219977134"
      ]
     },
     "execution_count": 73,
     "metadata": {},
     "output_type": "execute_result"
    }
   ],
   "source": [
    "timeit(timeleftscoreold, number = 10)"
   ]
  },
  {
   "cell_type": "code",
   "execution_count": null,
   "metadata": {},
   "outputs": [],
   "source": []
  }
 ],
 "metadata": {
  "kernelspec": {
   "display_name": "advent",
   "language": "python",
   "name": "advent"
  },
  "language_info": {
   "codemirror_mode": {
    "name": "ipython",
    "version": 3
   },
   "file_extension": ".py",
   "mimetype": "text/x-python",
   "name": "python",
   "nbconvert_exporter": "python",
   "pygments_lexer": "ipython3",
   "version": "3.6.7"
  }
 },
 "nbformat": 4,
 "nbformat_minor": 2
}
