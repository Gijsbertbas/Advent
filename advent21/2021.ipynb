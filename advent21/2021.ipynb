{
 "cells": [
  {
   "cell_type": "markdown",
   "id": "e41e7a61",
   "metadata": {},
   "source": [
    "## Day 1"
   ]
  },
  {
   "cell_type": "code",
   "execution_count": 7,
   "id": "13ad02af",
   "metadata": {},
   "outputs": [],
   "source": [
    "depths = [int(d.strip(\"\\n\")) for d in open('day1.input', 'r').readlines()]"
   ]
  },
  {
   "cell_type": "code",
   "execution_count": 9,
   "id": "6e892453",
   "metadata": {},
   "outputs": [
    {
     "name": "stdout",
     "output_type": "stream",
     "text": [
      "1692\n"
     ]
    }
   ],
   "source": [
    "# number of depth values which are larger than the previous\n",
    "print(sum((int(v) > depths[i-1] for i, v in enumerate(depths) if i > 0)))"
   ]
  },
  {
   "cell_type": "code",
   "execution_count": 14,
   "id": "1054bd54",
   "metadata": {},
   "outputs": [],
   "source": [
    "windowed = [sum(depths[i:i+3]) for i in range(len(depths)-2)]"
   ]
  },
  {
   "cell_type": "code",
   "execution_count": 19,
   "id": "9f486355",
   "metadata": {},
   "outputs": [
    {
     "name": "stdout",
     "output_type": "stream",
     "text": [
      "1724\n"
     ]
    }
   ],
   "source": [
    "print(sum((int(v) > windowed[i-1] for i, v in enumerate(windowed) if i > 0)))"
   ]
  },
  {
   "cell_type": "markdown",
   "id": "0e2bfa2e",
   "metadata": {},
   "source": [
    "## Day 2"
   ]
  },
  {
   "cell_type": "code",
   "execution_count": 2,
   "id": "453aa138",
   "metadata": {},
   "outputs": [],
   "source": [
    "navs = [d.strip(\"\\n\").split() for d in open('day2.input', 'r').readlines()]"
   ]
  },
  {
   "cell_type": "code",
   "execution_count": 7,
   "id": "8bad3b89",
   "metadata": {},
   "outputs": [
    {
     "name": "stdout",
     "output_type": "stream",
     "text": [
      "1636725\n"
     ]
    }
   ],
   "source": [
    "forward = sum((int(n[1]) for n in navs if n[0] == \"forward\"))\n",
    "up = sum((int(n[1]) for n in navs if n[0] == \"up\"))\n",
    "down = sum((int(n[1]) for n in navs if n[0] == \"down\"))\n",
    "print((down - up)*forward)"
   ]
  },
  {
   "cell_type": "code",
   "execution_count": 14,
   "id": "b7d4f475",
   "metadata": {},
   "outputs": [],
   "source": [
    "horizontal = 0\n",
    "aim = 0\n",
    "depth = 0\n",
    "for nav in navs:\n",
    "    if nav[0] == \"down\":\n",
    "        aim += int(nav[1])\n",
    "    elif nav[0] == \"up\":\n",
    "        aim -= int(nav[1])\n",
    "    elif nav[0] == \"forward\":\n",
    "        horizontal += int(nav[1])\n",
    "        depth += int(nav[1]) * aim\n",
    "    else:\n",
    "        print(f\"ohoh... {nav}\")"
   ]
  },
  {
   "cell_type": "code",
   "execution_count": 15,
   "id": "93c7a97f",
   "metadata": {},
   "outputs": [
    {
     "name": "stdout",
     "output_type": "stream",
     "text": [
      "1872757425\n"
     ]
    }
   ],
   "source": [
    "print(horizontal * depth)"
   ]
  },
  {
   "cell_type": "markdown",
   "id": "3d98733a",
   "metadata": {},
   "source": [
    "## Day 3"
   ]
  },
  {
   "cell_type": "code",
   "execution_count": 42,
   "id": "be1961b7",
   "metadata": {},
   "outputs": [],
   "source": [
    "report = [b.strip(\"\\n\") for b in open('day3.input').readlines()]\n",
    "demo = [\"00100\",\"11110\",\"10110\",\"10111\",\"10101\",\"01111\",\"00111\",\"11100\",\"10000\",\"11001\",\"00010\",\"01010\"]"
   ]
  },
  {
   "cell_type": "code",
   "execution_count": 37,
   "id": "f8dabbc1",
   "metadata": {},
   "outputs": [],
   "source": [
    "def get_counts(report: list) -> dict:\n",
    "    counts = {i: {'0': 0, '1': 0} for i in range(len(report[0]))}\n",
    "    for binary in report:\n",
    "        for i, d in enumerate(binary):\n",
    "            counts[i][d] += 1\n",
    "    return counts\n",
    "\n",
    "\n",
    "def solve_day_3(report: list) -> int:    \n",
    "    counts = get_counts(report)\n",
    "    gamma = ''\n",
    "    epsilon = ''\n",
    "    for c in counts.values():\n",
    "        s = sorted(c.items(), key=lambda x: x[1])\n",
    "        epsilon = epsilon + s[0][0]\n",
    "        gamma = gamma + s[1][0]\n",
    "    return int(gamma, 2) * int(epsilon, 2)"
   ]
  },
  {
   "cell_type": "code",
   "execution_count": 43,
   "id": "d7e9cac4",
   "metadata": {},
   "outputs": [],
   "source": [
    "assert solve_day_3(demo) == 198"
   ]
  },
  {
   "cell_type": "code",
   "execution_count": 39,
   "id": "9893bf06",
   "metadata": {},
   "outputs": [
    {
     "data": {
      "text/plain": [
       "4191876"
      ]
     },
     "execution_count": 39,
     "metadata": {},
     "output_type": "execute_result"
    }
   ],
   "source": [
    "solve_day_3(report) # 4191876"
   ]
  },
  {
   "cell_type": "code",
   "execution_count": 97,
   "id": "7360bccf",
   "metadata": {},
   "outputs": [],
   "source": [
    "def oxygen(report: list) -> int:\n",
    "    counts = get_counts(report)\n",
    "    oxygen = ''\n",
    "    for i in range(len(report[0])):\n",
    "        if counts[i]['0'] == counts[i]['1']:\n",
    "            oxygen += '1'\n",
    "        else:\n",
    "            s = sorted(counts[i].items(), key=lambda x: x[1])\n",
    "            oxygen  += s[1][0]\n",
    "        report = [r for r in report if r.startswith(oxygen)]\n",
    "        if len(report) == 1:\n",
    "            return int(oxygen, 2)\n",
    "        counts = get_counts(report)\n",
    "\n",
    "def co2(report: list) -> int:\n",
    "    counts = get_counts(report)\n",
    "    co2 = ''\n",
    "    for i in range(len(report[0])):\n",
    "        if counts[i]['0'] == counts[i]['1']:\n",
    "            co2 += '0'\n",
    "        else:\n",
    "            s = sorted(counts[i].items(), key=lambda x: x[1])\n",
    "            co2  += s[0][0]\n",
    "        report = [r for r in report if r.startswith(co2)]\n",
    "        if len(report) == 1:\n",
    "            return int(report[0], 2)\n",
    "        counts = get_counts(report)\n"
   ]
  },
  {
   "cell_type": "code",
   "execution_count": 98,
   "id": "c5545b0e",
   "metadata": {},
   "outputs": [],
   "source": [
    "assert oxygen(demo) == 23\n",
    "assert co2(demo) == 10"
   ]
  },
  {
   "cell_type": "code",
   "execution_count": 99,
   "id": "c6721ae9",
   "metadata": {},
   "outputs": [
    {
     "name": "stdout",
     "output_type": "stream",
     "text": [
      "3414905\n"
     ]
    }
   ],
   "source": [
    "print(oxygen(report) * co2(report)) # 3414905"
   ]
  },
  {
   "cell_type": "markdown",
   "id": "39d4958d",
   "metadata": {},
   "source": [
    "## Day 4"
   ]
  },
  {
   "cell_type": "code",
   "execution_count": 1,
   "id": "ce379679",
   "metadata": {},
   "outputs": [],
   "source": [
    "import numpy as np"
   ]
  },
  {
   "cell_type": "code",
   "execution_count": 91,
   "id": "896cd212",
   "metadata": {},
   "outputs": [],
   "source": [
    "def read_input(file: str) -> tuple:\n",
    "    with open(file, 'r') as f:\n",
    "        calls = [int(i) for i in f.readline().strip('\\n').split(',')]\n",
    "        puzzles = [p.strip().split('\\n') for p in f.read().split(\"\\n\\n\")]\n",
    "    for i, p in enumerate(puzzles):\n",
    "        puzzles[i] = np.array([r.strip().split() for r in p], dtype=int)\n",
    "    marks = [np.zeros(p.shape) for p in puzzles]\n",
    "    return calls, puzzles, marks"
   ]
  },
  {
   "cell_type": "code",
   "execution_count": 94,
   "id": "190ab593",
   "metadata": {},
   "outputs": [],
   "source": [
    "def check_mark(mark) -> bool:\n",
    "    return len(np.where(mark.sum(axis=1) == 5)[0]) == 1 or len(np.where(mark.sum(axis=0) == 5)[0]) == 1\n",
    "\n",
    "def solve_part_1(calls, puzzles, marks):\n",
    "    for call in calls:\n",
    "        for puzzle, mark in zip(puzzles, marks):\n",
    "            mark[np.where(puzzle == call)] = 1\n",
    "            if check_mark(mark):\n",
    "                return puzzle[np.where(mark == 0)].sum() * call"
   ]
  },
  {
   "cell_type": "code",
   "execution_count": 96,
   "id": "9ff498d4",
   "metadata": {},
   "outputs": [],
   "source": [
    "assert solve_part_1(*read_input('day4.example.input')) == 4512"
   ]
  },
  {
   "cell_type": "code",
   "execution_count": 97,
   "id": "da47111e",
   "metadata": {},
   "outputs": [
    {
     "data": {
      "text/plain": [
       "16674"
      ]
     },
     "execution_count": 97,
     "metadata": {},
     "output_type": "execute_result"
    }
   ],
   "source": [
    "solve_part_1(*read_input('day4.input')) # 16674"
   ]
  },
  {
   "cell_type": "code",
   "execution_count": 111,
   "id": "3587b9fd",
   "metadata": {},
   "outputs": [],
   "source": [
    "def solve_part_2(calls, puzzles, marks):\n",
    "    solved = np.zeros([len(puzzles)])\n",
    "    for call in calls:\n",
    "        for puzzle, mark, index in zip(puzzles, marks, range(len(puzzles))):\n",
    "            mark[np.where(puzzle == call)] = 1\n",
    "            if check_mark(mark):\n",
    "                solved[index] = 1\n",
    "                if sum(solved) == len(puzzles):\n",
    "                    return  puzzle[np.where(mark == 0)].sum() * call"
   ]
  },
  {
   "cell_type": "code",
   "execution_count": 112,
   "id": "a342e6a6",
   "metadata": {},
   "outputs": [],
   "source": [
    "assert solve_part_2(*read_input('day4.example.input')) == 1924"
   ]
  },
  {
   "cell_type": "code",
   "execution_count": 113,
   "id": "22253db1",
   "metadata": {},
   "outputs": [
    {
     "data": {
      "text/plain": [
       "7075"
      ]
     },
     "execution_count": 113,
     "metadata": {},
     "output_type": "execute_result"
    }
   ],
   "source": [
    "solve_part_2(*read_input('day4.input')) # 7075"
   ]
  },
  {
   "cell_type": "markdown",
   "id": "38ae649b",
   "metadata": {},
   "source": [
    "## Day 5"
   ]
  },
  {
   "cell_type": "code",
   "execution_count": 1,
   "id": "4e26c320",
   "metadata": {},
   "outputs": [],
   "source": [
    "import numpy as np"
   ]
  },
  {
   "cell_type": "code",
   "execution_count": 73,
   "id": "d332f812",
   "metadata": {},
   "outputs": [],
   "source": [
    "def read_input(file: str):\n",
    "    with open(file, 'r') as f:\n",
    "        vents = [line.strip(\"\\n\").split(\" -> \") for line in f.readlines()]\n",
    "    for i, p in enumerate(vents):\n",
    "        vents[i] =[int(i) for c in p for i in c.split(',')]\n",
    "    \n",
    "    maxes = np.array(vents).max(axis=0)\n",
    "    mask = np.zeros([max(maxes[1], maxes[3])+1, max(maxes[0], maxes[2])+1])\n",
    "    return vents, mask"
   ]
  },
  {
   "cell_type": "code",
   "execution_count": 123,
   "id": "35863673",
   "metadata": {},
   "outputs": [],
   "source": [
    "def solve(vents, mask, incl_diagonal = False) -> int:\n",
    "    for x1, y1, x2, y2 in vents:\n",
    "        xmin, xmax = min(x1,x2), max(x1,x2)\n",
    "        ymin, ymax = min(y1,y2), max(y1,y2)\n",
    "        if x1 == x2:\n",
    "            mask[ymin:ymax+1, xmin] += 1\n",
    "        elif y1 == y2:\n",
    "            mask[ymin, xmin:xmax+1] += 1\n",
    "        elif incl_diagonal:\n",
    "            xrange = range(x1, x2+1) if x2 > x1 else range(x1, x2-1, -1)\n",
    "            yrange = range(y1, y2+1) if y2 > y1 else range(y1, y2-1, -1)\n",
    "            for x, y in zip(xrange, yrange):\n",
    "                mask[y,x] += 1\n",
    "    return sum(sum(mask > 1))        "
   ]
  },
  {
   "cell_type": "code",
   "execution_count": 124,
   "id": "eaea78b4",
   "metadata": {},
   "outputs": [],
   "source": [
    "assert solve(*read_input('day5.example.input')) == 5"
   ]
  },
  {
   "cell_type": "code",
   "execution_count": 127,
   "id": "b0a4cdbc",
   "metadata": {},
   "outputs": [
    {
     "data": {
      "text/plain": [
       "6572"
      ]
     },
     "execution_count": 127,
     "metadata": {},
     "output_type": "execute_result"
    }
   ],
   "source": [
    "solve(*read_input('day5.input')) # 6572"
   ]
  },
  {
   "cell_type": "code",
   "execution_count": 126,
   "id": "577b46c1",
   "metadata": {},
   "outputs": [],
   "source": [
    "assert solve(*read_input('day5.example.input'), True) == 12"
   ]
  },
  {
   "cell_type": "code",
   "execution_count": 128,
   "id": "85bdb700",
   "metadata": {},
   "outputs": [
    {
     "data": {
      "text/plain": [
       "21466"
      ]
     },
     "execution_count": 128,
     "metadata": {},
     "output_type": "execute_result"
    }
   ],
   "source": [
    "solve(*read_input('day5.input'), True) # 21466"
   ]
  },
  {
   "cell_type": "markdown",
   "id": "d9628ea5",
   "metadata": {},
   "source": [
    "## Day 6"
   ]
  },
  {
   "cell_type": "code",
   "execution_count": 1,
   "id": "1de7a383",
   "metadata": {},
   "outputs": [],
   "source": [
    "import numpy as np"
   ]
  },
  {
   "cell_type": "code",
   "execution_count": 2,
   "id": "1530ac1e",
   "metadata": {},
   "outputs": [],
   "source": [
    "def read_input(file: str):\n",
    "    with open(file, 'r') as f:\n",
    "        data = f.readline()\n",
    "    return [int(d) for d in data.strip(\"\\n\").split(\",\")]"
   ]
  },
  {
   "cell_type": "code",
   "execution_count": 247,
   "id": "78480bc3",
   "metadata": {},
   "outputs": [],
   "source": [
    "def solve(fishes, days = 80):\n",
    "    length = 0\n",
    "    for i in range(len(fishes)):\n",
    "        fish = np.array([fishes[i]])\n",
    "        for day in range(days):\n",
    "            fish = fish -1\n",
    "            reset = np.where(fish == -1)\n",
    "            fish[reset] = 6\n",
    "            fish = np.append(fish, np.ones(len(reset[0]))*8)\n",
    "        length += len(fish)\n",
    "    return length"
   ]
  },
  {
   "cell_type": "code",
   "execution_count": 248,
   "id": "8be0ea1e",
   "metadata": {},
   "outputs": [],
   "source": [
    "assert solve(np.array([3,4,3,1,2])) == 5934"
   ]
  },
  {
   "cell_type": "code",
   "execution_count": 249,
   "id": "16506844",
   "metadata": {},
   "outputs": [
    {
     "data": {
      "text/plain": [
       "390923"
      ]
     },
     "execution_count": 249,
     "metadata": {},
     "output_type": "execute_result"
    }
   ],
   "source": [
    "solve(np.array(read_input('day6.input'))) # 390923"
   ]
  },
  {
   "cell_type": "code",
   "execution_count": 243,
   "id": "34fc66dd",
   "metadata": {},
   "outputs": [],
   "source": [
    "def solve2(fishes, days = 80):\n",
    "    stages = [0] * 9\n",
    "    for fish in fishes:\n",
    "        stages[fish] += 1\n",
    "\n",
    "    for day in range(days):\n",
    "        today = day % len(stages)\n",
    "        stages[(today + 7) % len(stages)] += stages[today]\n",
    "    \n",
    "    return sum(stages)"
   ]
  },
  {
   "cell_type": "code",
   "execution_count": 245,
   "id": "27bf149e",
   "metadata": {
    "scrolled": true
   },
   "outputs": [],
   "source": [
    "assert solve2([3,4,3,1,2], 256) == 26984457539"
   ]
  },
  {
   "cell_type": "code",
   "execution_count": 246,
   "id": "71e20b61",
   "metadata": {},
   "outputs": [
    {
     "data": {
      "text/plain": [
       "1749945484935"
      ]
     },
     "execution_count": 246,
     "metadata": {},
     "output_type": "execute_result"
    }
   ],
   "source": [
    "solve2(read_input('day6.input'), 256) # 1749945484935"
   ]
  },
  {
   "cell_type": "code",
   "execution_count": null,
   "id": "b53c5e0e",
   "metadata": {},
   "outputs": [],
   "source": [
    "def solve2(fishes, days = 80):\n",
    "    stages = [0] * 9\n",
    "    for fish in fishes:\n",
    "        stages[fish] += 1\n",
    "\n",
    "    for day in range(days):\n",
    "        today = day % len(stages)\n",
    "        stages[(today + 7) % len(stages)] += stages[today]\n",
    "    \n",
    "    return sum(stages)"
   ]
  },
  {
   "cell_type": "markdown",
   "id": "f56cdce5",
   "metadata": {},
   "source": [
    "## Day 7"
   ]
  },
  {
   "cell_type": "code",
   "execution_count": 250,
   "id": "e5ab2ae0",
   "metadata": {},
   "outputs": [],
   "source": [
    "import numpy as np"
   ]
  },
  {
   "cell_type": "code",
   "execution_count": 260,
   "id": "27e9c5a9",
   "metadata": {},
   "outputs": [],
   "source": [
    "def read_input(file: str):\n",
    "    with open(file, 'r') as f:\n",
    "        data = f.readline()\n",
    "    return [int(d) for d in data.strip(\"\\n\").split(\",\")]"
   ]
  },
  {
   "cell_type": "code",
   "execution_count": 302,
   "id": "2b5786f6",
   "metadata": {},
   "outputs": [],
   "source": [
    "def solve_part1(positions: list) -> int:\n",
    "    optimum = int(np.median(positions))\n",
    "    return sum(np.abs(np.array(positions) - optimum))"
   ]
  },
  {
   "cell_type": "code",
   "execution_count": 303,
   "id": "5adfe6be",
   "metadata": {},
   "outputs": [],
   "source": [
    "assert solve_part1([16,1,2,0,4,2,7,1,2,14]) == 37"
   ]
  },
  {
   "cell_type": "code",
   "execution_count": 304,
   "id": "5511eb93",
   "metadata": {},
   "outputs": [
    {
     "data": {
      "text/plain": [
       "335330"
      ]
     },
     "execution_count": 304,
     "metadata": {},
     "output_type": "execute_result"
    }
   ],
   "source": [
    "solve_part1(read_input('day7.input')) # 335330"
   ]
  },
  {
   "cell_type": "code",
   "execution_count": 330,
   "id": "277135a8",
   "metadata": {},
   "outputs": [],
   "source": [
    "def solve_part2(positions: list) -> int:\n",
    "    min_fuel = 10000000000000\n",
    "    for i in range(min(positions), max(positions)):\n",
    "        if (fuel := sum([sum(range(abs(p-i)+1)) for p in positions])) > min_fuel:\n",
    "            return min_fuel\n",
    "        else:\n",
    "            min_fuel = fuel"
   ]
  },
  {
   "cell_type": "code",
   "execution_count": 331,
   "id": "931412d6",
   "metadata": {},
   "outputs": [],
   "source": [
    "assert solve_part2([16,1,2,0,4,2,7,1,2,14]) == 168"
   ]
  },
  {
   "cell_type": "code",
   "execution_count": 332,
   "id": "01c4b831",
   "metadata": {},
   "outputs": [
    {
     "data": {
      "text/plain": [
       "92439766"
      ]
     },
     "execution_count": 332,
     "metadata": {},
     "output_type": "execute_result"
    }
   ],
   "source": [
    "solve_part2(read_input('day7.input')) # 92439766"
   ]
  },
  {
   "cell_type": "markdown",
   "id": "5a8cfa92",
   "metadata": {},
   "source": [
    "## Day 8"
   ]
  },
  {
   "cell_type": "code",
   "execution_count": 1,
   "id": "57a4c01d",
   "metadata": {},
   "outputs": [],
   "source": [
    "from aocd.models import Puzzle\n",
    "puzzle = Puzzle(year=2021, day=8)"
   ]
  },
  {
   "cell_type": "code",
   "execution_count": 5,
   "id": "9be3a98d",
   "metadata": {},
   "outputs": [],
   "source": [
    "data = [p.strip().split(\" | \") for p in puzzle.input_data.split('\\n')]"
   ]
  },
  {
   "cell_type": "code",
   "execution_count": 13,
   "id": "04c0c26e",
   "metadata": {},
   "outputs": [],
   "source": [
    "def read_input(file: str):\n",
    "    with open(file, 'r') as f:\n",
    "        patterns = f.readlines()\n",
    "    return [pattern.strip().split(\" | \") for pattern in patterns]"
   ]
  },
  {
   "cell_type": "code",
   "execution_count": 7,
   "id": "f5392dc7",
   "metadata": {},
   "outputs": [],
   "source": [
    "def solve_part1(patterns: list) -> int:\n",
    "    unique = 0\n",
    "    digits = []\n",
    "    _ = [digits.extend(d[1].split(\" \")) for d in patterns]\n",
    "    for p in patterns:\n",
    "        unique += sum((len(d) in [2,3,4,7] for d in p[1].split(\" \")))\n",
    "    return unique"
   ]
  },
  {
   "cell_type": "code",
   "execution_count": 14,
   "id": "e34f48e5",
   "metadata": {},
   "outputs": [],
   "source": [
    "assert solve_part1(read_input('day8.example.input')) == 26"
   ]
  },
  {
   "cell_type": "code",
   "execution_count": 12,
   "id": "4343545d",
   "metadata": {},
   "outputs": [],
   "source": [
    "puzzle.answer_a = solve_part1(data) # 387"
   ]
  },
  {
   "cell_type": "code",
   "execution_count": 18,
   "id": "585aade1",
   "metadata": {},
   "outputs": [],
   "source": [
    "def create_pattern_map(pattern: str) -> dict:\n",
    "    patterns = pattern.split()\n",
    "    pattern_map = {}\n",
    "    for p in patterns:\n",
    "        if len(p) == 2:\n",
    "            pattern_map[1] = p\n",
    "        elif len(p) == 4:\n",
    "            pattern_map[4] = p\n",
    "        elif len(p) == 3:\n",
    "            pattern_map[7] = p\n",
    "        elif len(p) == 7:\n",
    "            pattern_map[8] = p\n",
    "    m = {}\n",
    "    for s in pattern_map[1]:\n",
    "        m[s] = [p for p in patterns if s not in p]\n",
    "    for k, v in m.items():\n",
    "        if len(v) == 1:\n",
    "            pattern_map[2] = v[0]\n",
    "        else:\n",
    "            for iv in v:\n",
    "                pattern_map[len(iv)] = iv \n",
    "    zeronine = []\n",
    "    for p in patterns:\n",
    "        if len(p) == 5 and p not in pattern_map.values():\n",
    "            pattern_map[3] = p\n",
    "        if len(p) == 6 and p not in pattern_map.values():\n",
    "            zeronine.append(p)\n",
    "    for k in 'abcdefg':\n",
    "        if k not in zeronine[0]:\n",
    "            if k in pattern_map[3]:\n",
    "                pattern_map[9] = zeronine[1]\n",
    "                pattern_map[0] = zeronine[0]\n",
    "            else:\n",
    "                pattern_map[9] = zeronine[0]\n",
    "                pattern_map[0] = zeronine[1]\n",
    "            break\n",
    "            \n",
    "    return {''.join(sorted(v)): k for k, v in pattern_map.items()}\n",
    "    \n",
    "def solve_part2(data: list) -> int:\n",
    "    total = 0\n",
    "    for pattern in data:\n",
    "        mp = create_pattern_map(pattern[0])\n",
    "        digits = [mp[''.join(sorted(d))] for d in pattern[1].split()]\n",
    "        total += int(''.join([str(i) for i in digits]))\n",
    "    return total"
   ]
  },
  {
   "cell_type": "code",
   "execution_count": 153,
   "id": "38028fe2",
   "metadata": {},
   "outputs": [],
   "source": [
    "assert solve_part2(read_input('day8.example.input')) == 61229"
   ]
  },
  {
   "cell_type": "code",
   "execution_count": 19,
   "id": "32a3da9a",
   "metadata": {},
   "outputs": [
    {
     "data": {
      "text/plain": [
       "986034"
      ]
     },
     "execution_count": 19,
     "metadata": {},
     "output_type": "execute_result"
    }
   ],
   "source": [
    "solve_part2(data) # 986034"
   ]
  },
  {
   "cell_type": "markdown",
   "id": "f18082b4",
   "metadata": {},
   "source": [
    "## Day 9"
   ]
  },
  {
   "cell_type": "code",
   "execution_count": 1,
   "id": "80173abd",
   "metadata": {},
   "outputs": [],
   "source": [
    "import numpy as np\n",
    "from aocd.models import Puzzle\n",
    "puzzle = Puzzle(year=2021, day=9)"
   ]
  },
  {
   "cell_type": "code",
   "execution_count": 101,
   "id": "4f2f658a",
   "metadata": {},
   "outputs": [],
   "source": [
    "data = puzzle.input_data.split()"
   ]
  },
  {
   "cell_type": "code",
   "execution_count": 7,
   "id": "302f807b",
   "metadata": {},
   "outputs": [],
   "source": [
    "example_data = [[int(d) for d in line.strip()] for line in open('day9.example.input').readlines()]"
   ]
  },
  {
   "cell_type": "code",
   "execution_count": 209,
   "id": "28b32264",
   "metadata": {},
   "outputs": [],
   "source": [
    "def find_lows(array: np.array) -> tuple:\n",
    "    x, y = array.shape\n",
    "    wr = np.ones((x+2, y+2))*9  # wrapper\n",
    "    wr[1:x+1, 1:y+1] = array\n",
    "    mask = np.zeros(wr.shape)\n",
    "    for i in range(1, x+1):\n",
    "        for j in range(1, y+1):\n",
    "            xy = wr[i, j]\n",
    "            mask[i, j] = all([xy < n for n in [wr[i-1, j], wr[i+1, j], wr[i, j-1], wr[i, j+1]]])            \n",
    "    return wr, np.where(mask == 1)\n",
    "\n",
    "def solve_part1(data: list):\n",
    "    wrapper, lows = find_lows(np.array(data))\n",
    "    return int(sum(wrapper[lows]+1))"
   ]
  },
  {
   "cell_type": "code",
   "execution_count": 210,
   "id": "13256369",
   "metadata": {},
   "outputs": [],
   "source": [
    "assert solve_part1(example_data) == 15"
   ]
  },
  {
   "cell_type": "code",
   "execution_count": 211,
   "id": "34af9f48",
   "metadata": {},
   "outputs": [],
   "source": [
    "solutiona = solve_part1([[int(d) for d in line.strip()] for line in data])"
   ]
  },
  {
   "cell_type": "code",
   "execution_count": 212,
   "id": "6407d0cc",
   "metadata": {},
   "outputs": [
    {
     "data": {
      "text/plain": [
       "607"
      ]
     },
     "execution_count": 212,
     "metadata": {},
     "output_type": "execute_result"
    }
   ],
   "source": [
    "solutiona"
   ]
  },
  {
   "cell_type": "code",
   "execution_count": 168,
   "id": "c09ac81a",
   "metadata": {},
   "outputs": [
    {
     "name": "stdout",
     "output_type": "stream",
     "text": [
      "\u001b[32mThat's the right answer!  You are one gold star closer to finding the sleigh keys. [Continue to Part Two]\u001b[0m\n"
     ]
    }
   ],
   "source": [
    "puzzle.answer_a = solutiona"
   ]
  },
  {
   "cell_type": "code",
   "execution_count": 273,
   "id": "473daea2",
   "metadata": {},
   "outputs": [],
   "source": [
    "def patch_size(wr: np.array, seeds: set):\n",
    "    length = len(seeds)\n",
    "    additions = []\n",
    "    for x, y in seeds:\n",
    "        additions.extend([(i, j) for i, j in [(x-1, y), (x+1, y), (x, y-1), (x, y+1)] if wr[i, j] != 9])\n",
    "    seeds.update(set(additions))\n",
    "    if len(seeds) == length:\n",
    "        return length\n",
    "    return patch_size(wr, seeds)\n",
    "                          \n",
    "def solve_part2(data: list):\n",
    "    wrapper, lows = find_lows(np.array(data))\n",
    "    sizes = [patch_size(wrapper, {(x, y)}) for x, y in zip(*lows)]\n",
    "    sizes = sorted(sizes, reverse=True)\n",
    "    return np.product(sizes[:3])"
   ]
  },
  {
   "cell_type": "code",
   "execution_count": 274,
   "id": "4894f708",
   "metadata": {
    "scrolled": true
   },
   "outputs": [],
   "source": [
    "assert solve_part2(example_data) == 1134"
   ]
  },
  {
   "cell_type": "code",
   "execution_count": 276,
   "id": "ef0edeba",
   "metadata": {},
   "outputs": [
    {
     "data": {
      "text/plain": [
       "900864"
      ]
     },
     "execution_count": 276,
     "metadata": {},
     "output_type": "execute_result"
    }
   ],
   "source": [
    "solutionb = solve_part2([[int(d) for d in line.strip()] for line in data])\n",
    "solutionb"
   ]
  },
  {
   "cell_type": "code",
   "execution_count": 277,
   "id": "5aab4e77",
   "metadata": {},
   "outputs": [
    {
     "name": "stdout",
     "output_type": "stream",
     "text": [
      "\u001b[32mThat's the right answer!  You are one gold star closer to finding the sleigh keys.You have completed Day 9! You can [Shareon\n",
      "  Twitter\n",
      "Mastodon] this victory or [Return to Your Advent Calendar].\u001b[0m\n"
     ]
    }
   ],
   "source": [
    "puzzle.answer_b = solutionb"
   ]
  },
  {
   "cell_type": "markdown",
   "id": "f13f5de7",
   "metadata": {},
   "source": [
    "## Day 10"
   ]
  },
  {
   "cell_type": "code",
   "execution_count": 29,
   "id": "cdc6f272",
   "metadata": {},
   "outputs": [],
   "source": [
    "import numpy as np\n",
    "from aocd.models import Puzzle\n",
    "puzzle = Puzzle(year=2021, day=10)"
   ]
  },
  {
   "cell_type": "code",
   "execution_count": 10,
   "id": "b64869b5",
   "metadata": {},
   "outputs": [],
   "source": [
    "example_data = [line.strip() for line in open('day10.example.input').readlines()]"
   ]
  },
  {
   "cell_type": "code",
   "execution_count": 31,
   "id": "03467e6d",
   "metadata": {},
   "outputs": [],
   "source": [
    "charmap = {\")\": 3, \"]\": 57, \"}\": 1197, \">\": 25137}\n",
    "opensets = {\"]\": \"[\", \"}\": \"{\", \")\": \"(\", \">\": \"<\"}\n",
    "\n",
    "def validate_line(line: str):\n",
    "    \n",
    "    series = []\n",
    "    for c in line:\n",
    "        if c in opensets.values():\n",
    "            series.append(c)\n",
    "        else:\n",
    "            last_opening = series.pop()\n",
    "            if opensets[c] == last_opening:\n",
    "                continue\n",
    "            else:\n",
    "                return False, c\n",
    "    return True, None\n",
    "\n",
    "def solve_part1(data: list) -> int:\n",
    "    syntax_error_score = 0\n",
    "    for line in data:\n",
    "        result, char = validate_line(line)\n",
    "        if not result:\n",
    "            syntax_error_score += charmap[char]\n",
    "    return syntax_error_score"
   ]
  },
  {
   "cell_type": "code",
   "execution_count": 32,
   "id": "649f3d6c",
   "metadata": {
    "scrolled": false
   },
   "outputs": [],
   "source": [
    "assert solve_part1(example_data) == 26397"
   ]
  },
  {
   "cell_type": "code",
   "execution_count": 25,
   "id": "9b91c7e0",
   "metadata": {},
   "outputs": [
    {
     "data": {
      "text/plain": [
       "344193"
      ]
     },
     "execution_count": 25,
     "metadata": {},
     "output_type": "execute_result"
    }
   ],
   "source": [
    "solutiona = solve_part1(puzzle.input_data.split())\n",
    "solutiona"
   ]
  },
  {
   "cell_type": "code",
   "execution_count": 26,
   "id": "8ab81d8a",
   "metadata": {},
   "outputs": [
    {
     "name": "stdout",
     "output_type": "stream",
     "text": [
      "\u001b[32mThat's the right answer!  You are one gold star closer to finding the sleigh keys. [Continue to Part Two]\u001b[0m\n"
     ]
    }
   ],
   "source": [
    "puzzle.answer_a = solutiona"
   ]
  },
  {
   "cell_type": "code",
   "execution_count": 67,
   "id": "646e1142",
   "metadata": {},
   "outputs": [],
   "source": [
    "charmap = {\")\": 1, \"]\": 2, \"}\": 3, \">\": 4}\n",
    "closesets = {\"[\": \"]\", \"{\": \"}\", \"(\": \")\", \"<\": \">\"}\n",
    "\n",
    "def calculate_completion(line: str):\n",
    "    series = []\n",
    "    for c in line:\n",
    "        if c in charsets.keys():\n",
    "            series.append(c)\n",
    "        else:\n",
    "            assert opensets[c] == series.pop()\n",
    "    completion = [closesets[c] for c in series]\n",
    "    completion.reverse()\n",
    "    return \"\".join(completion)\n",
    "\n",
    "def calculate_score(line: str) -> int:\n",
    "    score = 0\n",
    "    for c in line:\n",
    "        score = score * 5 + charmap[c]\n",
    "    return score\n",
    "\n",
    "def solve_part2(data: list) -> int:\n",
    "    completion_scores = []\n",
    "    for line in data:\n",
    "        result, char = validate_line(line)\n",
    "        if result:\n",
    "            completion_scores.append(calculate_score(calculate_completion(line)))\n",
    "    completion_scores.sort()\n",
    "    return completion_scores[int(np.floor(len(completion_scores)/2))]"
   ]
  },
  {
   "cell_type": "code",
   "execution_count": 68,
   "id": "3fcc45cc",
   "metadata": {},
   "outputs": [],
   "source": [
    "assert solve_part2(example_data) == 288957"
   ]
  },
  {
   "cell_type": "code",
   "execution_count": 69,
   "id": "774e5ed2",
   "metadata": {},
   "outputs": [
    {
     "data": {
      "text/plain": [
       "3241238967"
      ]
     },
     "execution_count": 69,
     "metadata": {},
     "output_type": "execute_result"
    }
   ],
   "source": [
    "solutionb = solve_part2(puzzle.input_data.split())\n",
    "solutionb"
   ]
  },
  {
   "cell_type": "code",
   "execution_count": 70,
   "id": "0534c105",
   "metadata": {},
   "outputs": [
    {
     "name": "stdout",
     "output_type": "stream",
     "text": [
      "\u001b[32mThat's the right answer!  You are one gold star closer to finding the sleigh keys.You have completed Day 10! You can [Shareon\n",
      "  Twitter\n",
      "Mastodon] this victory or [Return to Your Advent Calendar].\u001b[0m\n"
     ]
    }
   ],
   "source": [
    "puzzle.answer_b = solutionb"
   ]
  },
  {
   "cell_type": "markdown",
   "id": "f9cf1756",
   "metadata": {},
   "source": [
    "## Day 11"
   ]
  },
  {
   "cell_type": "code",
   "execution_count": 269,
   "id": "302ca231",
   "metadata": {},
   "outputs": [],
   "source": [
    "import numpy as np\n",
    "from aocd.models import Puzzle\n",
    "puzzle = Puzzle(year=2021, day=11)\n",
    "data = np.array([[int(d) for d in line.strip()] for line in puzzle.input_data.split()])"
   ]
  },
  {
   "cell_type": "code",
   "execution_count": 77,
   "id": "76552338",
   "metadata": {},
   "outputs": [],
   "source": [
    "import scipy.ndimage as ndimage"
   ]
  },
  {
   "cell_type": "code",
   "execution_count": 266,
   "id": "90a8735b",
   "metadata": {},
   "outputs": [],
   "source": [
    "example_data = np.array([[int(d) for d in line.strip()] for line in open('day11.example.input').readlines()])"
   ]
  },
  {
   "cell_type": "code",
   "execution_count": 181,
   "id": "f6055e2d",
   "metadata": {},
   "outputs": [],
   "source": [
    "footprint = np.array([[1,1,1],\n",
    "                      [1,0,1],\n",
    "                      [1,1,1]])\n",
    "def test_func(values):\n",
    "    return len(np.where(values > 9)[0])"
   ]
  },
  {
   "cell_type": "code",
   "execution_count": 259,
   "id": "3e3dce4f",
   "metadata": {},
   "outputs": [],
   "source": [
    "def take_step(data: np.array) -> tuple:\n",
    "    flashes = 0\n",
    "    data += 1\n",
    "    flashed = len(np.where(data > 9)[0])\n",
    "    while flashed != 0:\n",
    "        mask = ndimage.generic_filter(data, test_func, footprint=footprint, mode='constant')\n",
    "        data[np.where(data > 9)] = -1000\n",
    "        data += mask\n",
    "        flashed = len(np.where(data > 9)[0])\n",
    "    flashed = np.where(data < 0)\n",
    "    data[flashed] = 0\n",
    "    return data, len(flashed[0])\n",
    "\n",
    "def solve_part1(data: np.array, steps = 100) -> int:\n",
    "    flashes = 0\n",
    "    for step in range(steps):\n",
    "        data, flash = take_step(data)\n",
    "        flashes += flash\n",
    "    return flashes"
   ]
  },
  {
   "cell_type": "code",
   "execution_count": 260,
   "id": "ede23b53",
   "metadata": {},
   "outputs": [],
   "source": [
    "assert solve_part1(example_data) == 1656"
   ]
  },
  {
   "cell_type": "code",
   "execution_count": 261,
   "id": "42bbd277",
   "metadata": {},
   "outputs": [
    {
     "data": {
      "text/plain": [
       "1785"
      ]
     },
     "execution_count": 261,
     "metadata": {},
     "output_type": "execute_result"
    }
   ],
   "source": [
    "solutiona = solve_part1(data)\n",
    "solutiona"
   ]
  },
  {
   "cell_type": "code",
   "execution_count": 262,
   "id": "2d9e6101",
   "metadata": {},
   "outputs": [
    {
     "name": "stdout",
     "output_type": "stream",
     "text": [
      "\u001b[32mThat's the right answer!  You are one gold star closer to finding the sleigh keys. [Continue to Part Two]\u001b[0m\n"
     ]
    }
   ],
   "source": [
    "puzzle.answer_a = solutiona"
   ]
  },
  {
   "cell_type": "code",
   "execution_count": 264,
   "id": "8340ebd8",
   "metadata": {},
   "outputs": [],
   "source": [
    "def solve_part2(data: np.array) -> int:\n",
    "    step = 0\n",
    "    while len(np.where(data == 0)[0]) != 100:\n",
    "        step += 1\n",
    "        data, _ = take_step(data)\n",
    "    return step"
   ]
  },
  {
   "cell_type": "code",
   "execution_count": 267,
   "id": "6dff103a",
   "metadata": {},
   "outputs": [],
   "source": [
    "assert solve_part2(example_data) == 195"
   ]
  },
  {
   "cell_type": "code",
   "execution_count": 270,
   "id": "60b9075a",
   "metadata": {},
   "outputs": [
    {
     "data": {
      "text/plain": [
       "354"
      ]
     },
     "execution_count": 270,
     "metadata": {},
     "output_type": "execute_result"
    }
   ],
   "source": [
    "solutionb = solve_part2(data)\n",
    "solutionb"
   ]
  },
  {
   "cell_type": "code",
   "execution_count": 271,
   "id": "de5b6f31",
   "metadata": {},
   "outputs": [
    {
     "name": "stdout",
     "output_type": "stream",
     "text": [
      "\u001b[32mThat's the right answer!  You are one gold star closer to finding the sleigh keys.You have completed Day 11! You can [Shareon\n",
      "  Twitter\n",
      "Mastodon] this victory or [Return to Your Advent Calendar].\u001b[0m\n"
     ]
    }
   ],
   "source": [
    "puzzle.answer_b = solutionb"
   ]
  },
  {
   "cell_type": "markdown",
   "id": "d5ac4d95",
   "metadata": {},
   "source": [
    "## Day 12"
   ]
  },
  {
   "cell_type": "code",
   "execution_count": 275,
   "id": "51eaa9ea",
   "metadata": {},
   "outputs": [],
   "source": [
    "import numpy as np\n",
    "from aocd.models import Puzzle\n",
    "from collections import defaultdict\n",
    "puzzle = Puzzle(year=2021, day=12)"
   ]
  },
  {
   "cell_type": "code",
   "execution_count": 339,
   "id": "d591984c",
   "metadata": {},
   "outputs": [],
   "source": [
    "data = puzzle.input_data.split()"
   ]
  },
  {
   "cell_type": "code",
   "execution_count": 356,
   "id": "0b517b63",
   "metadata": {},
   "outputs": [],
   "source": [
    "example_data = [line.strip() for line in open('day12.example3.input').readlines()]"
   ]
  },
  {
   "cell_type": "code",
   "execution_count": 350,
   "id": "4dcee26a",
   "metadata": {},
   "outputs": [],
   "source": [
    "def create_map(paths: list) -> dict:\n",
    "    cave_map = defaultdict(list)\n",
    "    for path in paths:\n",
    "        a, b = path.split(\"-\")\n",
    "        cave_map[a].append(b)\n",
    "        cave_map[b].append(a)\n",
    "    return cave_map\n",
    "\n",
    "def find_paths(cave_map: dict, paths: list) -> list:\n",
    "    for path in paths.copy():\n",
    "        if path[-1] == \"end\":\n",
    "            continue\n",
    "        paths.remove(path)\n",
    "        options = cave_map[path[-1]]\n",
    "        for option in options:\n",
    "            if option.isupper():\n",
    "                sub = path.copy()\n",
    "                paths.append(sub + [option])\n",
    "            elif option not in path and option != \"start\":\n",
    "                sub = path.copy()\n",
    "                paths.append(sub + [option])\n",
    "    return paths\n",
    "\n",
    "def solve_part1(data: list) -> int:\n",
    "    mp = create_map(data)\n",
    "    num_paths = 0\n",
    "    paths = [[\"start\"]]\n",
    "    while len(paths) != num_paths:\n",
    "        num_paths = len(paths)\n",
    "        paths = find_paths(mp, paths)\n",
    "    return len(paths)"
   ]
  },
  {
   "cell_type": "code",
   "execution_count": 357,
   "id": "390483ff",
   "metadata": {},
   "outputs": [],
   "source": [
    "assert solve_part1(example_data) == 226"
   ]
  },
  {
   "cell_type": "code",
   "execution_count": 352,
   "id": "b7d56e4b",
   "metadata": {},
   "outputs": [
    {
     "data": {
      "text/plain": [
       "5228"
      ]
     },
     "execution_count": 352,
     "metadata": {},
     "output_type": "execute_result"
    }
   ],
   "source": [
    "solutiona = solve_part1(data)\n",
    "solutiona"
   ]
  },
  {
   "cell_type": "code",
   "execution_count": 353,
   "id": "69542515",
   "metadata": {},
   "outputs": [
    {
     "name": "stdout",
     "output_type": "stream",
     "text": [
      "\u001b[32mThat's the right answer!  You are one gold star closer to finding the sleigh keys. [Continue to Part Two]\u001b[0m\n"
     ]
    }
   ],
   "source": [
    "puzzle.answer_a = solutiona"
   ]
  },
  {
   "cell_type": "code",
   "execution_count": 364,
   "id": "fa4e1320",
   "metadata": {},
   "outputs": [],
   "source": [
    "from collections import Counter\n",
    "\n",
    "def find_many_paths(cave_map: dict, paths: list) -> list:\n",
    "    for path in paths.copy():\n",
    "        if path[-1] == \"end\":\n",
    "            continue\n",
    "        paths.remove(path)\n",
    "        options = cave_map[path[-1]]\n",
    "        for option in options:\n",
    "            if option == \"start\":\n",
    "                continue\n",
    "            elif option.isupper():\n",
    "                sub = path.copy()\n",
    "                paths.append(sub + [option])\n",
    "            elif option not in path:\n",
    "                sub = path.copy()\n",
    "                paths.append(sub + [option])\n",
    "            else:\n",
    "                c = Counter(path)\n",
    "                if any((k.islower() and v == 2 for k, v in c.items())):\n",
    "                    continue\n",
    "                sub = path.copy()\n",
    "                paths.append(sub + [option])\n",
    "    return paths\n",
    "\n",
    "def solve_part2(data: list) -> int:\n",
    "    mp = create_map(data)\n",
    "    num_paths = 0\n",
    "    paths = [[\"start\"]]\n",
    "    visited_twice = False\n",
    "    while len(paths) != num_paths:\n",
    "        num_paths = len(paths)\n",
    "        paths = find_many_paths(mp, paths)\n",
    "    return len(paths)"
   ]
  },
  {
   "cell_type": "code",
   "execution_count": 366,
   "id": "fe91fabc",
   "metadata": {
    "scrolled": true
   },
   "outputs": [],
   "source": [
    "assert solve_part2([line.strip() for line in open('day12.example1.input').readlines()]) == 36"
   ]
  },
  {
   "cell_type": "code",
   "execution_count": 367,
   "id": "a2c0e39c",
   "metadata": {
    "scrolled": true
   },
   "outputs": [],
   "source": [
    "assert solve_part2([line.strip() for line in open('day12.example2.input').readlines()]) == 103"
   ]
  },
  {
   "cell_type": "code",
   "execution_count": 368,
   "id": "3cb6722f",
   "metadata": {
    "scrolled": true
   },
   "outputs": [],
   "source": [
    "assert solve_part2([line.strip() for line in open('day12.example3.input').readlines()]) == 3509"
   ]
  },
  {
   "cell_type": "code",
   "execution_count": 369,
   "id": "c6170697",
   "metadata": {},
   "outputs": [
    {
     "data": {
      "text/plain": [
       "131228"
      ]
     },
     "execution_count": 369,
     "metadata": {},
     "output_type": "execute_result"
    }
   ],
   "source": [
    "solutionb = solve_part2(data)\n",
    "solutionb"
   ]
  },
  {
   "cell_type": "code",
   "execution_count": 370,
   "id": "ef0b87db",
   "metadata": {},
   "outputs": [
    {
     "name": "stdout",
     "output_type": "stream",
     "text": [
      "\u001b[32mThat's the right answer!  You are one gold star closer to finding the sleigh keys.You have completed Day 12! You can [Shareon\n",
      "  Twitter\n",
      "Mastodon] this victory or [Return to Your Advent Calendar].\u001b[0m\n"
     ]
    }
   ],
   "source": [
    "puzzle.answer_b = solutionb"
   ]
  },
  {
   "cell_type": "markdown",
   "id": "635d59dd",
   "metadata": {},
   "source": [
    "## Day 13"
   ]
  },
  {
   "cell_type": "code",
   "execution_count": 58,
   "id": "b7bfab01",
   "metadata": {},
   "outputs": [],
   "source": [
    "import numpy as np\n",
    "from aocd.models import Puzzle\n",
    "puzzle = Puzzle(year=2021, day=13)\n",
    "data = puzzle.input_data.split(\"\\n\")"
   ]
  },
  {
   "cell_type": "code",
   "execution_count": 63,
   "id": "fbaa7ba9",
   "metadata": {},
   "outputs": [],
   "source": [
    "def interpret_data(data: list):\n",
    "    xs = []\n",
    "    ys = []\n",
    "    folding_instructions = []\n",
    "    for line in data:\n",
    "        if line and line[0].isdigit():\n",
    "            x, y = line.strip().split(\",\")\n",
    "            xs.append(int(x))\n",
    "            ys.append(int(y))\n",
    "        elif line.startswith('fold'):\n",
    "            instructions = line.strip(\"fold along \").strip().split(\"=\")\n",
    "            folding_instructions.append((instructions[0], int(instructions[1])))\n",
    "    return xs, ys, folding_instructions"
   ]
  },
  {
   "cell_type": "code",
   "execution_count": 18,
   "id": "ef093b34",
   "metadata": {},
   "outputs": [],
   "source": [
    "example_data = open('day13.example.input').readlines()"
   ]
  },
  {
   "cell_type": "code",
   "execution_count": 110,
   "id": "a3a9d962",
   "metadata": {},
   "outputs": [],
   "source": [
    "def solve(data: list, part1: bool = True):\n",
    "    xs, ys, instructions = interpret_data(data)\n",
    "    mp = np.zeros((max(xs)+1, max(ys)+1))\n",
    "    mp[xs, ys] = 1\n",
    "    for instruction in instructions:\n",
    "        if instruction[0] == 'y':\n",
    "            nwa = mp[:, :instruction[1]]\n",
    "            nwb = np.fliplr(mp[:, instruction[1]+1:])\n",
    "            if nwa.shape[1] == nwb.shape[1]:\n",
    "                mp = nwa + nwb\n",
    "            elif nwa.shape[1] > nwb.shape[1]:\n",
    "                mp = nwa\n",
    "                mp[:, -nwb.shape[1]:] += nwb\n",
    "            elif nwa.shape[1] < nwb.shape[1]:\n",
    "                mp = nwb\n",
    "                mp[:, -nwa.shape[1]:] += nwa\n",
    "        elif instruction[0] == 'x':\n",
    "            nwa = mp[:instruction[1], :]\n",
    "            nwb = np.flipud(mp[instruction[1]+1:, :])\n",
    "            if nwa.shape[0] == nwb.shape[0]:\n",
    "                mp = nwa + nwb\n",
    "            elif nwa.shape[0] > nwb.shape[0]:\n",
    "                mp = nwa\n",
    "                mp[-nwb.shape[0]:, :] += nwb\n",
    "            elif nwa.shape[0] < nwb.shape[0]:\n",
    "                mp = nwb\n",
    "                mp[-nwa.shape[0]:, :] += nwa\n",
    "        if part1:\n",
    "            return len(np.where(mp > 0)[0])\n",
    "    return mp"
   ]
  },
  {
   "cell_type": "code",
   "execution_count": 112,
   "id": "28d947b5",
   "metadata": {},
   "outputs": [],
   "source": [
    "assert solve(example_data) == 17"
   ]
  },
  {
   "cell_type": "code",
   "execution_count": 96,
   "id": "02bcf28f",
   "metadata": {},
   "outputs": [
    {
     "data": {
      "text/plain": [
       "810"
      ]
     },
     "execution_count": 96,
     "metadata": {},
     "output_type": "execute_result"
    }
   ],
   "source": [
    "solutiona = solve(data)\n",
    "solutiona"
   ]
  },
  {
   "cell_type": "code",
   "execution_count": 91,
   "id": "8a823ffb",
   "metadata": {},
   "outputs": [
    {
     "name": "stdout",
     "output_type": "stream",
     "text": [
      "\u001b[32mThat's the right answer!  You are one gold star closer to finding the sleigh keys. [Continue to Part Two]\u001b[0m\n"
     ]
    }
   ],
   "source": [
    "puzzle.answer_a = solutiona"
   ]
  },
  {
   "cell_type": "code",
   "execution_count": 118,
   "id": "9c99d19b",
   "metadata": {
    "scrolled": true
   },
   "outputs": [
    {
     "name": "stdout",
     "output_type": "stream",
     "text": [
      "#..#.#....###..#..#.###...##..####.###..\n",
      "#..#.#....#..#.#..#.#..#.#..#.#....#..#.\n",
      "####.#....###..#..#.###..#....###..#..#.\n",
      "#..#.#....#..#.#..#.#..#.#.##.#....###..\n",
      "#..#.#....#..#.#..#.#..#.#..#.#....#.#..\n",
      "#..#.####.###...##..###...###.#....#..#.\n"
     ]
    }
   ],
   "source": [
    "for row in np.transpose(solve(data, False)):\n",
    "    string = ''\n",
    "    for i in row:\n",
    "        if i == 0:\n",
    "            string += '.'\n",
    "        else:\n",
    "            string += '#'\n",
    "    print(string)"
   ]
  },
  {
   "cell_type": "code",
   "execution_count": 120,
   "id": "4b7e7179",
   "metadata": {},
   "outputs": [],
   "source": [
    "solutionb = \"HLBUBGFR\""
   ]
  },
  {
   "cell_type": "code",
   "execution_count": 121,
   "id": "2e663951",
   "metadata": {},
   "outputs": [
    {
     "name": "stdout",
     "output_type": "stream",
     "text": [
      "\u001b[32mThat's the right answer!  You are one gold star closer to finding the sleigh keys.You have completed Day 13! You can [Shareon\n",
      "  Twitter\n",
      "Mastodon] this victory or [Return to Your Advent Calendar].\u001b[0m\n"
     ]
    }
   ],
   "source": [
    "puzzle.answer_b = solutionb"
   ]
  },
  {
   "cell_type": "markdown",
   "id": "505a132d",
   "metadata": {},
   "source": [
    "## Day 14"
   ]
  },
  {
   "cell_type": "code",
   "execution_count": 76,
   "id": "700f4fa3",
   "metadata": {},
   "outputs": [],
   "source": [
    "from aocd.models import Puzzle\n",
    "from collections import Counter, defaultdict\n",
    "puzzle = Puzzle(year=2021, day=14)\n",
    "data = puzzle.input_data.split(\"\\n\")"
   ]
  },
  {
   "cell_type": "code",
   "execution_count": 4,
   "id": "01f33319",
   "metadata": {},
   "outputs": [],
   "source": [
    "example_data = [line.strip() for line in open('day14.example.input').readlines()]"
   ]
  },
  {
   "cell_type": "code",
   "execution_count": 5,
   "id": "d042e18c",
   "metadata": {},
   "outputs": [],
   "source": [
    "def interpret_data(data: list) -> tuple:\n",
    "    template = data[0]\n",
    "    rules = {}\n",
    "    for line in data[2:]:\n",
    "        rule = line.split(' -> ')\n",
    "        rules[rule[0]] = rule[1]\n",
    "    return template, rules"
   ]
  },
  {
   "cell_type": "code",
   "execution_count": 155,
   "id": "9f6178cc",
   "metadata": {},
   "outputs": [],
   "source": [
    "def step(template: str, rules: dict) -> str:\n",
    "    blocks = []\n",
    "    for i in range(len(template)-1):\n",
    "        pair = template[i:i+2]\n",
    "        blocks.append(pair[0] + rules[pair] + pair[1])\n",
    "    template = blocks[0]\n",
    "    return template + ''.join([b[1:] for b in blocks[1:]])\n",
    "    \n",
    "def solve_part1(data: list, steps: int = 10) -> int:\n",
    "    template, rules = interpret_data(data)\n",
    "    for s in range(steps):\n",
    "        t = defaultdict(lambda: 0)\n",
    "        template = step(template, rules)\n",
    "    c = Counter(template).values()\n",
    "    return max(c) - min(c)\n",
    "\n",
    "def solve_part2(data: list, steps: int = 40) -> int:\n",
    "    template, rules = interpret_data(data)\n",
    "    occurence_rules = defaultdict(list)\n",
    "    t = defaultdict(lambda: 0)\n",
    "\n",
    "    for k, v in rules.items():\n",
    "        occurence_rules[k[0]+v].append(k)\n",
    "        occurence_rules[v+k[1]].append(k)\n",
    "\n",
    "    for i in range(len(template)-1):\n",
    "        t[template[i:i+2]] += 1\n",
    "\n",
    "    for s in range(steps):\n",
    "        o = defaultdict(lambda: 0)\n",
    "        for k, v in occurence_rules.items():\n",
    "            o[k] = sum([t[i] for i in v])\n",
    "        t = o\n",
    "    \n",
    "    char_count = defaultdict(lambda: 0)\n",
    "    for k, v in t.items():\n",
    "        for c in k:\n",
    "            char_count[c] += v\n",
    "    char_count[template[0]] -= 1\n",
    "    char_count[template[-1]] -= 1\n",
    "    char_count = {k: int(v/2) for k, v in char_count.items()}\n",
    "    char_count[template[0]] += 1\n",
    "    char_count[template[-1]] += 1\n",
    " \n",
    "    c = Counter(char_count).values()\n",
    "    return max(c) - min(c)"
   ]
  },
  {
   "cell_type": "code",
   "execution_count": 156,
   "id": "71cd70b4",
   "metadata": {},
   "outputs": [],
   "source": [
    "assert solve_part1(example_data, 10) == 1588"
   ]
  },
  {
   "cell_type": "code",
   "execution_count": 13,
   "id": "de2494b8",
   "metadata": {},
   "outputs": [
    {
     "data": {
      "text/plain": [
       "2375"
      ]
     },
     "execution_count": 13,
     "metadata": {},
     "output_type": "execute_result"
    }
   ],
   "source": [
    "solutiona = solve(data)\n",
    "solutiona"
   ]
  },
  {
   "cell_type": "code",
   "execution_count": 34,
   "id": "bb9429e0",
   "metadata": {},
   "outputs": [
    {
     "name": "stdout",
     "output_type": "stream",
     "text": [
      "\u001b[32mThat's the right answer!  You are one gold star closer to finding the sleigh keys. [Continue to Part Two]\u001b[0m\n"
     ]
    }
   ],
   "source": [
    "puzzle.answer_a = solutiona"
   ]
  },
  {
   "cell_type": "code",
   "execution_count": 157,
   "id": "fc6d4acd",
   "metadata": {},
   "outputs": [],
   "source": [
    "assert solve_part2(example_data) == 2188189693529"
   ]
  },
  {
   "cell_type": "code",
   "execution_count": 158,
   "id": "adbc5fe6",
   "metadata": {},
   "outputs": [
    {
     "data": {
      "text/plain": [
       "1976896901756"
      ]
     },
     "execution_count": 158,
     "metadata": {},
     "output_type": "execute_result"
    }
   ],
   "source": [
    "solutionb = solve_part2(data)\n",
    "solutionb"
   ]
  },
  {
   "cell_type": "code",
   "execution_count": 159,
   "id": "9d0058a9",
   "metadata": {},
   "outputs": [
    {
     "name": "stdout",
     "output_type": "stream",
     "text": [
      "\u001b[32mThat's the right answer!  You are one gold star closer to finding the sleigh keys.You have completed Day 14! You can [Shareon\n",
      "  Twitter\n",
      "Mastodon] this victory or [Return to Your Advent Calendar].\u001b[0m\n"
     ]
    }
   ],
   "source": [
    "puzzle.answer_b = solutionb"
   ]
  },
  {
   "cell_type": "markdown",
   "id": "bce577f3",
   "metadata": {},
   "source": [
    "## Day 15"
   ]
  },
  {
   "cell_type": "code",
   "execution_count": 1,
   "id": "1d469b49",
   "metadata": {},
   "outputs": [],
   "source": [
    "from aocd.models import Puzzle\n",
    "import numpy as np\n",
    "puzzle = Puzzle(year=2021, day=15)\n",
    "data = puzzle.input_data.split(\"\\n\")"
   ]
  },
  {
   "cell_type": "code",
   "execution_count": 2,
   "id": "e99dc0e2",
   "metadata": {},
   "outputs": [],
   "source": [
    "example_data = [line.strip() for line in open('day15.example.input').readlines()]"
   ]
  },
  {
   "cell_type": "code",
   "execution_count": 3,
   "id": "255d06c1",
   "metadata": {},
   "outputs": [],
   "source": [
    "def convert_to_array(data: list) -> np.array:\n",
    "    data = [[int(d) for d in line] for line in data]\n",
    "    return np.array(data)\n",
    "\n",
    "def min_cost(cost):\n",
    "    tc = np.zeros(cost.shape)\n",
    "    x, y = cost.shape\n",
    "    \n",
    "    for i in range(1, x):\n",
    "        tc[i][0] = tc[i-1][0] + cost[i][0]\n",
    "  \n",
    "    for j in range(1, y):\n",
    "        tc[0][j] = tc[0][j-1] + cost[0][j]\n",
    "  \n",
    "    for i in range(1, y):\n",
    "        for j in range(1, x):\n",
    "            tc[i][j] = min(tc[i-1][j], tc[i][j-1]) + cost[i][j]\n",
    "  \n",
    "    for i in range(10):\n",
    "        tc2 = tc.copy()\n",
    "\n",
    "        for i in range(1, y):\n",
    "            for j in range(1, x):\n",
    "                tc2[i][j] = min(tc2[i-1][j], tc2[i][j-1], tc2[min(i+1, y-1)][j], tc2[i][min(j+1, x-1)]) + cost[i][j]\n",
    "\n",
    "        if int(tc2[-1][-1]) >= int(tc[-1][-1]):\n",
    "            return int(tc2[-1][-1])\n",
    "    \n",
    "        tc = tc2\n",
    "\n",
    "def solve_part1(data):\n",
    "    cost = convert_to_array(data)\n",
    "    return min_cost(cost)"
   ]
  },
  {
   "cell_type": "code",
   "execution_count": 93,
   "id": "b47e99e2",
   "metadata": {},
   "outputs": [],
   "source": [
    "assert solve_part1(example_data) == 40"
   ]
  },
  {
   "cell_type": "code",
   "execution_count": 94,
   "id": "22168a7d",
   "metadata": {},
   "outputs": [
    {
     "data": {
      "text/plain": [
       "811"
      ]
     },
     "execution_count": 94,
     "metadata": {},
     "output_type": "execute_result"
    }
   ],
   "source": [
    "solutiona = solve_part1(data)\n",
    "solutiona"
   ]
  },
  {
   "cell_type": "code",
   "execution_count": 32,
   "id": "f495a2c2",
   "metadata": {},
   "outputs": [
    {
     "name": "stdout",
     "output_type": "stream",
     "text": [
      "\u001b[32mThat's the right answer!  You are one gold star closer to finding the sleigh keys. [Continue to Part Two]\u001b[0m\n"
     ]
    }
   ],
   "source": [
    "puzzle.answer_a = solutiona"
   ]
  },
  {
   "cell_type": "code",
   "execution_count": 4,
   "id": "53ce3ce3",
   "metadata": {},
   "outputs": [],
   "source": [
    "def solve_part2(data):\n",
    "    cost = convert_to_array(data)\n",
    "    extended = cost\n",
    "    extension = cost\n",
    "    for i in range(4):\n",
    "        extension = extension + 1\n",
    "        extension[np.where(extension > 9)] = 1\n",
    "        extended = np.concatenate((extended, extension), axis=1)\n",
    "    extension = extended\n",
    "    for i in range(4):\n",
    "        extension = extension + 1\n",
    "        extension[np.where(extension > 9)] = 1\n",
    "        extended = np.concatenate((extended, extension), axis=0)\n",
    "    return min_cost(extended)"
   ]
  },
  {
   "cell_type": "code",
   "execution_count": 5,
   "id": "76fb6e9b",
   "metadata": {},
   "outputs": [],
   "source": [
    "assert solve_part2(example_data) == 315"
   ]
  },
  {
   "cell_type": "code",
   "execution_count": 6,
   "id": "db8e8464",
   "metadata": {},
   "outputs": [
    {
     "data": {
      "text/plain": [
       "3012"
      ]
     },
     "execution_count": 6,
     "metadata": {},
     "output_type": "execute_result"
    }
   ],
   "source": [
    "solutionb = solve_part2(data)\n",
    "solutionb"
   ]
  },
  {
   "cell_type": "code",
   "execution_count": 91,
   "id": "ecbed266",
   "metadata": {},
   "outputs": [
    {
     "name": "stdout",
     "output_type": "stream",
     "text": [
      "\u001b[32mThat's the right answer!  You are one gold star closer to finding the sleigh keys.You have completed Day 15! You can [Shareon\n",
      "  Twitter\n",
      "Mastodon] this victory or [Return to Your Advent Calendar].\u001b[0m\n"
     ]
    }
   ],
   "source": [
    "puzzle.answer_b = solutionb"
   ]
  },
  {
   "cell_type": "markdown",
   "id": "3187efe2",
   "metadata": {},
   "source": [
    "## Day 16"
   ]
  },
  {
   "cell_type": "code",
   "execution_count": 87,
   "id": "a7301634",
   "metadata": {},
   "outputs": [],
   "source": [
    "from aocd.models import Puzzle\n",
    "import numpy as np\n",
    "puzzle = Puzzle(year=2021, day=16)\n",
    "data = puzzle.input_data"
   ]
  },
  {
   "cell_type": "code",
   "execution_count": 12,
   "id": "ed48d273",
   "metadata": {},
   "outputs": [],
   "source": [
    "def hex2bin(hexa: str) -> str:\n",
    "    return ''.join([bin(int(h, 16))[2:].zfill(4) for h in hexa])"
   ]
  },
  {
   "cell_type": "code",
   "execution_count": 75,
   "id": "626b97c6",
   "metadata": {},
   "outputs": [],
   "source": [
    "def chunks(lst, n):\n",
    "    for i in range(0, len(lst), n):\n",
    "        yield lst[i : i + n]\n",
    "\n",
    "def read_literal_packet(signal) -> tuple:\n",
    "    packet = {\"version\": int(signal[:3], 2), \"type_id\": int(signal[3:6], 2), \"full_signal_length\": 6}\n",
    "    value = ''\n",
    "    for group in chunks(signal[6:], 5):\n",
    "        value += group[1:]\n",
    "        packet[\"full_signal_length\"] += 5\n",
    "        if group [0] == \"0\":\n",
    "            packet[\"literal\"] = int(value, 2)\n",
    "            return signal[packet[\"full_signal_length\"]:], packet\n",
    "\n",
    "def read_operator_packet(binary):\n",
    "    packet = {\"version\": int(binary[:3], 2), \"type_id\": int(binary[3:6], 2), \"length_type_id\": binary[6], \"subpackets\": []}\n",
    "    if packet[\"length_type_id\"] == \"0\":\n",
    "        packet_bit_length = int(binary[7:22], 2)\n",
    "        subpackets = binary[22:22+packet_bit_length]\n",
    "        while len(subpackets) != 0:\n",
    "            subpackets, p = decode_hex(subpackets)\n",
    "            packet[\"subpackets\"].append(p)\n",
    "        return binary[22+packet_bit_length: ], packet\n",
    "    elif packet[\"length_type_id\"] == \"1\":\n",
    "        packet_numbers = int(binary[7:18], 2)\n",
    "        binary = binary[18:]\n",
    "        while len(packet[\"subpackets\"]) < packet_numbers:\n",
    "            binary, p = decode_hex(binary)\n",
    "            packet[\"subpackets\"].append(p)\n",
    "        return binary, packet\n",
    "    \n",
    "def decode_hex(binary: str):\n",
    "    version = int(binary[:3], 2)\n",
    "    type_id = int(binary[3:6], 2)\n",
    "    if type_id == 4:\n",
    "        return read_literal_packet(binary)    \n",
    "    return read_operator_packet(binary)\n",
    "\n",
    "def get_versions(packets, versions):\n",
    "    versions.append(packets[\"version\"])\n",
    "    for packet in packets.get(\"subpackets\", []):\n",
    "        versions = get_versions(packet, versions)\n",
    "    return versions\n",
    "\n",
    "def solve_part1(signal: str):\n",
    "    binary = hex2bin(signal)\n",
    "    remaining, decoded = decode_hex(binary)\n",
    "    return sum(get_versions(decoded, []))"
   ]
  },
  {
   "cell_type": "code",
   "execution_count": 81,
   "id": "96e241f6",
   "metadata": {},
   "outputs": [],
   "source": [
    "assert solve_part1(\"8A004A801A8002F478\") == 16\n",
    "assert solve_part1(\"620080001611562C8802118E34\") == 12\n",
    "assert solve_part1(\"C0015000016115A2E0802F182340\") == 23\n",
    "assert solve_part1(\"A0016C880162017C3686B18A3D4780\") == 31"
   ]
  },
  {
   "cell_type": "code",
   "execution_count": 85,
   "id": "ee1a2e76",
   "metadata": {},
   "outputs": [
    {
     "data": {
      "text/plain": [
       "908"
      ]
     },
     "execution_count": 85,
     "metadata": {},
     "output_type": "execute_result"
    }
   ],
   "source": [
    "solutiona = solve_part1(data)\n",
    "solutiona"
   ]
  },
  {
   "cell_type": "code",
   "execution_count": 86,
   "id": "5af1f333",
   "metadata": {},
   "outputs": [
    {
     "name": "stdout",
     "output_type": "stream",
     "text": [
      "\u001b[32mThat's the right answer!  You are one gold star closer to finding the sleigh keys. [Continue to Part Two]\u001b[0m\n"
     ]
    }
   ],
   "source": [
    "puzzle.answer_a = solutiona"
   ]
  },
  {
   "cell_type": "code",
   "execution_count": 97,
   "id": "09b8451e",
   "metadata": {},
   "outputs": [],
   "source": [
    "def calculate_value(packet):\n",
    "    if packet[\"type_id\"] == 4:\n",
    "        return packet[\"literal\"]\n",
    "    elif packet[\"type_id\"] == 0:\n",
    "        return sum([calculate_value(p) for p in packet.get(\"subpackets\", [])])\n",
    "    elif packet[\"type_id\"] == 1:\n",
    "        return np.product([calculate_value(p) for p in packet.get(\"subpackets\", [])])\n",
    "    elif packet[\"type_id\"] == 2:\n",
    "        return min([calculate_value(p) for p in packet.get(\"subpackets\", [])])\n",
    "    elif packet[\"type_id\"] == 3:\n",
    "        return max([calculate_value(p) for p in packet.get(\"subpackets\", [])])\n",
    "    elif packet[\"type_id\"] == 5:\n",
    "        return int(calculate_value(packet[\"subpackets\"][0]) > calculate_value(packet[\"subpackets\"][1]))\n",
    "    elif packet[\"type_id\"] == 6:\n",
    "        return int(calculate_value(packet[\"subpackets\"][0]) < calculate_value(packet[\"subpackets\"][1]))\n",
    "    elif packet[\"type_id\"] == 7:\n",
    "        return int(calculate_value(packet[\"subpackets\"][0]) == calculate_value(packet[\"subpackets\"][1]))\n",
    "        \n",
    "\n",
    "def solve_part2(signal: str):\n",
    "    binary = hex2bin(signal)\n",
    "    remaining, decoded = decode_hex(binary)\n",
    "    return calculate_value(decoded)"
   ]
  },
  {
   "cell_type": "code",
   "execution_count": 98,
   "id": "36885162",
   "metadata": {},
   "outputs": [],
   "source": [
    "assert solve_part2(\"C200B40A82\") == 3\n",
    "assert solve_part2(\"04005AC33890\") == 54\n",
    "assert solve_part2(\"880086C3E88112\") == 7\n",
    "assert solve_part2(\"CE00C43D881120\") == 9\n",
    "assert solve_part2(\"D8005AC2A8F0\") == 1\n",
    "assert solve_part2(\"F600BC2D8F\") == 0\n",
    "assert solve_part2(\"9C005AC2F8F0\") == 0\n",
    "assert solve_part2(\"9C0141080250320F1802104A08\") == 1"
   ]
  },
  {
   "cell_type": "code",
   "execution_count": 99,
   "id": "3d62d169",
   "metadata": {},
   "outputs": [
    {
     "data": {
      "text/plain": [
       "10626195124371"
      ]
     },
     "execution_count": 99,
     "metadata": {},
     "output_type": "execute_result"
    }
   ],
   "source": [
    "solutionb = solve_part2(data)\n",
    "solutionb"
   ]
  },
  {
   "cell_type": "code",
   "execution_count": 100,
   "id": "d7943386",
   "metadata": {},
   "outputs": [
    {
     "name": "stdout",
     "output_type": "stream",
     "text": [
      "\u001b[32mThat's the right answer!  You are one gold star closer to finding the sleigh keys.You have completed Day 16! You can [Shareon\n",
      "  Twitter\n",
      "Mastodon] this victory or [Return to Your Advent Calendar].\u001b[0m\n"
     ]
    }
   ],
   "source": [
    "puzzle.answer_b = solutionb"
   ]
  },
  {
   "cell_type": "markdown",
   "id": "be2a91b5",
   "metadata": {},
   "source": [
    "## Day 17"
   ]
  },
  {
   "cell_type": "code",
   "execution_count": 3,
   "id": "9e782516",
   "metadata": {},
   "outputs": [],
   "source": [
    "from aocd.models import Puzzle\n",
    "puzzle = Puzzle(year=2021, day=17)\n",
    "data = puzzle.input_data\n",
    "import re"
   ]
  },
  {
   "cell_type": "code",
   "execution_count": 2,
   "id": "d821e936",
   "metadata": {},
   "outputs": [
    {
     "data": {
      "text/plain": [
       "'target area: x=287..309, y=-76..-48'"
      ]
     },
     "execution_count": 2,
     "metadata": {},
     "output_type": "execute_result"
    }
   ],
   "source": [
    "data"
   ]
  },
  {
   "cell_type": "code",
   "execution_count": 140,
   "id": "5f934269",
   "metadata": {},
   "outputs": [],
   "source": [
    "def read_data(data: str) -> tuple:\n",
    "    match = re.match(r'target area: x=(?P<xmin>\\d+)..(?P<xmax>\\d+), y=(?P<ymax>-?\\d+)..(?P<ymin>-?\\d+)', data)\n",
    "    return {k: int(v) for k, v in match.groupdict().items()}\n",
    "\n",
    "def step(position: tuple, velocity: tuple) -> tuple:\n",
    "    x, y = position\n",
    "    vx, vy = velocity\n",
    "    x += vx\n",
    "    y += vy\n",
    "    vy -= 1\n",
    "    if vx > 0:\n",
    "        vx -= 1\n",
    "    elif vx < 0:\n",
    "        vx += 1\n",
    "    return (x, y), (vx, vy)\n",
    "\n",
    "def walk(target, position, velocity, ymax):\n",
    "    position, velocity = step(position, velocity)\n",
    "    ymax = max(ymax, position[1])\n",
    "\n",
    "    if position[0] > target[\"xmax\"] and position[1] > target[\"ymin\"]:\n",
    "        return ymax, \"over\"\n",
    "    elif position[0] < target[\"xmin\"] and position[1] < target[\"ymax\"]:\n",
    "        return ymax, \"under\"\n",
    "    elif position[0] > target[\"xmax\"] or position[1] < target[\"ymax\"]:\n",
    "        return ymax, \"other\"\n",
    "    if (\n",
    "        position[0] >= target[\"xmin\"] and \n",
    "        position[0] <= target[\"xmax\"] and\n",
    "        position[1] <= target[\"ymin\"] and\n",
    "        position[1] >= target[\"ymax\"]\n",
    "    ):\n",
    "        return ymax, \"hit\"   \n",
    "    return walk(target, position, velocity, ymax)\n",
    "\n",
    "def solve(data):\n",
    "    target = read_data(data)\n",
    "    position = (0, 0)\n",
    "    winner = 0\n",
    "    hits = {}\n",
    "    for vx in range(100):\n",
    "        for vy in range(100):\n",
    "            ymax, hit = walk(target, position, (vx, vy), 0)\n",
    "            if hit == \"hit\":\n",
    "                if ymax > winner:\n",
    "                    winner_velocity = (vx, vy)\n",
    "                winner = max(winner, ymax)\n",
    "                \n",
    "    print(winner_velocity)\n",
    "    return winner\n",
    "\n",
    "\n",
    "def solve2(data):\n",
    "    target = read_data(data)\n",
    "    position = (0, 0)\n",
    "    winner = 0\n",
    "    hits = 0\n",
    "    for vx in range(1000):\n",
    "        for vy in range(-1000, 1000):\n",
    "            ymax, hit = walk(target, position, (vx, vy), 0)\n",
    "            if hit == \"hit\":\n",
    "                hits += 1\n",
    "    return hits\n"
   ]
  },
  {
   "cell_type": "code",
   "execution_count": 134,
   "id": "71bb3d2f",
   "metadata": {},
   "outputs": [
    {
     "name": "stdout",
     "output_type": "stream",
     "text": [
      "(6, 9)\n"
     ]
    }
   ],
   "source": [
    "assert solve('target area: x=20..30, y=-10..-5') == 45"
   ]
  },
  {
   "cell_type": "code",
   "execution_count": 132,
   "id": "beda49f4",
   "metadata": {},
   "outputs": [
    {
     "name": "stdout",
     "output_type": "stream",
     "text": [
      "(24, 75)\n"
     ]
    },
    {
     "data": {
      "text/plain": [
       "2850"
      ]
     },
     "execution_count": 132,
     "metadata": {},
     "output_type": "execute_result"
    }
   ],
   "source": [
    "solutiona = solve(data)\n",
    "solutiona"
   ]
  },
  {
   "cell_type": "code",
   "execution_count": 133,
   "id": "2deec8b0",
   "metadata": {},
   "outputs": [
    {
     "name": "stdout",
     "output_type": "stream",
     "text": [
      "\u001b[32mThat's the right answer!  You are one gold star closer to finding the sleigh keys. [Continue to Part Two]\u001b[0m\n"
     ]
    }
   ],
   "source": [
    "puzzle.answer_a = solutiona"
   ]
  },
  {
   "cell_type": "code",
   "execution_count": 141,
   "id": "2d417aae",
   "metadata": {},
   "outputs": [],
   "source": [
    "assert solve2('target area: x=20..30, y=-10..-5') == 112"
   ]
  },
  {
   "cell_type": "code",
   "execution_count": 142,
   "id": "65d3ad09",
   "metadata": {},
   "outputs": [
    {
     "data": {
      "text/plain": [
       "1117"
      ]
     },
     "execution_count": 142,
     "metadata": {},
     "output_type": "execute_result"
    }
   ],
   "source": [
    "solutionb = solve2(data)\n",
    "solutionb"
   ]
  },
  {
   "cell_type": "code",
   "execution_count": 143,
   "id": "e8779090",
   "metadata": {},
   "outputs": [
    {
     "name": "stdout",
     "output_type": "stream",
     "text": [
      "\u001b[32mThat's the right answer!  You are one gold star closer to finding the sleigh keys.You have completed Day 17! You can [Shareon\n",
      "  Twitter\n",
      "Mastodon] this victory or [Return to Your Advent Calendar].\u001b[0m\n"
     ]
    }
   ],
   "source": [
    "puzzle.answer_b = solutionb"
   ]
  },
  {
   "cell_type": "markdown",
   "id": "8dcf5aa9",
   "metadata": {},
   "source": [
    "## Day 18"
   ]
  },
  {
   "cell_type": "code",
   "execution_count": 522,
   "id": "6412fc16",
   "metadata": {},
   "outputs": [],
   "source": [
    "from aocd.models import Puzzle\n",
    "puzzle = Puzzle(year=2021, day=18)\n",
    "data = puzzle.input_data.split()\n",
    "import math\n",
    "from itertools import combinations"
   ]
  },
  {
   "cell_type": "code",
   "execution_count": 487,
   "id": "6c5e6704",
   "metadata": {},
   "outputs": [],
   "source": [
    "def read_number(number: str):\n",
    "    \"\"\"Read a Snailfish number (provided as sting) and return a map containing \n",
    "    all digits and their depth in the nested structure\"\"\"\n",
    "    depth = 0\n",
    "    di = []  # digits\n",
    "    dm = []  # nested depth map\n",
    "    ix = []  # indeces to get to this number\n",
    "    d = ''\n",
    "    for i, char in enumerate(number):\n",
    "        if char == \"[\":\n",
    "            depth += 1\n",
    "        elif char == \"]\":\n",
    "            if d:\n",
    "                di.append(int(d))\n",
    "                dm.append(depth)\n",
    "                ix.append(i-len(d))\n",
    "                d = ''\n",
    "            depth -= 1\n",
    "\n",
    "        elif char.isnumeric():\n",
    "            d += char\n",
    "        elif char == \",\" and d:\n",
    "            di.append(int(d))\n",
    "            dm.append(depth)\n",
    "            ix.append(i-len(d))\n",
    "            d = ''\n",
    "            \n",
    "    return di, dm, ix"
   ]
  },
  {
   "cell_type": "code",
   "execution_count": 494,
   "id": "bd50e3d4",
   "metadata": {},
   "outputs": [],
   "source": [
    "def replace(number, position, replacement):\n",
    "    if isinstance(position, int):\n",
    "        position = (position, position+1)\n",
    "    return number[:position[0]] + replacement + number[position[1]:]\n",
    "\n",
    "def explode(number, debug = False):\n",
    "    di, dm, ix = read_number(number)\n",
    "    if debug:\n",
    "        print(di)\n",
    "        print(dm)\n",
    "    prios = []\n",
    "\n",
    "    needs_exploding = [d > 4 for d in dm]\n",
    "    index = needs_exploding.index(True)\n",
    "    if debug:\n",
    "        print(f\"Exploding index {index}\")\n",
    "    assert dm[index] == dm[index + 1]\n",
    "\n",
    "    if index > 0:\n",
    "        replacement = str(di[index-1] + di[index])\n",
    "        if len(replacement) > 1:\n",
    "            prios.append(\"split\")\n",
    "        number = replace(number, (ix[index-1], ix[index-1]+len(str(di[index-1]))), replacement)\n",
    "        di, dm, ix = read_number(number)\n",
    "\n",
    "    if index < (len(di) - 2):\n",
    "        replacement = str(di[index+2] + di[index+1])\n",
    "        if debug:\n",
    "            print(f\"Replacing right with {replacement}\")\n",
    "        if len(replacement) > 1:\n",
    "            prios.append(\"split\")\n",
    "        number = replace(number, (ix[index+2], ix[index+2]+len(str(di[index+2]))), replacement)\n",
    "        di, dm, ix = read_number(number)\n",
    "\n",
    "    i = ix[index]\n",
    "    number = replace(number, (i-1, i+2+len(str(di[index]))+len(str(di[index+1]))), '0')\n",
    "    if debug:\n",
    "        print(f\"Exploded to: {number}\")\n",
    "    return number, prios\n",
    "    \n",
    "def split(number, debug=False):\n",
    "    di, dm, ix = read_number(number)\n",
    "    needs_splitting = [d > 9 for d in di]\n",
    "    prios = []\n",
    "    \n",
    "    index = needs_splitting.index(True)\n",
    "    number = replace(number, (ix[index], ix[index]+len(str(di[index]))), f\"[{math.floor(di[index]/2)},{math.ceil(di[index]/2)}]\")\n",
    "    if dm[index] >= 4:\n",
    "        prios.append(\"explode\")\n",
    "    if debug:\n",
    "        print(f\"Split to: {number}\")\n",
    "    return number, prios\n",
    "\n",
    "\n",
    "def reduce(number, prios: list, debug = False):\n",
    "    di, dm, ix = read_number(number)\n",
    "\n",
    "    if 5 in dm:\n",
    "        return reduce(*explode(number, debug), debug)\n",
    "\n",
    "    else:\n",
    "        needs_splitting = [d > 9 for d in di]\n",
    "        if any(needs_splitting):\n",
    "            return reduce(*split(number, debug), debug)\n",
    "\n",
    "    return number\n"
   ]
  },
  {
   "cell_type": "code",
   "execution_count": 512,
   "id": "b7b5c48c",
   "metadata": {},
   "outputs": [],
   "source": [
    "def pair_magnitude(pair):\n",
    "    return 3*pair[0] + 2*pair[1]\n",
    "\n",
    "def magnitude(e):\n",
    "    if isinstance(e[0], list):\n",
    "        e[0] = magnitude(e[0])\n",
    "    if isinstance(e[1], list):\n",
    "        e[1] = magnitude(e[1])\n",
    "    return pair_magnitude(e)\n",
    "    \n",
    "\n",
    "def solve(data):\n",
    "    number = data[0]\n",
    "    for line in data[1:]:\n",
    "        number = reduce(f\"[{number},{line}]\", [])\n",
    "    return magnitude(eval(number))"
   ]
  },
  {
   "cell_type": "code",
   "execution_count": 515,
   "id": "01e6a09a",
   "metadata": {},
   "outputs": [],
   "source": [
    "example = [l.strip() for l in open('day18.example.input').readlines()]"
   ]
  },
  {
   "cell_type": "code",
   "execution_count": 516,
   "id": "40176c81",
   "metadata": {
    "scrolled": true
   },
   "outputs": [],
   "source": [
    "assert solve(example) == 4140"
   ]
  },
  {
   "cell_type": "code",
   "execution_count": 520,
   "id": "8ae0b253",
   "metadata": {},
   "outputs": [
    {
     "data": {
      "text/plain": [
       "4116"
      ]
     },
     "execution_count": 520,
     "metadata": {},
     "output_type": "execute_result"
    }
   ],
   "source": [
    "solutiona = solve(data)\n",
    "solutiona"
   ]
  },
  {
   "cell_type": "code",
   "execution_count": 521,
   "id": "7ffd5942",
   "metadata": {},
   "outputs": [
    {
     "name": "stdout",
     "output_type": "stream",
     "text": [
      "\u001b[32mThat's the right answer!  You are one gold star closer to finding the sleigh keys. [Continue to Part Two]\u001b[0m\n"
     ]
    }
   ],
   "source": [
    "puzzle.answer_a = solutiona"
   ]
  },
  {
   "cell_type": "code",
   "execution_count": 527,
   "id": "02ac587e",
   "metadata": {},
   "outputs": [],
   "source": [
    "def solveb(data):\n",
    "    largest = 0\n",
    "    for combination in combinations(data, 2):\n",
    "        mag = magnitude(eval(reduce(f\"[{combination[0]},{combination[1]}]\", [])))\n",
    "        largest = max(largest, mag)\n",
    "    for combination in combinations(data[::-1], 2):\n",
    "        mag = magnitude(eval(reduce(f\"[{combination[0]},{combination[1]}]\", [])))\n",
    "        largest = max(largest, mag)\n",
    "    return largest"
   ]
  },
  {
   "cell_type": "code",
   "execution_count": 528,
   "id": "c9c95db9",
   "metadata": {},
   "outputs": [],
   "source": [
    "assert solveb(example) == 3993"
   ]
  },
  {
   "cell_type": "code",
   "execution_count": 529,
   "id": "239a93dc",
   "metadata": {},
   "outputs": [
    {
     "data": {
      "text/plain": [
       "4638"
      ]
     },
     "execution_count": 529,
     "metadata": {},
     "output_type": "execute_result"
    }
   ],
   "source": [
    "solutionb = solveb(data)\n",
    "solutionb"
   ]
  },
  {
   "cell_type": "code",
   "execution_count": 530,
   "id": "77e6592b",
   "metadata": {},
   "outputs": [
    {
     "name": "stdout",
     "output_type": "stream",
     "text": [
      "\u001b[32mThat's the right answer!  You are one gold star closer to finding the sleigh keys.You have completed Day 18! You can [Shareon\n",
      "  Twitter\n",
      "Mastodon] this victory or [Return to Your Advent Calendar].\u001b[0m\n"
     ]
    }
   ],
   "source": [
    "puzzle.answer_b = solutionb"
   ]
  },
  {
   "cell_type": "markdown",
   "id": "3e52d3b8",
   "metadata": {},
   "source": [
    "## Day 19"
   ]
  },
  {
   "cell_type": "code",
   "execution_count": 821,
   "id": "d76ce7cf",
   "metadata": {},
   "outputs": [],
   "source": [
    "from aocd.models import Puzzle\n",
    "puzzle = Puzzle(year=2021, day=19)\n",
    "data = puzzle.input_data.split(\"\\n\")\n",
    "import re\n",
    "from collections import defaultdict\n",
    "from itertools import combinations\n",
    "import numpy as np"
   ]
  },
  {
   "cell_type": "code",
   "execution_count": 562,
   "id": "1e125170",
   "metadata": {},
   "outputs": [],
   "source": [
    "example = [l.strip() for l in open('day19.example.input').readlines()]"
   ]
  },
  {
   "cell_type": "code",
   "execution_count": 587,
   "id": "353d9976",
   "metadata": {},
   "outputs": [],
   "source": [
    "def read(data: list):\n",
    "    scanners = defaultdict(list)\n",
    "    for row in data:\n",
    "        if row.startswith(\"---\"):\n",
    "            scanner_id = int(re.match(r\"^---\\sscanner\\s(\\d+)\\s---$\", row).groups()[0])\n",
    "        elif row:\n",
    "            scanners[scanner_id].append(np.array(eval(row)))\n",
    "    return scanners"
   ]
  },
  {
   "cell_type": "code",
   "execution_count": 833,
   "id": "f46d453b",
   "metadata": {},
   "outputs": [],
   "source": [
    "def dist(p):\n",
    "    return sum([p[0]**2, p[1]**2, p[2]**2])\n",
    "\n",
    "def calculate_distances(points):\n",
    "    dists = []\n",
    "    for point in points:\n",
    "        distances = [dist(a-point) for a in points]\n",
    "        dists.append(distances)\n",
    "    return dists\n",
    "\n",
    "def match(scannera, scannerb):\n",
    "    distsa = calculate_distances(scannera)\n",
    "    distsb = calculate_distances(scannerb)\n",
    "    for pa, da in zip(scannera, distsa):\n",
    "        for pb, db in zip(scannerb, distsb):\n",
    "            matches = [d in da for d in db]\n",
    "            if sum(matches) > 11:\n",
    "                return pa, da, pb, db\n",
    "\n",
    "def find_transform(scannera, scannerb):\n",
    "    pa, da, pb, db = match(scannera, scannerb)\n",
    "    for i, d in enumerate(db):\n",
    "        if d in da and d != 0:\n",
    "            ai = da.index(d)\n",
    "            pa2 = scannera[ai]\n",
    "            pb2 = scannerb[i]\n",
    "            break\n",
    "    diffa = pa - pa2\n",
    "    diffb = pb - pb2\n",
    "    indices = []\n",
    "    for i in diffa:\n",
    "        indices.append(int(np.where(np.abs(diffb) == abs(i))[0]))\n",
    "    signs = diffa/(diffb[indices])\n",
    "    summations = pa - pb[indices] * signs\n",
    "    transformedb = pb[indices] * signs + summations\n",
    "    return indices, signs, summations\n",
    "\n",
    "def transform(scanner, transformations):\n",
    "    transformed = []\n",
    "    for point in scanner:\n",
    "        for indices, signs, summations in transformations[::-1]:\n",
    "            point = point[indices] * signs + summations\n",
    "        transformed.append(point.astype(int))\n",
    "    return transformed\n",
    "\n",
    "def solve(data):\n",
    "    scanners = read(data)\n",
    "    points = set([tuple(i) for i in scanners[0]])\n",
    "    transforms = {0: []}\n",
    "    while len(transforms) < len(scanners):\n",
    "        for a, b in combinations(scanners.keys(), 2):\n",
    "            if a in transforms and b not in transforms and match(scanners[a], scanners[b]):\n",
    "                transforms[b] = transforms[a] + [find_transform(scanners[a], scanners[b])]\n",
    "            if b in transforms and a not in transforms and match(scanners[b], scanners[a]):\n",
    "                transforms[a] = transforms[b] + [find_transform(scanners[b], scanners[a])]\n",
    "    for i, transformations in transforms.items():\n",
    "        transformed = transform(scanners[i], transformations)\n",
    "        points.update(set([tuple(i) for i in transformed]))\n",
    "    return len(points)"
   ]
  },
  {
   "cell_type": "code",
   "execution_count": 834,
   "id": "243fea5c",
   "metadata": {},
   "outputs": [],
   "source": [
    "assert solve(example) == 79"
   ]
  },
  {
   "cell_type": "code",
   "execution_count": 835,
   "id": "dba13dde",
   "metadata": {},
   "outputs": [
    {
     "data": {
      "text/plain": [
       "512"
      ]
     },
     "execution_count": 835,
     "metadata": {},
     "output_type": "execute_result"
    }
   ],
   "source": [
    "solutiona = solve(data)\n",
    "solutiona"
   ]
  },
  {
   "cell_type": "code",
   "execution_count": 832,
   "id": "90916f1c",
   "metadata": {},
   "outputs": [
    {
     "name": "stdout",
     "output_type": "stream",
     "text": [
      "\u001b[32mThat's the right answer!  You are one gold star closer to finding the sleigh keys. [Continue to Part Two]\u001b[0m\n"
     ]
    }
   ],
   "source": [
    "puzzle.answer_a = solutiona"
   ]
  },
  {
   "cell_type": "code",
   "execution_count": 863,
   "id": "c523d4fc",
   "metadata": {},
   "outputs": [],
   "source": [
    "def solveb(data):\n",
    "    scanners = read(data)\n",
    "    base = np.array([0, 0, 0])\n",
    "    scanner_positions = []\n",
    "    transforms = {0: []}\n",
    "    while len(transforms) < len(scanners):\n",
    "        for a, b in combinations(scanners.keys(), 2):\n",
    "            if a in transforms and b not in transforms and match(scanners[a], scanners[b]):\n",
    "                transforms[b] = transforms[a] + [find_transform(scanners[a], scanners[b])]\n",
    "            if b in transforms and a not in transforms and match(scanners[b], scanners[a]):\n",
    "                transforms[a] = transforms[b] + [find_transform(scanners[b], scanners[a])]\n",
    "    \n",
    "    for i, transformations in transforms.items():\n",
    "        scanner_positions.append(transform([base], transformations)[0])\n",
    "    \n",
    "    max_dist = 0\n",
    "    for c in combinations(scanner_positions, 2):\n",
    "        max_dist = max(max_dist, sum(abs(c[0]-c[1])))\n",
    "    return max_dist"
   ]
  },
  {
   "cell_type": "code",
   "execution_count": 864,
   "id": "3e09abc8",
   "metadata": {},
   "outputs": [],
   "source": [
    "assert solveb(example) == 3621"
   ]
  },
  {
   "cell_type": "code",
   "execution_count": 865,
   "id": "c6bd878b",
   "metadata": {},
   "outputs": [
    {
     "data": {
      "text/plain": [
       "16802"
      ]
     },
     "execution_count": 865,
     "metadata": {},
     "output_type": "execute_result"
    }
   ],
   "source": [
    "solutionb = solveb(data)\n",
    "solutionb"
   ]
  },
  {
   "cell_type": "code",
   "execution_count": 866,
   "id": "97e331e4",
   "metadata": {},
   "outputs": [
    {
     "name": "stdout",
     "output_type": "stream",
     "text": [
      "\u001b[32mThat's the right answer!  You are one gold star closer to finding the sleigh keys.You have completed Day 19! You can [Shareon\n",
      "  Twitter\n",
      "Mastodon] this victory or [Return to Your Advent Calendar].\u001b[0m\n"
     ]
    }
   ],
   "source": [
    "puzzle.answer_b = solutionb"
   ]
  },
  {
   "cell_type": "markdown",
   "id": "32b16810",
   "metadata": {},
   "source": [
    "## Day 20"
   ]
  },
  {
   "cell_type": "code",
   "execution_count": 943,
   "id": "a54b7497",
   "metadata": {},
   "outputs": [],
   "source": [
    "from aocd.models import Puzzle\n",
    "puzzle = Puzzle(year=2021, day=20)\n",
    "data = puzzle.input_data.split(\"\\n\")\n",
    "import scipy.ndimage as ndimage\n",
    "import functools"
   ]
  },
  {
   "cell_type": "code",
   "execution_count": 938,
   "id": "26b8572d",
   "metadata": {},
   "outputs": [],
   "source": [
    "example = [l.strip() for l in open('day20.example.input').readlines()]"
   ]
  },
  {
   "cell_type": "code",
   "execution_count": 969,
   "id": "775f22a9",
   "metadata": {},
   "outputs": [],
   "source": [
    "def read(data, extend=100):\n",
    "    lines = []\n",
    "    for l in data[2:]:\n",
    "        if l:\n",
    "            lines.append([int(i) for i in l.replace(\".\", \"0\").replace(\"#\", \"1\")])\n",
    "    mp = np.array(lines)\n",
    "    x, y = mp.shape\n",
    "    mask = np.zeros((x+extend*2, y+extend*2))\n",
    "    mask[extend:x+extend, extend:y+extend] = mp\n",
    "    return data[0], mask"
   ]
  },
  {
   "cell_type": "code",
   "execution_count": 963,
   "id": "d71279a8",
   "metadata": {},
   "outputs": [],
   "source": [
    "def solve(data, runs):\n",
    "    footprint = np.array([[1,1,1],\n",
    "                          [1,1,1],\n",
    "                          [1,1,1]])\n",
    "\n",
    "    def filter_func(values):\n",
    "        binary = \"\".join([str(int(i)) for i in values])\n",
    "        return algo[int(binary, 2)] == \"#\"\n",
    "\n",
    "    algo, mp = read(data)\n",
    "    for i in range(runs):\n",
    "        mp = ndimage.generic_filter(mp, filter_func, footprint=footprint, mode='mirror')\n",
    "    return int(sum(sum(mp)))"
   ]
  },
  {
   "cell_type": "code",
   "execution_count": 952,
   "id": "66153b5c",
   "metadata": {},
   "outputs": [],
   "source": [
    "assert solve(example, 2) == 35"
   ]
  },
  {
   "cell_type": "code",
   "execution_count": 966,
   "id": "506e4806",
   "metadata": {},
   "outputs": [
    {
     "data": {
      "text/plain": [
       "5884"
      ]
     },
     "execution_count": 966,
     "metadata": {},
     "output_type": "execute_result"
    }
   ],
   "source": [
    "solutiona = solve(data, 2)\n",
    "solutiona"
   ]
  },
  {
   "cell_type": "code",
   "execution_count": 967,
   "id": "abce63e6",
   "metadata": {},
   "outputs": [
    {
     "name": "stdout",
     "output_type": "stream",
     "text": [
      "\u001b[32mThat's the right answer!  You are one gold star closer to finding the sleigh keys. [Continue to Part Two]\u001b[0m\n"
     ]
    }
   ],
   "source": [
    "puzzle.answer_a = solutiona"
   ]
  },
  {
   "cell_type": "code",
   "execution_count": 970,
   "id": "94660b82",
   "metadata": {},
   "outputs": [],
   "source": [
    "assert solve(example, 50) == 3351"
   ]
  },
  {
   "cell_type": "code",
   "execution_count": 971,
   "id": "f48ff638",
   "metadata": {},
   "outputs": [
    {
     "data": {
      "text/plain": [
       "19043"
      ]
     },
     "execution_count": 971,
     "metadata": {},
     "output_type": "execute_result"
    }
   ],
   "source": [
    "solutionb = solve(data, 50)\n",
    "solutionb"
   ]
  },
  {
   "cell_type": "code",
   "execution_count": 972,
   "id": "ba781085",
   "metadata": {},
   "outputs": [
    {
     "name": "stdout",
     "output_type": "stream",
     "text": [
      "\u001b[32mThat's the right answer!  You are one gold star closer to finding the sleigh keys.You have completed Day 20! You can [Shareon\n",
      "  Twitter\n",
      "Mastodon] this victory or [Return to Your Advent Calendar].\u001b[0m\n"
     ]
    }
   ],
   "source": [
    "puzzle.answer_b = solutionb"
   ]
  },
  {
   "cell_type": "markdown",
   "id": "e16945be",
   "metadata": {},
   "source": [
    "## Day 21"
   ]
  },
  {
   "cell_type": "code",
   "execution_count": 80,
   "id": "af5b7479",
   "metadata": {},
   "outputs": [],
   "source": [
    "from aocd.models import Puzzle\n",
    "puzzle = Puzzle(year=2021, day=21)\n",
    "puzzle.input_data.split(\"\\n\")\n",
    "import itertools\n",
    "import functools\n",
    "from collections import defaultdict"
   ]
  },
  {
   "cell_type": "code",
   "execution_count": 1031,
   "id": "860c35cd",
   "metadata": {},
   "outputs": [],
   "source": [
    "def solve(pos1, pos2):\n",
    "    p1 = 0\n",
    "    p2 = 0\n",
    "    rolls = 0\n",
    "    d = 0\n",
    "    while not any([p1 > 999, p2 > 999]):\n",
    "        s = 0\n",
    "        for i in range(d, d+3):\n",
    "            s += i%100 + 1\n",
    "        rolls += 3\n",
    "        pos1 = ((pos1+s-1) % 10) + 1\n",
    "        p1 += pos1\n",
    "        s = 0\n",
    "        for i in range(d+3, d+6):\n",
    "            s += i%100 + 1\n",
    "        rolls += 3\n",
    "        pos2 = ((pos2+s-1) % 10) + 1\n",
    "        p2 += pos2\n",
    "        d = (d+6)%100\n",
    "    if p1 > p2:\n",
    "        print(f\"Player 1 wins with a score of {p1} after rolling {rolls - 3} times\")\n",
    "        return (p2 - pos2) * (rolls - 3)\n",
    "    print(f\"Player 2 wins with a score of {p2} after rolling {rolls} times\")\n",
    "    return p1 * rolls"
   ]
  },
  {
   "cell_type": "code",
   "execution_count": 1032,
   "id": "7d6a573e",
   "metadata": {},
   "outputs": [
    {
     "name": "stdout",
     "output_type": "stream",
     "text": [
      "Player 1 wins with a score of 1000 after rolling 993 times\n"
     ]
    }
   ],
   "source": [
    "assert solve(4, 8) == 739785"
   ]
  },
  {
   "cell_type": "code",
   "execution_count": 1033,
   "id": "4e0e0c92",
   "metadata": {},
   "outputs": [
    {
     "name": "stdout",
     "output_type": "stream",
     "text": [
      "Player 1 wins with a score of 1000 after rolling 993 times\n"
     ]
    },
    {
     "data": {
      "text/plain": [
       "903630"
      ]
     },
     "execution_count": 1033,
     "metadata": {},
     "output_type": "execute_result"
    }
   ],
   "source": [
    "solutiona = solve(4, 9)\n",
    "solutiona"
   ]
  },
  {
   "cell_type": "code",
   "execution_count": 1034,
   "id": "e895fa14",
   "metadata": {},
   "outputs": [
    {
     "name": "stdout",
     "output_type": "stream",
     "text": [
      "\u001b[32mThat's the right answer!  You are one gold star closer to finding the sleigh keys. [Continue to Part Two]\u001b[0m\n"
     ]
    }
   ],
   "source": [
    "puzzle.answer_a = solutiona"
   ]
  },
  {
   "cell_type": "code",
   "execution_count": 68,
   "id": "28233128",
   "metadata": {},
   "outputs": [],
   "source": [
    "# Magic from https://github.com/Farbfetzen/Advent_of_Code/blob/main/python/2021/day21.py\n",
    "# this was in the same direction as I was trying until I hit max recursion errors too often...\n",
    "# too much magic for myself to accept using it... :) \n",
    "\n",
    "@functools.cache\n",
    "def roll(pos1, p1, pos2, p2):\n",
    "    if p2 > 20:\n",
    "        return 1, 0\n",
    "    win1 = 0\n",
    "    win2 = 0\n",
    "    for rolls in itertools.product((1, 2, 3), repeat=3):\n",
    "        npos1 = (pos1 + sum(rolls) - 1 ) % 10 + 1\n",
    "        np1 = p1 + npos1\n",
    "        wins = roll(pos2, p2, npos1, np1)\n",
    "        win1 += wins[1]\n",
    "        win2 += wins[0]\n",
    "    return win1, win2"
   ]
  },
  {
   "cell_type": "code",
   "execution_count": 86,
   "id": "673d5d4f",
   "metadata": {},
   "outputs": [],
   "source": [
    "dice = {3: 1, 4: 3, 5: 6, 6: 7, 7: 6, 8: 3, 9: 1}\n",
    "\n",
    "def play(game, unis, games, wins):\n",
    "    (pos1, p1), (pos2, p2) = game\n",
    "    for d1, u1 in dice.items():\n",
    "        npos1 = (pos1 + d1 - 1) % 10 + 1\n",
    "        np1 = p1 + npos1\n",
    "        if np1 > 20:\n",
    "            wins[0] += u1 * unis\n",
    "        else:\n",
    "            for d2, u2 in dice.items():\n",
    "                npos2 = (pos2 + d2 - 1 ) % 10 + 1\n",
    "                np2 = p2 + npos2\n",
    "                if np2 > 20:\n",
    "                    wins[1] += u2 * u1 * unis\n",
    "                else:\n",
    "                    games[((npos1, np1), (npos2, np2))] += u1 * u2 * unis\n",
    "    return games, wins\n",
    "                \n",
    "\n",
    "def solveb(pos1, pos2):\n",
    "    games = {((pos1, 0), (pos2, 0)): 1}\n",
    "    wins = [0, 0]\n",
    "    while games:\n",
    "        new_games = defaultdict(int)\n",
    "        for game, unis in games.items():\n",
    "            new_games, wins = play(game, unis, new_games, wins)\n",
    "        games = new_games\n",
    "    return max(wins)"
   ]
  },
  {
   "cell_type": "code",
   "execution_count": 87,
   "id": "8498dfe8",
   "metadata": {},
   "outputs": [],
   "source": [
    "assert solveb(4, 8) == 444356092776315"
   ]
  },
  {
   "cell_type": "code",
   "execution_count": 88,
   "id": "8c2de1ca",
   "metadata": {},
   "outputs": [
    {
     "data": {
      "text/plain": [
       "303121579983974"
      ]
     },
     "execution_count": 88,
     "metadata": {},
     "output_type": "execute_result"
    }
   ],
   "source": [
    "solutionb = solveb(4, 9)\n",
    "solutionb"
   ]
  },
  {
   "cell_type": "code",
   "execution_count": 89,
   "id": "d7568920",
   "metadata": {},
   "outputs": [
    {
     "name": "stdout",
     "output_type": "stream",
     "text": [
      "\u001b[32mThat's the right answer!  You are one gold star closer to finding the sleigh keys.You have completed Day 21! You can [Shareon\n",
      "  Twitter\n",
      "Mastodon] this victory or [Return to Your Advent Calendar].\u001b[0m\n"
     ]
    }
   ],
   "source": [
    "puzzle.answer_b = solutionb"
   ]
  },
  {
   "cell_type": "markdown",
   "id": "a78bc2ce",
   "metadata": {},
   "source": [
    "## Day 22"
   ]
  },
  {
   "cell_type": "code",
   "execution_count": 4,
   "id": "b211f590",
   "metadata": {},
   "outputs": [],
   "source": [
    "from aocd.models import Puzzle\n",
    "puzzle = Puzzle(year=2021, day=22)\n",
    "data = puzzle.input_data.split(\"\\n\")\n",
    "import numpy as np\n",
    "import re\n",
    "import itertools"
   ]
  },
  {
   "cell_type": "code",
   "execution_count": 5,
   "id": "647c5fc9",
   "metadata": {},
   "outputs": [],
   "source": [
    "example1 = [l.strip() for l in open('day22.example1.input').readlines()]\n",
    "example2 = [l.strip() for l in open('day22.example2.input').readlines()]"
   ]
  },
  {
   "cell_type": "code",
   "execution_count": 6,
   "id": "9ab3d883",
   "metadata": {},
   "outputs": [],
   "source": [
    "def read(data):\n",
    "    steps = []\n",
    "    m = re.compile(r'(?P<switch>on|off) x=(?P<xmin>-?\\d+)..(?P<xmax>-?\\d+),y=(?P<ymin>-?\\d+)..(?P<ymax>-?\\d+),z=(?P<zmin>-?\\d+)..(?P<zmax>-?\\d+)')\n",
    "    for line in data:\n",
    "        step = m.match(line).groupdict()\n",
    "        for k, v in step.items():\n",
    "            if \"m\" in k:\n",
    "                step[k] = int(v)\n",
    "        steps.append(step)\n",
    "    return steps"
   ]
  },
  {
   "cell_type": "code",
   "execution_count": 47,
   "id": "85581feb",
   "metadata": {},
   "outputs": [],
   "source": [
    "def filter_steps(steps):\n",
    "    for s in steps.copy():\n",
    "        if any(\n",
    "            [i < -50 for i in [s[\"xmin\"], s[\"ymin\"], s[\"zmin\"]]]\\\n",
    "            + [a > 50 for a in [s[\"xmax\"], s[\"ymax\"], s[\"zmax\"]]]\n",
    "        ):\n",
    "            steps.remove(s)\n",
    "    return steps\n",
    "\n",
    "def solve(data):\n",
    "    steps = read(data)\n",
    "    steps = filter_steps(steps)\n",
    "    base = np.zeros((101, 101, 101))\n",
    "    for s in steps:\n",
    "        switch = 0 if s[\"switch\"] == \"off\" else 1\n",
    "        base[s[\"xmin\"]+50:s[\"xmax\"]+51,s[\"ymin\"]+50:s[\"ymax\"]+51,s[\"zmin\"]+50:s[\"zmax\"]+51] = switch\n",
    "    return int(sum(sum(sum(base))))"
   ]
  },
  {
   "cell_type": "code",
   "execution_count": 48,
   "id": "2c22dace",
   "metadata": {},
   "outputs": [],
   "source": [
    "assert solve(example1) == 39\n",
    "assert solve(example2) == 590784"
   ]
  },
  {
   "cell_type": "code",
   "execution_count": 51,
   "id": "4fb7fe98",
   "metadata": {},
   "outputs": [
    {
     "data": {
      "text/plain": [
       "543306"
      ]
     },
     "execution_count": 51,
     "metadata": {},
     "output_type": "execute_result"
    }
   ],
   "source": [
    "solutiona = solve(data)\n",
    "solutiona"
   ]
  },
  {
   "cell_type": "code",
   "execution_count": 52,
   "id": "fb766165",
   "metadata": {},
   "outputs": [
    {
     "name": "stdout",
     "output_type": "stream",
     "text": [
      "\u001b[32mThat's the right answer!  You are one gold star closer to finding the sleigh keys. [Continue to Part Two]\u001b[0m\n"
     ]
    }
   ],
   "source": [
    "puzzle.answer_a = solutiona"
   ]
  },
  {
   "cell_type": "code",
   "execution_count": 127,
   "id": "0ba7081a",
   "metadata": {},
   "outputs": [],
   "source": [
    "class Cube:\n",
    "\n",
    "    @classmethod\n",
    "    def from_step(cls, step: dict):\n",
    "        c = cls()\n",
    "        c.x1 = step[\"xmin\"]\n",
    "        c.x2 = step[\"xmax\"]\n",
    "        c.y1 = step[\"ymin\"]\n",
    "        c.y2 = step[\"ymax\"]\n",
    "        c.z1 = step[\"zmin\"]\n",
    "        c.z2 = step[\"zmax\"]\n",
    "        c.switch = 1 if step[\"switch\"] == \"on\" else 0\n",
    "        return c\n",
    "    \n",
    "    @staticmethod\n",
    "    def is_cube(t):\n",
    "        return t[0] <= t[1] and t[2] <= t[3] and t[4] <= t[5]\n",
    "    \n",
    "    @classmethod\n",
    "    def cubelet(cls, t):\n",
    "        c = cls()\n",
    "        c.x1 = t[0]\n",
    "        c.x2 = t[1]\n",
    "        c.y1 = t[2]\n",
    "        c.y2 = t[3]\n",
    "        c.z1 = t[4]\n",
    "        c.z2 = t[5]\n",
    "        c.switch = 1\n",
    "        return c\n",
    "        \n",
    "    def overlaps(self, cube):\n",
    "        x_overlap = any((self.x1 > cube.x2, self.x2 < cube.x1)) == False\n",
    "        y_overlap = any((self.y1 > cube.y2, self.y2 < cube.y1)) == False\n",
    "        z_overlap = any((self.z1 > cube.z2, self.z2 < cube.z1)) == False\n",
    "        return all([x_overlap, y_overlap, z_overlap])\n",
    "    \n",
    "    def recube(self, cube):\n",
    "        # split self in subcubes after removing the overlap with the provided cube\n",
    "        cubelets = []\n",
    "        dims = [\n",
    "            (self.x1, cube.x1-1, self.y1, self.y2, self.z1, self.z2),\n",
    "            (max(cube.x1, self.x1), self.x2, self.y1, cube.y1-1, self.z1, self.z2),\n",
    "            (max(cube.x1, self.x1), self.x2, max(cube.y1, self.y1), self.y2, self.z1, cube.z1-1),\n",
    "            (cube.x2+1, self.x2, max(self.y1, cube.y1), self.y2, max(self.z1, cube.z1), self.z2),\n",
    "            (max(cube.x1, self.x1), min(self.x2, cube.x2), cube.y2+1, self.y2, max(cube.z1, self.z1), self.z2),\n",
    "            (max(cube.x1, self.x1), min(self.x2, cube.x2), max(self.y1, cube.y1), min(cube.y2, self.y2), cube.z2+1, self.z2)\n",
    "        ]\n",
    "        for i, dim in enumerate(dims):\n",
    "            if Cube.is_cube(dim):\n",
    "                cubelets.append(Cube.cubelet(dim))\n",
    "        return cubelets\n",
    "    \n",
    "    def count(self):\n",
    "        x = self.x2 - self.x1 + 1\n",
    "        y = self.y2 - self.y1 + 1\n",
    "        z = self.z2 - self.z1 + 1\n",
    "        return x*y*z\n",
    "    \n",
    "    def __str__(self):\n",
    "        return f\"({self.x1},{self.x2}) ({self.y1},{self.y2}) ({self.z1},{self.z2})\"\n",
    "    \n",
    "def solveb(data):\n",
    "    steps = read(data)\n",
    "    cubes = [Cube.from_step(step) for step in steps]\n",
    "    processed = []\n",
    "    for i, cube in enumerate(cubes):\n",
    "        new = []\n",
    "        for p in processed:\n",
    "            if p.overlaps(cube):\n",
    "                cubelets = p.recube(cube)\n",
    "                new.extend(cubelets)\n",
    "            else:\n",
    "                new.append(p)\n",
    "        if cube.switch == 1:\n",
    "            new.append(cube)\n",
    "        processed = new\n",
    "\n",
    "    return sum([p.count() for p in processed if p.switch == 1])"
   ]
  },
  {
   "cell_type": "code",
   "execution_count": 139,
   "id": "65786bc1",
   "metadata": {},
   "outputs": [],
   "source": [
    "assert solveb(example1) == 39\n",
    "assert solveb(example2[:-2]) == 590784"
   ]
  },
  {
   "cell_type": "code",
   "execution_count": 135,
   "id": "cc12a196",
   "metadata": {},
   "outputs": [],
   "source": [
    "example3 = [l.strip() for l in open('day22.example3.input').readlines()]"
   ]
  },
  {
   "cell_type": "code",
   "execution_count": 141,
   "id": "a9b2b1ce",
   "metadata": {},
   "outputs": [],
   "source": [
    "assert solveb(example3) == 2758514936282235"
   ]
  },
  {
   "cell_type": "code",
   "execution_count": 142,
   "id": "77e3ee77",
   "metadata": {},
   "outputs": [
    {
     "data": {
      "text/plain": [
       "1285501151402480"
      ]
     },
     "execution_count": 142,
     "metadata": {},
     "output_type": "execute_result"
    }
   ],
   "source": [
    "solutionb = solveb(data)\n",
    "solutionb"
   ]
  },
  {
   "cell_type": "code",
   "execution_count": 143,
   "id": "73e10bab",
   "metadata": {},
   "outputs": [
    {
     "name": "stdout",
     "output_type": "stream",
     "text": [
      "\u001b[32mThat's the right answer!  You are one gold star closer to finding the sleigh keys.You have completed Day 22! You can [Shareon\n",
      "  Twitter\n",
      "Mastodon] this victory or [Return to Your Advent Calendar].\u001b[0m\n"
     ]
    }
   ],
   "source": [
    "puzzle.answer_b = solutionb"
   ]
  },
  {
   "cell_type": "markdown",
   "id": "2938de37",
   "metadata": {},
   "source": [
    "## Day 23"
   ]
  },
  {
   "cell_type": "code",
   "execution_count": 313,
   "id": "200d6531",
   "metadata": {},
   "outputs": [],
   "source": [
    "from aocd.models import Puzzle\n",
    "puzzle = Puzzle(year=2021, day=23)\n",
    "data = puzzle.input_data.split(\"\\n\")\n",
    "import itertools\n",
    "from copy import deepcopy"
   ]
  },
  {
   "cell_type": "code",
   "execution_count": 146,
   "id": "a0fa86a8",
   "metadata": {},
   "outputs": [
    {
     "data": {
      "text/plain": [
       "['#############',\n",
       " '#...........#',\n",
       " '###A#D#C#A###',\n",
       " '  #C#D#B#B#',\n",
       " '  #########']"
      ]
     },
     "execution_count": 146,
     "metadata": {},
     "output_type": "execute_result"
    }
   ],
   "source": [
    "data"
   ]
  },
  {
   "cell_type": "code",
   "execution_count": 464,
   "id": "6f096fb6",
   "metadata": {},
   "outputs": [],
   "source": [
    "class Amph:\n",
    "    name: str\n",
    "    cost: int\n",
    "    homey: int\n",
    "    position: tuple\n",
    "    energy: int = 0\n",
    "    moves: int = 0\n",
    "    \n",
    "    def __init__(self, position):\n",
    "        self.position = position\n",
    "    \n",
    "    @property\n",
    "    def is_home(self):\n",
    "        return self.position[1] == self.homey\n",
    "    \n",
    "    def move(self, position):\n",
    "        self.energy += (abs(position[0]-self.position[0])+abs(position[1]-self.position[1])) * self.cost\n",
    "        self.position = position        \n",
    "        self.moves += 1\n",
    "    \n",
    "    def available_positions(self, game) -> list:\n",
    "        if self.moves == 2:\n",
    "            return []\n",
    "        \n",
    "        if self.moves == 1: # has moved, can only return to its own room\n",
    "            if game.room_available(self.homey):\n",
    "                if not game.occupied((2, self.homey)):\n",
    "                    return [(2, self.homey)]\n",
    "                else:\n",
    "                    return [(1, self.homey)]\n",
    "            else:\n",
    "                return []\n",
    "        \n",
    "        if self.position[0] == 2 and game.occupied((1, self.position[1])): # locked by amphipod above\n",
    "            return []\n",
    "\n",
    "        positions = []\n",
    "        y = self.homey-1\n",
    "        while (0, y) in game.positions and not game.occupied((0, y)):\n",
    "            if (0, y) not in game.transfer_positions:\n",
    "                positions.append((0, y))\n",
    "            y -= 1\n",
    "        y = self.homey + 1\n",
    "        while (0, y) in game.positions and not game.occupied((0, y)):\n",
    "            if (0, y) not in game.transfer_positions:\n",
    "                positions.append((0, y))\n",
    "            y += 1\n",
    "        return positions\n",
    "    \n",
    "    def at_home(self) -> bool:\n",
    "        return self.position[1] == self.homey\n",
    "\n",
    "    def __str__(self):\n",
    "        return f\"{self.name} @ ({self.position[0]},{self.position[1]}) - energy: {self.energy}\"\n",
    "    \n",
    "class Amber(Amph):\n",
    "    name = \"Amber\"\n",
    "    short = \"A\"\n",
    "    cost = 1\n",
    "    homey = 2\n",
    "    \n",
    "class Bronze(Amph):\n",
    "    name = \"Bronze\"\n",
    "    short = \"B\"\n",
    "    cost = 10\n",
    "    homey = 4\n",
    "    \n",
    "class Copper(Amph):\n",
    "    name = \"Copper\"\n",
    "    short = \"C\"\n",
    "    cost = 100\n",
    "    homey = 6\n",
    "\n",
    "class Desert(Amph):\n",
    "    name = \"Desert\"\n",
    "    short = \"D\"\n",
    "    cost = 1000\n",
    "    homey = 8\n",
    "\n",
    "class Game:\n",
    "    positions= [\n",
    "        (0, 0),\n",
    "        (0, 1),\n",
    "        (0, 2),\n",
    "        (0, 3),\n",
    "        (0, 4),\n",
    "        (0, 5),\n",
    "        (0, 6),\n",
    "        (0, 7),\n",
    "        (0, 8),\n",
    "        (0, 9),\n",
    "        (0, 10),\n",
    "        (1, 2),\n",
    "        (2, 2),\n",
    "        (1, 4),\n",
    "        (2, 4),\n",
    "        (1, 6),\n",
    "        (2, 6),\n",
    "        (1, 8),\n",
    "        (2, 8)\n",
    "    ]\n",
    "    transfer_positions = [\n",
    "        (0, 2),\n",
    "        (0, 4), \n",
    "        (0, 6),\n",
    "        (0, 8)\n",
    "    ]\n",
    "        \n",
    "    def __init__(self, data):\n",
    "        self.amphipods = []\n",
    "        mp = []\n",
    "        for d in data:\n",
    "            for c in [\"A\", \"B\", \"C\", \"D\"]:\n",
    "                d = d.replace(c, \".\")\n",
    "            mp.append(d)\n",
    "        self.empty = [list(d) for d in mp]\n",
    "    \n",
    "    @property\n",
    "    def mapping(self):\n",
    "        e = self.empty.copy()\n",
    "        for amph in self.amphipods:\n",
    "            e[amph.position[0]+1][amph.position[1]+1] = amph.short\n",
    "        return e\n",
    "    \n",
    "    @property\n",
    "    def data(self):\n",
    "        return [\"\".join(e) for e in self.mapping]\n",
    "    \n",
    "    @classmethod\n",
    "    def from_data(cls, data):\n",
    "        game = cls(data)\n",
    "        for row in [1, 2, 3]:\n",
    "            for i, c in enumerate(data[row]):\n",
    "                if c == \"A\":\n",
    "                    game.add_amphipod(Amber((row-1, i-1)))\n",
    "                if c == \"B\":\n",
    "                    game.add_amphipod(Bronze((row-1, i-1)))\n",
    "                if c == \"C\":\n",
    "                    game.add_amphipod(Copper((row-1, i-1)))\n",
    "                if c == \"D\":\n",
    "                    game.add_amphipod(Desert((row-1, i-1)))\n",
    "        return game        \n",
    "    \n",
    "    def add_amphipod(self, amphipod):\n",
    "        self.amphipods.append(amphipod)\n",
    "    \n",
    "    def occupied(self, position) -> bool:\n",
    "        return any([position == a.position for a in self.amphipods])\n",
    "    \n",
    "    def get_amphipod(self, position):\n",
    "        for amph in self.amphipods:\n",
    "            if amph.position == position:\n",
    "                return amph\n",
    "    \n",
    "    def room_available(self, homey) -> False:\n",
    "        for amph in self.amphipods:\n",
    "            if amph.position[1] == homey and not amph.at_home():\n",
    "                return False  # another amphipod is still in the room\n",
    "        return self.occupied((1, homey)) == False\n",
    "    \n",
    "    @property\n",
    "    def finished(self):\n",
    "        return all([amph.is_home for amph in self.amphipods])\n",
    "\n",
    "    def energy(self):\n",
    "        return sum([amph.energy for amph in self.amphipods])\n",
    "    \n",
    "    def __str__(self):\n",
    "        return \"\\n\".join([\"\".join(d) for d in self.mapping])"
   ]
  },
  {
   "cell_type": "code",
   "execution_count": 474,
   "id": "a63d0889",
   "metadata": {},
   "outputs": [],
   "source": [
    "def solve(data):\n",
    "    games = [Game.from_data(data)]\n",
    "    min_energy = 0\n",
    "    finished_games = []\n",
    "    while games:\n",
    "        new_games = []\n",
    "        for game in games:\n",
    "            if finished_games and game.energy() > min_energy:\n",
    "                continue\n",
    "            moves = []\n",
    "            for amph in game.amphipods:\n",
    "                for position in amph.available_positions(game):\n",
    "                    moves.append((amph.position, position))\n",
    "#             print(f\"Detected {len(moves)} possible moves\")\n",
    "            for current_position, new_position in moves:\n",
    "                g = Game.from_data(game.data)\n",
    "                moved = False\n",
    "                for amph in g.amphipods:\n",
    "                    if amph.position == current_position:\n",
    "                        amph.move(new_position)\n",
    "                        moved = True\n",
    "                if not moved:\n",
    "                    print(\"ohoh\")\n",
    "                if g.finished:\n",
    "                    print(\"Finished a game!\")\n",
    "                    finished_games.append(g)\n",
    "                else:\n",
    "                    new_games.append(g)\n",
    "#             print(f\"There are {len(new_games)} new games and {len(finished_games)} finished games\")\n",
    "\n",
    "        games = new_games\n",
    "        print(f\"Playing {len(games)} games\")\n",
    "        if len(games)> 10000:\n",
    "            return games\n",
    "        if finished_games:\n",
    "            min_energy = min([game.energy() for game in finished_games])\n",
    "    return min([game.energy() for game in finished_games])\n",
    "    "
   ]
  },
  {
   "cell_type": "code",
   "execution_count": 475,
   "id": "7ea73ac9",
   "metadata": {},
   "outputs": [],
   "source": [
    "example = [l.strip(\"\\n\") for l in open('day23.example.input').readlines()]"
   ]
  },
  {
   "cell_type": "code",
   "execution_count": 476,
   "id": "6c8ce099",
   "metadata": {},
   "outputs": [
    {
     "name": "stdout",
     "output_type": "stream",
     "text": [
      "Playing 28 games\n",
      "Playing 516 games\n",
      "Playing 7438 games\n",
      "Playing 84191 games\n"
     ]
    }
   ],
   "source": [
    "a = solve(example)"
   ]
  },
  {
   "cell_type": "code",
   "execution_count": 478,
   "id": "23c6d539",
   "metadata": {},
   "outputs": [],
   "source": [
    "g = Game.from_data(a[0].data)"
   ]
  },
  {
   "cell_type": "code",
   "execution_count": 479,
   "id": "1bda39b3",
   "metadata": {},
   "outputs": [
    {
     "name": "stdout",
     "output_type": "stream",
     "text": [
      "#############\n",
      "#.A.B.C.D...#\n",
      "###.#.#B#.###\n",
      "  #.#D#C#A#\n",
      "  #########\n"
     ]
    }
   ],
   "source": [
    "print(g)"
   ]
  },
  {
   "cell_type": "code",
   "execution_count": 486,
   "id": "6b077043",
   "metadata": {},
   "outputs": [
    {
     "name": "stdout",
     "output_type": "stream",
     "text": [
      "Amber @ (0,1) - energy: 0\n",
      "[]\n",
      "Bronze @ (0,3) - energy: 0\n",
      "[]\n",
      "Copper @ (0,5) - energy: 0\n",
      "[]\n",
      "Desert @ (0,7) - energy: 0\n",
      "[(0, 9), (0, 10)]\n",
      "Bronze @ (1,6) - energy: 0\n",
      "[]\n",
      "Desert @ (2,4) - energy: 0\n",
      "[(0, 9), (0, 10)]\n",
      "Copper @ (2,6) - energy: 0\n",
      "[]\n",
      "Amber @ (2,8) - energy: 0\n",
      "[]\n"
     ]
    }
   ],
   "source": [
    "for a in g.amphipods:\n",
    "    print(a)\n",
    "    print(a.available_positions(g))"
   ]
  },
  {
   "cell_type": "code",
   "execution_count": 481,
   "id": "089d49b2",
   "metadata": {},
   "outputs": [
    {
     "name": "stdout",
     "output_type": "stream",
     "text": [
      "Amber @ (0,1) - energy: 0\n",
      "Bronze @ (0,3) - energy: 0\n",
      "Copper @ (0,5) - energy: 0\n",
      "Desert @ (0,7) - energy: 0\n",
      "Bronze @ (1,6) - energy: 0\n",
      "Desert @ (2,4) - energy: 0\n",
      "Copper @ (2,6) - energy: 0\n",
      "Amber @ (2,8) - energy: 0\n"
     ]
    }
   ],
   "source": [
    "for a in g.amphipods:\n",
    "    print(a)"
   ]
  },
  {
   "cell_type": "code",
   "execution_count": 477,
   "id": "cc479d84",
   "metadata": {},
   "outputs": [
    {
     "name": "stdout",
     "output_type": "stream",
     "text": [
      "#############\n",
      "#.A.B.C.D...#\n",
      "###.#.#B#.###\n",
      "  #.#D#C#A#\n",
      "  #########\n",
      "#############\n",
      "#A..B.C.D...#\n",
      "###.#.#B#.###\n",
      "  #.#D#C#A#\n",
      "  #########\n",
      "#############\n",
      "#...B.C.D.D.#\n",
      "###.#.#B#.###\n",
      "  #A#.#C#A#\n",
      "  #########\n",
      "#############\n",
      "#...B.C.D..D#\n",
      "###.#.#B#.###\n",
      "  #A#.#C#A#\n",
      "  #########\n",
      "#############\n",
      "#.A.B.C.D...#\n",
      "###.#.#B#.###\n",
      "  #A#D#C#.#\n",
      "  #########\n",
      "#############\n",
      "#A..B.C.D...#\n",
      "###.#.#B#.###\n",
      "  #A#D#C#.#\n",
      "  #########\n",
      "#############\n",
      "#...B...C.D.#\n",
      "###.#.#B#.###\n",
      "  #A#D#C#A#\n",
      "  #########\n",
      "#############\n",
      "#.A.B.C...D.#\n",
      "###.#.#B#.###\n",
      "  #.#D#C#A#\n",
      "  #########\n",
      "#############\n",
      "#A..B.C...D.#\n",
      "###.#.#B#.###\n",
      "  #.#D#C#A#\n",
      "  #########\n",
      "#############\n",
      "#...B.C.D.D.#\n",
      "###.#.#B#.###\n",
      "  #A#.#C#A#\n",
      "  #########\n"
     ]
    }
   ],
   "source": [
    "for g in a[:10]:\n",
    "    print(g)"
   ]
  },
  {
   "cell_type": "code",
   "execution_count": null,
   "id": "305c2257",
   "metadata": {},
   "outputs": [],
   "source": []
  },
  {
   "cell_type": "code",
   "execution_count": 442,
   "id": "c8f24190",
   "metadata": {},
   "outputs": [],
   "source": [
    "def solve(data):\n",
    "    game = read(data)\n",
    "    games = []\n",
    "    moves = []\n",
    "    for amph in game.amphipods:\n",
    "        for position in amph.available_positions(game):\n",
    "            moves.append((amph.position, position))\n",
    "    print(f\"Found {len(moves)} available moves\")\n",
    "    for move in moves:\n",
    "        g = Game.from_data(game.data)\n",
    "        for amph in g.amphipods:\n",
    "            if amph.position == move[0]:\n",
    "                amph.move(move[1])\n",
    "        games.append(g)\n",
    "    return games\n",
    "    "
   ]
  },
  {
   "cell_type": "code",
   "execution_count": null,
   "id": "fadae179",
   "metadata": {},
   "outputs": [],
   "source": []
  },
  {
   "cell_type": "code",
   "execution_count": null,
   "id": "d6cba582",
   "metadata": {},
   "outputs": [],
   "source": []
  }
 ],
 "metadata": {
  "kernelspec": {
   "display_name": "Python 3 (ipykernel)",
   "language": "python",
   "name": "python3"
  },
  "language_info": {
   "codemirror_mode": {
    "name": "ipython",
    "version": 3
   },
   "file_extension": ".py",
   "mimetype": "text/x-python",
   "name": "python",
   "nbconvert_exporter": "python",
   "pygments_lexer": "ipython3",
   "version": "3.9.8"
  }
 },
 "nbformat": 4,
 "nbformat_minor": 5
}
